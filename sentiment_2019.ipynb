{
 "cells": [
  {
   "cell_type": "markdown",
   "metadata": {},
   "source": [
    "## Model and prediction together"
   ]
  },
  {
   "cell_type": "markdown",
   "metadata": {},
   "source": [
    "Good ref:   \n",
    "    https://towardsdatascience.com/application-of-rnn-for-customer-review-sentiment-analysis-178fa82e9aaf"
   ]
  },
  {
   "cell_type": "code",
   "execution_count": 100,
   "metadata": {},
   "outputs": [
    {
     "name": "stdout",
     "output_type": "stream",
     "text": [
      "2.2.4\n",
      "1.11.0\n"
     ]
    }
   ],
   "source": [
    "import keras\n",
    "print(keras.__version__)\n",
    "\n",
    "import tensorflow as tf\n",
    "print(tf.__version__)"
   ]
  },
  {
   "cell_type": "markdown",
   "metadata": {},
   "source": [
    "## Lazada test data"
   ]
  },
  {
   "cell_type": "code",
   "execution_count": 1,
   "metadata": {},
   "outputs": [
    {
     "data": {
      "text/html": [
       "<div>\n",
       "<style>\n",
       "    .dataframe thead tr:only-child th {\n",
       "        text-align: right;\n",
       "    }\n",
       "\n",
       "    .dataframe thead th {\n",
       "        text-align: left;\n",
       "    }\n",
       "\n",
       "    .dataframe tbody tr th {\n",
       "        vertical-align: top;\n",
       "    }\n",
       "</style>\n",
       "<table border=\"1\" class=\"dataframe\">\n",
       "  <thead>\n",
       "    <tr style=\"text-align: right;\">\n",
       "      <th></th>\n",
       "      <th>review</th>\n",
       "      <th>sentiment</th>\n",
       "    </tr>\n",
       "  </thead>\n",
       "  <tbody>\n",
       "    <tr>\n",
       "      <th>0</th>\n",
       "      <td>Received item really fast. item was genuine an...</td>\n",
       "      <td>1</td>\n",
       "    </tr>\n",
       "    <tr>\n",
       "      <th>1</th>\n",
       "      <td>Super fast delivery and item looks exactly lik...</td>\n",
       "      <td>1</td>\n",
       "    </tr>\n",
       "    <tr>\n",
       "      <th>2</th>\n",
       "      <td>A bit picky...need to wear inner layer before ...</td>\n",
       "      <td>0</td>\n",
       "    </tr>\n",
       "    <tr>\n",
       "      <th>3</th>\n",
       "      <td>Definitely will recommend to others</td>\n",
       "      <td>1</td>\n",
       "    </tr>\n",
       "    <tr>\n",
       "      <th>4</th>\n",
       "      <td>Material is good recommended</td>\n",
       "      <td>1</td>\n",
       "    </tr>\n",
       "  </tbody>\n",
       "</table>\n",
       "</div>"
      ],
      "text/plain": [
       "                                              review  sentiment\n",
       "0  Received item really fast. item was genuine an...          1\n",
       "1  Super fast delivery and item looks exactly lik...          1\n",
       "2  A bit picky...need to wear inner layer before ...          0\n",
       "3                Definitely will recommend to others          1\n",
       "4                       Material is good recommended          1"
      ]
     },
     "execution_count": 1,
     "metadata": {},
     "output_type": "execute_result"
    }
   ],
   "source": [
    "import pandas as pd\n",
    "\n",
    "df = pd.read_csv(\"lazada_labelled.csv\")\n",
    "df2 = df[[\"review\", \"sentiment\"]]\n",
    "df2.head()"
   ]
  },
  {
   "cell_type": "markdown",
   "metadata": {},
   "source": [
    "## Mongodb predict data"
   ]
  },
  {
   "cell_type": "code",
   "execution_count": 2,
   "metadata": {},
   "outputs": [
    {
     "data": {
      "text/plain": [
       "6696"
      ]
     },
     "execution_count": 2,
     "metadata": {},
     "output_type": "execute_result"
    }
   ],
   "source": [
    "from pymongo import MongoClient\n",
    "import pandas as pd\n",
    "from bson.objectid import ObjectId\n",
    "\n",
    "client = MongoClient()\n",
    "db = client.seasalt\n",
    "collection = db.shopee\n",
    "\n",
    "# test\n",
    "test = collection.find({\"$and\": [{\"product_breadcrumb\": \"Women's Apparel\"}, {\"product_review\":{\"$ne\":[] }}]}, {\"product_name\": 1, \"product_breadcrumb\": 1, \"product_id\": 1, \"product_review\": 1})\n",
    "data2 = []\n",
    "for x in test:\n",
    "    data2.append(x)\n",
    "len(data2)"
   ]
  },
  {
   "cell_type": "markdown",
   "metadata": {},
   "source": [
    "# top 10 products"
   ]
  },
  {
   "cell_type": "code",
   "execution_count": 3,
   "metadata": {},
   "outputs": [
    {
     "name": "stdout",
     "output_type": "stream",
     "text": [
      "[2188, 2194, 2128, 2101, 5566, 2147, 5484, 4585, 2109, 4551]\n",
      "[2078, 694, 689, 594, 529, 462, 295, 256, 237, 196]\n",
      "1   READY STOCK ！ oversized tee basic t-shirts koreanfashion simple white blouse \n",
      "2   Ready STOCK！hot sale loose short sleeves show slim summer girl \n",
      "3   [READY STOCK] (Best Seller!!) JYUNEESG'S Loose fit Basic High Neck TOP \n",
      "4   7 color optional Ready Stock！Retro Loose Speaker Sleeve Round Long Sleeve TShirt \n",
      "5   ⭐️BUY 4 FREE 1⭐️MUNAFIE SEAMLESS SLIMMING PANTIES⭐️ \n",
      "6   White shirt female long sleeve han fan wide loose south Korean shirt \n",
      "7   Silicone Nipple Cover Sticker Pads Shields Guard for Gown \n",
      "8   MONTIFS Strap Culottes - Multi Color \n",
      "9   [READY STOK] BL-B-06 Knitted Turtle Neck T-Shirt Top \n",
      "10   ✨HOT Women Warm Winter Thick Footless Tights Skinny Slim Leggings Stretch Pants \n"
     ]
    }
   ],
   "source": [
    "\n",
    "ll = [len(x['product_review']) for x in data2]\n",
    "idx = sorted(range(len(ll)), reverse = True, key=ll.__getitem__)[:10]\n",
    "print(idx)\n",
    "\n",
    "amt = sorted(ll, reverse = True)[:10]\n",
    "print(amt)\n",
    "\n",
    "prd = [data2[x]['product_name'] for x in idx]\n",
    "# print(prd)\n",
    "for i in range(len(prd)):\n",
    "    print(i+1, \" \", prd[i], \"\")"
   ]
  },
  {
   "cell_type": "code",
   "execution_count": 53,
   "metadata": {},
   "outputs": [
    {
     "data": {
      "text/plain": [
       "(6696,)"
      ]
     },
     "execution_count": 53,
     "metadata": {},
     "output_type": "execute_result"
    }
   ],
   "source": [
    "df_len = pd.Series(ll)\n",
    "df_len.shape"
   ]
  },
  {
   "cell_type": "code",
   "execution_count": 55,
   "metadata": {},
   "outputs": [
    {
     "data": {
      "text/plain": [
       "(408,)"
      ]
     },
     "execution_count": 55,
     "metadata": {},
     "output_type": "execute_result"
    }
   ],
   "source": [
    "df_len[df_len>=20].shape"
   ]
  },
  {
   "cell_type": "markdown",
   "metadata": {},
   "source": [
    "## Get review from top 10 "
   ]
  },
  {
   "cell_type": "code",
   "execution_count": 7,
   "metadata": {
    "collapsed": true
   },
   "outputs": [],
   "source": [
    "tmp = data2[4551]"
   ]
  },
  {
   "cell_type": "code",
   "execution_count": 11,
   "metadata": {},
   "outputs": [
    {
     "data": {
      "text/plain": [
       "dict_keys(['_id', 'product_review', 'product_breadcrumb', 'product_name', 'product_id'])"
      ]
     },
     "execution_count": 11,
     "metadata": {},
     "output_type": "execute_result"
    }
   ],
   "source": [
    "tmp.keys()"
   ]
  },
  {
   "cell_type": "code",
   "execution_count": 43,
   "metadata": {},
   "outputs": [
    {
     "data": {
      "text/plain": [
       "'220762495'"
      ]
     },
     "execution_count": 43,
     "metadata": {},
     "output_type": "execute_result"
    }
   ],
   "source": [
    "tmp['product_id']"
   ]
  },
  {
   "cell_type": "code",
   "execution_count": 12,
   "metadata": {},
   "outputs": [
    {
     "data": {
      "text/plain": [
       "{'buyer_name': 'jacquelinek',\n",
       " 'buyer_rating': 0,\n",
       " 'buyer_review': 'Poor product quality',\n",
       " 'product_variant': 'black',\n",
       " 'review_date': '2017-11-18 23:35'}"
      ]
     },
     "execution_count": 12,
     "metadata": {},
     "output_type": "execute_result"
    }
   ],
   "source": [
    "tmp['product_review'][100]"
   ]
  },
  {
   "cell_type": "code",
   "execution_count": 14,
   "metadata": {},
   "outputs": [
    {
     "data": {
      "text/plain": [
       "10"
      ]
     },
     "execution_count": 14,
     "metadata": {},
     "output_type": "execute_result"
    }
   ],
   "source": [
    "data_out = []\n",
    "for i in idx:\n",
    "    data_out.append(data2[i])\n",
    "len(data_out)    "
   ]
  },
  {
   "cell_type": "code",
   "execution_count": 16,
   "metadata": {},
   "outputs": [
    {
     "data": {
      "text/plain": [
       "689"
      ]
     },
     "execution_count": 16,
     "metadata": {},
     "output_type": "execute_result"
    }
   ],
   "source": [
    "len(data_out[2]['product_review'])"
   ]
  },
  {
   "cell_type": "code",
   "execution_count": 17,
   "metadata": {},
   "outputs": [
    {
     "data": {
      "text/plain": [
       "list"
      ]
     },
     "execution_count": 17,
     "metadata": {},
     "output_type": "execute_result"
    }
   ],
   "source": [
    "type(data_out)"
   ]
  },
  {
   "cell_type": "code",
   "execution_count": 19,
   "metadata": {
    "collapsed": true
   },
   "outputs": [],
   "source": [
    "import pickle\n",
    "\n",
    "with open('shopee_review_top10.pkl', 'wb') as f:\n",
    "    pickle.dump(data_out, f)"
   ]
  },
  {
   "cell_type": "code",
   "execution_count": null,
   "metadata": {
    "collapsed": true
   },
   "outputs": [],
   "source": [
    "with open('shopee_review_top10.pkl', 'rb') as f:\n",
    "    data_in = pickle.load(f)"
   ]
  },
  {
   "cell_type": "markdown",
   "metadata": {},
   "source": [
    "## Products #review >= 20"
   ]
  },
  {
   "cell_type": "code",
   "execution_count": 3,
   "metadata": {},
   "outputs": [
    {
     "data": {
      "text/plain": [
       "408"
      ]
     },
     "execution_count": 3,
     "metadata": {},
     "output_type": "execute_result"
    }
   ],
   "source": [
    "data_out = []\n",
    "for i in range(len(data2)):\n",
    "    if(len(data2[i]['product_review']) >= 20):\n",
    "        data_out.append(data2[i])\n",
    "len(data_out)   "
   ]
  },
  {
   "cell_type": "code",
   "execution_count": 59,
   "metadata": {
    "collapsed": true
   },
   "outputs": [],
   "source": [
    "with open('shopee_review_20more.pkl', 'wb') as f:\n",
    "    pickle.dump(data_out, f)"
   ]
  },
  {
   "cell_type": "code",
   "execution_count": 63,
   "metadata": {
    "scrolled": true
   },
   "outputs": [
    {
     "name": "stdout",
     "output_type": "stream",
     "text": [
      "ZANZEA 2017 Rompers Women Jumpsuits Plus Size Retro Full Length overall 1 22\n",
      "Sweet Wifey/Hubby Print Cotton Couple Wear T-shirt (One Piece Price) (S-3XL) 47\n",
      "✿ Vintage Dress Loose Casual O-Neck 3/4 Sleeve Print Summer Women in Navy Blue 70\n",
      "✿ Stylish Lady Women's New Fashion Long Sleeve Lapel Plaid Sexy Dress 23\n",
      "Women Sleeveless Geometric Floral Shift Dress Mini Dress Party Dress 30\n",
      "Elastic Tube Mini Dress Strapless Stretch Tight Body-con Seamless One Size 20\n",
      "Fashion Women Summer Boho Half Sleeve Evening Cocktail Party Beach Dress 21\n",
      "Push Up  Bra and panty Set (LA3094) 23\n",
      "Modal Laced Hipster Panties in 12 Candy Colors 38\n",
      "Fashion Sexy Woman Lady Tank Strapless Tops Strap Padded Backless Lace bra 35\n"
     ]
    }
   ],
   "source": [
    "for i in range(10):\n",
    "    print(data_out[i]['product_name'], len(data_out[i]['product_review']))"
   ]
  },
  {
   "cell_type": "code",
   "execution_count": null,
   "metadata": {
    "collapsed": true
   },
   "outputs": [],
   "source": []
  },
  {
   "cell_type": "code",
   "execution_count": 6,
   "metadata": {},
   "outputs": [
    {
     "data": {
      "text/plain": [
       "dict_keys(['_id', 'product_id', 'product_name', 'product_breadcrumb', 'product_review'])"
      ]
     },
     "execution_count": 6,
     "metadata": {},
     "output_type": "execute_result"
    }
   ],
   "source": [
    "data_out[5].keys()"
   ]
  },
  {
   "cell_type": "code",
   "execution_count": 16,
   "metadata": {},
   "outputs": [
    {
     "name": "stdout",
     "output_type": "stream",
     "text": [
      "(24589, 5)\n"
     ]
    },
    {
     "data": {
      "text/html": [
       "<div>\n",
       "<style>\n",
       "    .dataframe thead tr:only-child th {\n",
       "        text-align: right;\n",
       "    }\n",
       "\n",
       "    .dataframe thead th {\n",
       "        text-align: left;\n",
       "    }\n",
       "\n",
       "    .dataframe tbody tr th {\n",
       "        vertical-align: top;\n",
       "    }\n",
       "</style>\n",
       "<table border=\"1\" class=\"dataframe\">\n",
       "  <thead>\n",
       "    <tr style=\"text-align: right;\">\n",
       "      <th></th>\n",
       "      <th>buyer</th>\n",
       "      <th>date</th>\n",
       "      <th>pid</th>\n",
       "      <th>pname</th>\n",
       "      <th>review</th>\n",
       "    </tr>\n",
       "  </thead>\n",
       "  <tbody>\n",
       "    <tr>\n",
       "      <th>0</th>\n",
       "      <td>mrsshah84</td>\n",
       "      <td>2018-04-23 20:08</td>\n",
       "      <td>521024052</td>\n",
       "      <td>ZANZEA 2017 Rompers Women Jumpsuits Plus Size ...</td>\n",
       "      <td></td>\n",
       "    </tr>\n",
       "    <tr>\n",
       "      <th>1</th>\n",
       "      <td>adrianazxcs</td>\n",
       "      <td>2018-04-16 19:59</td>\n",
       "      <td>521024052</td>\n",
       "      <td>ZANZEA 2017 Rompers Women Jumpsuits Plus Size ...</td>\n",
       "      <td>Good product quality</td>\n",
       "    </tr>\n",
       "    <tr>\n",
       "      <th>2</th>\n",
       "      <td>kamini2311</td>\n",
       "      <td>2018-04-14 16:02</td>\n",
       "      <td>521024052</td>\n",
       "      <td>ZANZEA 2017 Rompers Women Jumpsuits Plus Size ...</td>\n",
       "      <td>Good product quality</td>\n",
       "    </tr>\n",
       "    <tr>\n",
       "      <th>3</th>\n",
       "      <td>jojoandlove</td>\n",
       "      <td>2018-04-10 22:28</td>\n",
       "      <td>521024052</td>\n",
       "      <td>ZANZEA 2017 Rompers Women Jumpsuits Plus Size ...</td>\n",
       "      <td>The colour was 3-4 tones lighter than in pictu...</td>\n",
       "    </tr>\n",
       "    <tr>\n",
       "      <th>4</th>\n",
       "      <td>feezah25</td>\n",
       "      <td>2018-04-05 18:09</td>\n",
       "      <td>521024052</td>\n",
       "      <td>ZANZEA 2017 Rompers Women Jumpsuits Plus Size ...</td>\n",
       "      <td>Good product quality Fast delivery Excellent s...</td>\n",
       "    </tr>\n",
       "  </tbody>\n",
       "</table>\n",
       "</div>"
      ],
      "text/plain": [
       "         buyer              date        pid  \\\n",
       "0    mrsshah84  2018-04-23 20:08  521024052   \n",
       "1  adrianazxcs  2018-04-16 19:59  521024052   \n",
       "2   kamini2311  2018-04-14 16:02  521024052   \n",
       "3  jojoandlove  2018-04-10 22:28  521024052   \n",
       "4     feezah25  2018-04-05 18:09  521024052   \n",
       "\n",
       "                                               pname  \\\n",
       "0  ZANZEA 2017 Rompers Women Jumpsuits Plus Size ...   \n",
       "1  ZANZEA 2017 Rompers Women Jumpsuits Plus Size ...   \n",
       "2  ZANZEA 2017 Rompers Women Jumpsuits Plus Size ...   \n",
       "3  ZANZEA 2017 Rompers Women Jumpsuits Plus Size ...   \n",
       "4  ZANZEA 2017 Rompers Women Jumpsuits Plus Size ...   \n",
       "\n",
       "                                              review  \n",
       "0                                                     \n",
       "1                               Good product quality  \n",
       "2                               Good product quality  \n",
       "3  The colour was 3-4 tones lighter than in pictu...  \n",
       "4  Good product quality Fast delivery Excellent s...  "
      ]
     },
     "execution_count": 16,
     "metadata": {},
     "output_type": "execute_result"
    }
   ],
   "source": [
    "pid = []\n",
    "p_name = []\n",
    "date = []\n",
    "review = []\n",
    "buyer = []\n",
    "\n",
    "for dat in data_out:\n",
    "    for rev in dat['product_review']:\n",
    "        pid.append(dat['product_id'])\n",
    "        p_name.append(dat['product_name'])\n",
    "        date.append(rev['review_date'])\n",
    "        buyer.append(rev['buyer_name'])\n",
    "        review.append(rev['buyer_review'])\n",
    "        \n",
    "# print(len(pid), len(date), len(review), len(buyer))   \n",
    "\n",
    "shopee = pd.DataFrame({\n",
    "    'pid': pid,\n",
    "    'pname': p_name,\n",
    "    'date': date,\n",
    "    'buyer': buyer,\n",
    "    'review': review\n",
    "})\n",
    "print(shopee.shape)\n",
    "shopee.head()"
   ]
  },
  {
   "cell_type": "code",
   "execution_count": 17,
   "metadata": {
    "scrolled": true
   },
   "outputs": [
    {
     "data": {
      "text/plain": [
       "(13544, 5)"
      ]
     },
     "execution_count": 17,
     "metadata": {},
     "output_type": "execute_result"
    }
   ],
   "source": [
    "shopee = shopee[shopee.review != '']\n",
    "shopee.shape"
   ]
  },
  {
   "cell_type": "code",
   "execution_count": 6,
   "metadata": {},
   "outputs": [
    {
     "data": {
      "text/html": [
       "<div>\n",
       "<style>\n",
       "    .dataframe thead tr:only-child th {\n",
       "        text-align: right;\n",
       "    }\n",
       "\n",
       "    .dataframe thead th {\n",
       "        text-align: left;\n",
       "    }\n",
       "\n",
       "    .dataframe tbody tr th {\n",
       "        vertical-align: top;\n",
       "    }\n",
       "</style>\n",
       "<table border=\"1\" class=\"dataframe\">\n",
       "  <thead>\n",
       "    <tr style=\"text-align: right;\">\n",
       "      <th></th>\n",
       "      <th>review</th>\n",
       "      <th>sentiment</th>\n",
       "    </tr>\n",
       "  </thead>\n",
       "  <tbody>\n",
       "    <tr>\n",
       "      <th>1</th>\n",
       "      <td>Good product quality</td>\n",
       "      <td>0</td>\n",
       "    </tr>\n",
       "    <tr>\n",
       "      <th>2</th>\n",
       "      <td>Good product quality</td>\n",
       "      <td>0</td>\n",
       "    </tr>\n",
       "    <tr>\n",
       "      <th>3</th>\n",
       "      <td>The colour was 3-4 tones lighter than in pictu...</td>\n",
       "      <td>0</td>\n",
       "    </tr>\n",
       "    <tr>\n",
       "      <th>4</th>\n",
       "      <td>Good product quality Fast delivery Excellent s...</td>\n",
       "      <td>0</td>\n",
       "    </tr>\n",
       "    <tr>\n",
       "      <th>5</th>\n",
       "      <td>Product quality is ok, size are too big</td>\n",
       "      <td>0</td>\n",
       "    </tr>\n",
       "  </tbody>\n",
       "</table>\n",
       "</div>"
      ],
      "text/plain": [
       "                                              review  sentiment\n",
       "1                               Good product quality          0\n",
       "2                               Good product quality          0\n",
       "3  The colour was 3-4 tones lighter than in pictu...          0\n",
       "4  Good product quality Fast delivery Excellent s...          0\n",
       "5            Product quality is ok, size are too big          0"
      ]
     },
     "execution_count": 6,
     "metadata": {},
     "output_type": "execute_result"
    }
   ],
   "source": [
    "shopee['sentiment'] = 0\n",
    "shop2 = shopee.loc[:,['review', 'sentiment']].copy()\n",
    "shop2.head()"
   ]
  },
  {
   "cell_type": "markdown",
   "metadata": {},
   "source": [
    "# Training data preprocess"
   ]
  },
  {
   "cell_type": "code",
   "execution_count": 7,
   "metadata": {},
   "outputs": [
    {
     "name": "stdout",
     "output_type": "stream",
     "text": [
      "(22641, 2)\n"
     ]
    },
    {
     "data": {
      "text/html": [
       "<div>\n",
       "<style>\n",
       "    .dataframe thead tr:only-child th {\n",
       "        text-align: right;\n",
       "    }\n",
       "\n",
       "    .dataframe thead th {\n",
       "        text-align: left;\n",
       "    }\n",
       "\n",
       "    .dataframe tbody tr th {\n",
       "        vertical-align: top;\n",
       "    }\n",
       "</style>\n",
       "<table border=\"1\" class=\"dataframe\">\n",
       "  <thead>\n",
       "    <tr style=\"text-align: right;\">\n",
       "      <th></th>\n",
       "      <th>review</th>\n",
       "      <th>sentiment</th>\n",
       "    </tr>\n",
       "  </thead>\n",
       "  <tbody>\n",
       "    <tr>\n",
       "      <th>0</th>\n",
       "      <td>Absolutely wonderful - silky and sexy and comf...</td>\n",
       "      <td>1</td>\n",
       "    </tr>\n",
       "    <tr>\n",
       "      <th>1</th>\n",
       "      <td>Love this dress!  it's sooo pretty.  i happene...</td>\n",
       "      <td>1</td>\n",
       "    </tr>\n",
       "    <tr>\n",
       "      <th>2</th>\n",
       "      <td>I had such high hopes for this dress and reall...</td>\n",
       "      <td>0</td>\n",
       "    </tr>\n",
       "    <tr>\n",
       "      <th>3</th>\n",
       "      <td>I love, love, love this jumpsuit. it's fun, fl...</td>\n",
       "      <td>1</td>\n",
       "    </tr>\n",
       "    <tr>\n",
       "      <th>4</th>\n",
       "      <td>This shirt is very flattering to all due to th...</td>\n",
       "      <td>1</td>\n",
       "    </tr>\n",
       "  </tbody>\n",
       "</table>\n",
       "</div>"
      ],
      "text/plain": [
       "                                              review  sentiment\n",
       "0  Absolutely wonderful - silky and sexy and comf...          1\n",
       "1  Love this dress!  it's sooo pretty.  i happene...          1\n",
       "2  I had such high hopes for this dress and reall...          0\n",
       "3  I love, love, love this jumpsuit. it's fun, fl...          1\n",
       "4  This shirt is very flattering to all due to th...          1"
      ]
     },
     "execution_count": 7,
     "metadata": {},
     "output_type": "execute_result"
    }
   ],
   "source": [
    "import pandas as pd\n",
    "\n",
    "data = pd.read_csv('Womens Clothing E-Commerce Reviews.csv', usecols = ['Review Text', 'Recommended IND'])\n",
    "data.columns = ['review', 'sentiment']\n",
    "# remove nan\n",
    "data.dropna(inplace = True)\n",
    "print(data.shape)\n",
    "data.head()"
   ]
  },
  {
   "cell_type": "code",
   "execution_count": 21,
   "metadata": {
    "scrolled": true
   },
   "outputs": [
    {
     "data": {
      "text/plain": [
       "1    0.818868\n",
       "0    0.181132\n",
       "Name: sentiment, dtype: float64"
      ]
     },
     "execution_count": 21,
     "metadata": {},
     "output_type": "execute_result"
    }
   ],
   "source": [
    "# imbalance\n",
    "data['sentiment'].value_counts() / data.shape[0]"
   ]
  },
  {
   "cell_type": "markdown",
   "metadata": {},
   "source": [
    "# Combine all data together"
   ]
  },
  {
   "cell_type": "code",
   "execution_count": 8,
   "metadata": {},
   "outputs": [
    {
     "name": "stdout",
     "output_type": "stream",
     "text": [
      "22641 334 13544\n",
      "(36519, 2)\n"
     ]
    }
   ],
   "source": [
    "n1 = data.shape[0]\n",
    "n2 = df2.shape[0]\n",
    "n3 = shop2.shape[0]\n",
    "dfa = pd.concat([data, df2, shop2], ignore_index=True)\n",
    "print(n1, n2, n3)\n",
    "print(dfa.shape)"
   ]
  },
  {
   "cell_type": "code",
   "execution_count": 9,
   "metadata": {
    "collapsed": true
   },
   "outputs": [],
   "source": [
    "import string\n",
    "from nltk.corpus import stopwords\n",
    "from nltk.stem.snowball import SnowballStemmer\n",
    "import re\n",
    "\n",
    "def clean_text(text):\n",
    "    \n",
    "    ## Remove puncuation\n",
    "    text = text.translate(string.punctuation)\n",
    "    \n",
    "    ## Convert words to lower case and split them\n",
    "    # text = text.lower().split()\n",
    "    \n",
    "    ## Remove stop words\n",
    "    # stops = set(stopwords.words(\"english\"))\n",
    "    # text = [w for w in text if not w in stops and len(w) >= 3]\n",
    "    \n",
    "    # text = \" \".join(text)\n",
    "    \n",
    "    ## Stemming\n",
    "    text = text.lower().split()\n",
    "    stemmer = SnowballStemmer('english')\n",
    "    stemmed_words = [stemmer.stem(word) for word in text]\n",
    "    text = \" \".join(stemmed_words)\n",
    "    \n",
    "    # other\n",
    "    text = re.sub(r'[^a-zA-Z]',' ',text)\n",
    "    text = re.sub(r\"\\s{2,}\", \" \", text)\n",
    "    text = re.sub(r\"so{2,}\", \"so\", text)\n",
    "    \n",
    "    return text"
   ]
  },
  {
   "cell_type": "code",
   "execution_count": 12,
   "metadata": {},
   "outputs": [
    {
     "data": {
      "text/plain": [
       "['Good product quality Fast delivery Excellent service by seller',\n",
       " 'the black one is super pretty!! but regret getting the white one.. it is too sheer & cant wear it out :(',\n",
       " 'Fast delivery',\n",
       " 'fast delivery!! & rly love the material :-)',\n",
       " 'Fast delivery. Good product quality']"
      ]
     },
     "execution_count": 12,
     "metadata": {},
     "output_type": "execute_result"
    }
   ],
   "source": [
    "# before\n",
    "dfa.review[36000:36005].tolist()"
   ]
  },
  {
   "cell_type": "code",
   "execution_count": 10,
   "metadata": {
    "scrolled": true
   },
   "outputs": [
    {
     "data": {
      "text/plain": [
       "['absolut wonder silki and sexi and comfort',\n",
       " 'love this dress it so pretty i happen to find it in a store and i m glad i did bc i never would have order it onlin bc it petite i bought a petit and am i love the length on me hit just a littl below the knee would definit be a true midi on someon who is truli petite ',\n",
       " 'i had such high hope for this dress and realli want it to work for me i initi order the petit small mi usual size but i found this to be outrag small so small in fact that i could not zip it up i reorder it in petit medium which was just ok overall the top half was comfort and fit nicely but the bottom half had a veri tight under layer and sever somewhat cheap net over layers imo a major design flaw was the net over layer sewn direct into the zipper it c',\n",
       " 'i love love love this jumpsuit it fun flirty and fabulous everi time i wear it i get noth but great compliments ',\n",
       " 'this shirt is veri flatter to all due to the adjust front tie it is the perfect length to wear with leg and it is sleeveless so it pair well with ani cardigan love this shirt ']"
      ]
     },
     "execution_count": 10,
     "metadata": {},
     "output_type": "execute_result"
    }
   ],
   "source": [
    "# after, keep stop words \n",
    "dfa['review'] = dfa['review'].map(lambda x: clean_text(x))\n",
    "dfa.review[:5].tolist()"
   ]
  },
  {
   "cell_type": "code",
   "execution_count": 11,
   "metadata": {},
   "outputs": [
    {
     "name": "stderr",
     "output_type": "stream",
     "text": [
      "/Users/qy/anaconda3/lib/python3.6/site-packages/h5py/__init__.py:36: FutureWarning: Conversion of the second argument of issubdtype from `float` to `np.floating` is deprecated. In future, it will be treated as `np.float64 == np.dtype(float).type`.\n",
      "  from ._conv import register_converters as _register_converters\n",
      "Using TensorFlow backend.\n"
     ]
    },
    {
     "name": "stdout",
     "output_type": "stream",
     "text": [
      "13396\n",
      "(16980, 100)\n",
      "(5661, 100)\n"
     ]
    }
   ],
   "source": [
    "from keras.preprocessing.text import Tokenizer\n",
    "from keras.preprocessing.sequence import pad_sequences\n",
    "from sklearn.model_selection import train_test_split\n",
    "\n",
    "import warnings\n",
    "warnings.filterwarnings(\"ignore\")\n",
    "\n",
    "# max_fatures = 5000\n",
    "mlen = 100\n",
    "\n",
    "# tokenizer = Tokenizer(num_words=max_fatures, lower=True,split=' ')\n",
    "tokenizer = Tokenizer(lower=True)\n",
    "tokenizer.fit_on_texts(dfa['review'].values)\n",
    "vocabulary_size = len(tokenizer.word_counts.keys())+1\n",
    "print(vocabulary_size)\n",
    "\n",
    "X = tokenizer.texts_to_sequences(dfa['review'].values)\n",
    "X = pad_sequences(X, maxlen=mlen, padding='post')\n",
    "Y = pd.get_dummies(dfa['sentiment']).values\n",
    "\n",
    "# trian/valid/test: 2/1/1\n",
    "X_train, X_valid, Y_train, Y_valid = train_test_split(X[:n1],Y[:n1], test_size = 0.25, random_state = 36)\n",
    "print(X_train.shape)\n",
    "print(X_valid.shape)"
   ]
  },
  {
   "cell_type": "code",
   "execution_count": 26,
   "metadata": {},
   "outputs": [
    {
     "data": {
      "text/plain": [
       "(36519, 100)"
      ]
     },
     "execution_count": 26,
     "metadata": {},
     "output_type": "execute_result"
    }
   ],
   "source": [
    "X.shape"
   ]
  },
  {
   "cell_type": "code",
   "execution_count": 92,
   "metadata": {},
   "outputs": [
    {
     "name": "stdout",
     "output_type": "stream",
     "text": [
      "0.8252958841194136\n"
     ]
    }
   ],
   "source": [
    "import numpy as np\n",
    "print(np.sum(Y_valid[:,1]) / Y_valid.shape[0])"
   ]
  },
  {
   "cell_type": "code",
   "execution_count": 203,
   "metadata": {},
   "outputs": [
    {
     "data": {
      "text/plain": [
       "array([[  17,   89,   51, 2828,  361,    1,  444,  283, 3167,    2,   48],\n",
       "       [   7,   17,    6, 1311,   16,  139,    4,  153,    0,    0,    0],\n",
       "       [  59,    4,   59,    2,  211,  546, 7773,   11,    1,  149, 2671],\n",
       "       [  80,    1,  132,  110,    8,   95,  274,    1, 6118, 1275,   17],\n",
       "       [   7,    6,    5,   61, 1452,   12,  872, 5190,    2,   34,   24]],\n",
       "      dtype=int32)"
      ]
     },
     "execution_count": 203,
     "metadata": {},
     "output_type": "execute_result"
    }
   ],
   "source": [
    "X[10:15,:11]"
   ]
  },
  {
   "cell_type": "markdown",
   "metadata": {
    "collapsed": true
   },
   "source": [
    "## Sentiment model cnn after lstm v2 (as model in the report)   \n",
    "ref: http://konukoii.com/blog/2018/02/19/twitter-sentiment-analysis-using-combined-lstm-cnn-models/"
   ]
  },
  {
   "cell_type": "code",
   "execution_count": 93,
   "metadata": {},
   "outputs": [
    {
     "name": "stdout",
     "output_type": "stream",
     "text": [
      "_________________________________________________________________\n",
      "Layer (type)                 Output Shape              Param #   \n",
      "=================================================================\n",
      "embedding_9 (Embedding)      (None, 100, 64)           857344    \n",
      "_________________________________________________________________\n",
      "dropout_5 (Dropout)          (None, 100, 64)           0         \n",
      "_________________________________________________________________\n",
      "conv1d_10 (Conv1D)           (None, 96, 64)            20544     \n",
      "_________________________________________________________________\n",
      "max_pooling1d_8 (MaxPooling1 (None, 24, 64)            0         \n",
      "_________________________________________________________________\n",
      "lstm_3 (LSTM)                (None, 24, 128)           98816     \n",
      "_________________________________________________________________\n",
      "lstm_4 (LSTM)                (None, 128)               131584    \n",
      "_________________________________________________________________\n",
      "dense_11 (Dense)             (None, 2)                 258       \n",
      "=================================================================\n",
      "Total params: 1,108,546\n",
      "Trainable params: 1,108,546\n",
      "Non-trainable params: 0\n",
      "_________________________________________________________________\n",
      "None\n"
     ]
    }
   ],
   "source": [
    "from keras.layers import Dense, Flatten, LSTM, Conv1D, MaxPooling1D, Dropout\n",
    "from keras.models import Sequential\n",
    "from keras.layers import Dense, Embedding, LSTM, SpatialDropout1D\n",
    "\n",
    "max_fatures = vocabulary_size\n",
    "embed_dim = 64\n",
    "batch_size = 128\n",
    "\n",
    "model_conv3 = Sequential()\n",
    "model_conv3.add(Embedding(max_fatures, embed_dim, input_length = mlen))\n",
    "model_conv3.add(Dropout(0.2))\n",
    "model_conv3.add(Conv1D(64, 5, activation='relu'))\n",
    "model_conv3.add(MaxPooling1D(pool_size=4))\n",
    "model_conv3.add(LSTM(128,dropout=0.4, recurrent_dropout=0.2, return_sequences=True))\n",
    "model_conv3.add(LSTM(128,dropout=0.5, recurrent_dropout=0.2))\n",
    "# model_conv3.add(Flatten())\n",
    "# model_conv3.add(Dropout(0.2))\n",
    "model_conv3.add(Dense(2, activation='softmax'))\n",
    "model_conv3.compile(loss = 'categorical_crossentropy', optimizer='adam',metrics = ['accuracy'])\n",
    "print(model_conv3.summary())"
   ]
  },
  {
   "cell_type": "code",
   "execution_count": 94,
   "metadata": {
    "scrolled": false
   },
   "outputs": [
    {
     "name": "stdout",
     "output_type": "stream",
     "text": [
      "Train on 11376 samples, validate on 5604 samples\n",
      "Epoch 1/10\n",
      "11376/11376 [==============================] - 46s 4ms/step - loss: 0.4875 - acc: 0.8105 - val_loss: 0.3827 - val_acc: 0.8314\n",
      "Epoch 2/10\n",
      "11376/11376 [==============================] - 41s 4ms/step - loss: 0.3070 - acc: 0.8680 - val_loss: 0.2565 - val_acc: 0.8906\n",
      "Epoch 3/10\n",
      "11376/11376 [==============================] - 47s 4ms/step - loss: 0.2269 - acc: 0.9087 - val_loss: 0.2499 - val_acc: 0.8956\n",
      "Epoch 4/10\n",
      "11376/11376 [==============================] - 50s 4ms/step - loss: 0.1877 - acc: 0.9233 - val_loss: 0.2739 - val_acc: 0.8920\n",
      "Epoch 5/10\n",
      "11376/11376 [==============================] - 39s 3ms/step - loss: 0.1549 - acc: 0.9414 - val_loss: 0.2781 - val_acc: 0.8876\n",
      "Epoch 6/10\n",
      "11376/11376 [==============================] - 41s 4ms/step - loss: 0.1311 - acc: 0.9514 - val_loss: 0.2997 - val_acc: 0.8806\n",
      "Epoch 00006: early stopping\n",
      "5661/5661 [==============================] - 6s 1ms/step\n",
      "\n",
      "loss: 0.295\n",
      "acc: 0.879\n"
     ]
    }
   ],
   "source": [
    "from keras.callbacks import EarlyStopping, ModelCheckpoint\n",
    "\n",
    "earlystopper = EarlyStopping(patience=3, verbose=1)\n",
    "# checkpointer = ModelCheckpoint('model-lstm-new.h5', verbose=1, save_best_only=True)\n",
    "\n",
    "model_conv3.fit(X_train, Y_train, validation_split=0.33, batch_size=batch_size, epochs=10, verbose = 1, \n",
    "                    callbacks=[earlystopper])\n",
    "\n",
    "loss, acc = model_conv3.evaluate(X_valid, Y_valid, verbose = 1, batch_size = batch_size)\n",
    "print()\n",
    "print(\"loss: %.3f\" % (loss))\n",
    "print(\"acc: %.3f\" % (acc))"
   ]
  },
  {
   "cell_type": "markdown",
   "metadata": {
    "collapsed": true
   },
   "source": [
    "## Model bi-LSTM \n",
    "ref: https://www.kaggle.com/c/movie-review-sentiment-analysis-kernels-only/kernels"
   ]
  },
  {
   "cell_type": "code",
   "execution_count": 13,
   "metadata": {},
   "outputs": [
    {
     "name": "stdout",
     "output_type": "stream",
     "text": [
      "_________________________________________________________________\n",
      "Layer (type)                 Output Shape              Param #   \n",
      "=================================================================\n",
      "embedding_1 (Embedding)      (None, 100, 64)           857344    \n",
      "_________________________________________________________________\n",
      "spatial_dropout1d_1 (Spatial (None, 100, 64)           0         \n",
      "_________________________________________________________________\n",
      "bidirectional_1 (Bidirection (None, 200)               132000    \n",
      "_________________________________________________________________\n",
      "dropout_1 (Dropout)          (None, 200)               0         \n",
      "_________________________________________________________________\n",
      "dense_1 (Dense)              (None, 2)                 402       \n",
      "=================================================================\n",
      "Total params: 989,746\n",
      "Trainable params: 989,746\n",
      "Non-trainable params: 0\n",
      "_________________________________________________________________\n"
     ]
    }
   ],
   "source": [
    "from keras.layers import Bidirectional, LSTM\n",
    "from keras.models import Sequential\n",
    "from keras.layers import Dense, Embedding, SpatialDropout1D, Dropout\n",
    "\n",
    "# try larger dim?\n",
    "embed_dim = 64\n",
    "max_fatures = vocabulary_size\n",
    "\n",
    "model4 = Sequential()\n",
    "model4.add(Embedding(max_fatures, embed_dim, input_length=X.shape[1]))\n",
    "model4.add(SpatialDropout1D(0.2))\n",
    "model4.add(Bidirectional(LSTM(100)))\n",
    "model4.add(Dropout(0.2))\n",
    "model4.add(Dense(2, activation='softmax'))\n",
    "model4.compile(loss='categorical_crossentropy', optimizer='adam', metrics=['accuracy'])\n",
    "model4.summary()"
   ]
  },
  {
   "cell_type": "code",
   "execution_count": 14,
   "metadata": {
    "scrolled": false
   },
   "outputs": [
    {
     "name": "stdout",
     "output_type": "stream",
     "text": [
      "Train on 11376 samples, validate on 5604 samples\n",
      "Epoch 1/10\n",
      " - 78s - loss: 0.4968 - acc: 0.8107 - val_loss: 0.4059 - val_acc: 0.8233\n",
      "\n",
      "Epoch 00001: val_loss improved from inf to 0.40589, saving model to model-lstm.h5\n",
      "Epoch 2/10\n",
      " - 72s - loss: 0.3371 - acc: 0.8459 - val_loss: 0.2847 - val_acc: 0.8746\n",
      "\n",
      "Epoch 00002: val_loss improved from 0.40589 to 0.28470, saving model to model-lstm.h5\n",
      "Epoch 3/10\n",
      " - 69s - loss: 0.2427 - acc: 0.8987 - val_loss: 0.2688 - val_acc: 0.8903\n",
      "\n",
      "Epoch 00003: val_loss improved from 0.28470 to 0.26883, saving model to model-lstm.h5\n",
      "Epoch 4/10\n",
      " - 67s - loss: 0.1989 - acc: 0.9183 - val_loss: 0.2790 - val_acc: 0.8919\n",
      "\n",
      "Epoch 00004: val_loss did not improve from 0.26883\n",
      "Epoch 5/10\n",
      " - 72s - loss: 0.1721 - acc: 0.9316 - val_loss: 0.2906 - val_acc: 0.8812\n",
      "\n",
      "Epoch 00005: val_loss did not improve from 0.26883\n",
      "Epoch 6/10\n",
      " - 74s - loss: 0.1465 - acc: 0.9414 - val_loss: 0.3292 - val_acc: 0.8908\n",
      "\n",
      "Epoch 00006: val_loss did not improve from 0.26883\n",
      "Epoch 00006: early stopping\n",
      "5661/5661 [==============================] - 10s 2ms/step\n",
      "loss: 0.331\n",
      "acc: 0.884\n"
     ]
    }
   ],
   "source": [
    "from keras.callbacks import EarlyStopping, ModelCheckpoint\n",
    "\n",
    "batch_size = 256\n",
    "\n",
    "earlystopper = EarlyStopping(patience=3, verbose=1)\n",
    "checkpointer = ModelCheckpoint('model-lstm.h5', verbose=1, save_best_only=True)\n",
    "\n",
    "model4.fit(X_train, Y_train, validation_split=0.33, batch_size=batch_size, epochs=10, verbose = 2, \n",
    "                    callbacks=[earlystopper, checkpointer])\n",
    "\n",
    "loss, acc = model4.evaluate(X_valid, Y_valid, verbose = 1, batch_size = batch_size)\n",
    "print(\"loss: %.3f\" % (loss))\n",
    "print(\"acc: %.3f\" % (acc))"
   ]
  },
  {
   "cell_type": "markdown",
   "metadata": {},
   "source": [
    "## TextCNN   \n",
    "ref: https://zhuanlan.zhihu.com/p/29201491"
   ]
  },
  {
   "cell_type": "code",
   "execution_count": 82,
   "metadata": {},
   "outputs": [
    {
     "name": "stdout",
     "output_type": "stream",
     "text": [
      "__________________________________________________________________________________________________\n",
      "Layer (type)                    Output Shape         Param #     Connected to                     \n",
      "==================================================================================================\n",
      "input_3 (InputLayer)            (None, 100)          0                                            \n",
      "__________________________________________________________________________________________________\n",
      "embedding_5 (Embedding)         (None, 100, 64)      857344      input_3[0][0]                    \n",
      "__________________________________________________________________________________________________\n",
      "conv1d_4 (Conv1D)               (None, 100, 256)     49408       embedding_5[0][0]                \n",
      "__________________________________________________________________________________________________\n",
      "conv1d_5 (Conv1D)               (None, 100, 256)     65792       embedding_5[0][0]                \n",
      "__________________________________________________________________________________________________\n",
      "conv1d_6 (Conv1D)               (None, 100, 256)     82176       embedding_5[0][0]                \n",
      "__________________________________________________________________________________________________\n",
      "max_pooling1d_2 (MaxPooling1D)  (None, 25, 256)      0           conv1d_4[0][0]                   \n",
      "__________________________________________________________________________________________________\n",
      "max_pooling1d_3 (MaxPooling1D)  (None, 25, 256)      0           conv1d_5[0][0]                   \n",
      "__________________________________________________________________________________________________\n",
      "max_pooling1d_4 (MaxPooling1D)  (None, 25, 256)      0           conv1d_6[0][0]                   \n",
      "__________________________________________________________________________________________________\n",
      "concatenate_1 (Concatenate)     (None, 25, 768)      0           max_pooling1d_2[0][0]            \n",
      "                                                                 max_pooling1d_3[0][0]            \n",
      "                                                                 max_pooling1d_4[0][0]            \n",
      "__________________________________________________________________________________________________\n",
      "flatten_2 (Flatten)             (None, 19200)        0           concatenate_1[0][0]              \n",
      "__________________________________________________________________________________________________\n",
      "dropout_4 (Dropout)             (None, 19200)        0           flatten_2[0][0]                  \n",
      "__________________________________________________________________________________________________\n",
      "dense_3 (Dense)                 (None, 2)            38402       dropout_4[0][0]                  \n",
      "==================================================================================================\n",
      "Total params: 1,093,122\n",
      "Trainable params: 1,093,122\n",
      "Non-trainable params: 0\n",
      "__________________________________________________________________________________________________\n"
     ]
    }
   ],
   "source": [
    "from keras.layers.merge import concatenate\n",
    "from keras.models import Sequential, Model\n",
    "from keras.layers import Dense, Embedding, Activation, merge, Input\n",
    "\n",
    "# 模型结构：词嵌入-卷积池化*3-拼接-全连接-dropout-全连接\n",
    "main_input = Input(shape=(mlen,), dtype='float64')\n",
    "# 词嵌入（使用预训练的词向量）\n",
    "embed = Embedding(max_fatures, embed_dim, input_length=X.shape[1])(main_input)\n",
    "# 词窗大小分别为3,4,5\n",
    "cnn1 = Conv1D(256, 3, padding='same', strides = 1, activation='relu')(embed)\n",
    "cnn1 = MaxPooling1D(pool_size=4)(cnn1)\n",
    "cnn2 = Conv1D(256, 4, padding='same', strides = 1, activation='relu')(embed)\n",
    "cnn2 = MaxPooling1D(pool_size=4)(cnn2)\n",
    "cnn3 = Conv1D(256, 5, padding='same', strides = 1, activation='relu')(embed)\n",
    "cnn3 = MaxPooling1D(pool_size=4)(cnn3)\n",
    "# 合并三个模型的输出向量\n",
    "cnn = concatenate([cnn1,cnn2,cnn3], axis=-1)\n",
    "flat = Flatten()(cnn)\n",
    "drop = Dropout(0.2)(flat)\n",
    "main_output = Dense(2, activation='softmax')(drop)\n",
    "\n",
    "model = Model(inputs = main_input, outputs = main_output)\n",
    "model.compile(loss='categorical_crossentropy', optimizer='adam', metrics=['accuracy'])\n",
    "model.summary()"
   ]
  },
  {
   "cell_type": "code",
   "execution_count": 83,
   "metadata": {},
   "outputs": [
    {
     "name": "stdout",
     "output_type": "stream",
     "text": [
      "Train on 11376 samples, validate on 5604 samples\n",
      "Epoch 1/10\n",
      "11376/11376 [==============================] - 33s 3ms/step - loss: 0.4819 - acc: 0.7988 - val_loss: 0.4061 - val_acc: 0.8233\n",
      "Epoch 2/10\n",
      "11376/11376 [==============================] - 33s 3ms/step - loss: 0.3380 - acc: 0.8403 - val_loss: 0.2789 - val_acc: 0.8831\n",
      "Epoch 3/10\n",
      "11376/11376 [==============================] - 36s 3ms/step - loss: 0.2216 - acc: 0.9059 - val_loss: 0.2620 - val_acc: 0.8928\n",
      "Epoch 4/10\n",
      "11376/11376 [==============================] - 32s 3ms/step - loss: 0.1626 - acc: 0.9335 - val_loss: 0.2788 - val_acc: 0.8953\n",
      "Epoch 5/10\n",
      "11376/11376 [==============================] - 34s 3ms/step - loss: 0.1193 - acc: 0.9540 - val_loss: 0.3139 - val_acc: 0.8885\n",
      "Epoch 6/10\n",
      "11376/11376 [==============================] - 35s 3ms/step - loss: 0.0828 - acc: 0.9709 - val_loss: 0.3620 - val_acc: 0.8860\n",
      "Epoch 00006: early stopping\n",
      "5661/5661 [==============================] - 4s 651us/step\n",
      "\n",
      "loss: 0.356\n",
      "acc: 0.883\n"
     ]
    }
   ],
   "source": [
    "batch_size = 256\n",
    "earlystopper = EarlyStopping(patience=3, verbose=1)\n",
    "model.fit(X_train, Y_train, validation_split=0.33, batch_size=batch_size, epochs=10, verbose = 1, \n",
    "                    callbacks=[earlystopper])\n",
    "\n",
    "loss, acc = model.evaluate(X_valid, Y_valid, verbose = 1, batch_size = batch_size)\n",
    "print()\n",
    "print(\"loss: %.3f\" % (loss))\n",
    "print(\"acc: %.3f\" % (acc))"
   ]
  },
  {
   "cell_type": "markdown",
   "metadata": {},
   "source": [
    "## CNN+RNN"
   ]
  },
  {
   "cell_type": "code",
   "execution_count": 86,
   "metadata": {},
   "outputs": [
    {
     "name": "stdout",
     "output_type": "stream",
     "text": [
      "__________________________________________________________________________________________________\n",
      "Layer (type)                    Output Shape         Param #     Connected to                     \n",
      "==================================================================================================\n",
      "input_6 (InputLayer)            (None, 100)          0                                            \n",
      "__________________________________________________________________________________________________\n",
      "embedding_8 (Embedding)         (None, 100, 64)      857344      input_6[0][0]                    \n",
      "__________________________________________________________________________________________________\n",
      "conv1d_9 (Conv1D)               (None, 100, 256)     49408       embedding_8[0][0]                \n",
      "__________________________________________________________________________________________________\n",
      "max_pooling1d_7 (MaxPooling1D)  (None, 25, 256)      0           conv1d_9[0][0]                   \n",
      "__________________________________________________________________________________________________\n",
      "flatten_5 (Flatten)             (None, 6400)         0           max_pooling1d_7[0][0]            \n",
      "__________________________________________________________________________________________________\n",
      "bidirectional_3 (Bidirectional) (None, 512)          493056      embedding_8[0][0]                \n",
      "__________________________________________________________________________________________________\n",
      "dense_8 (Dense)                 (None, 128)          819328      flatten_5[0][0]                  \n",
      "__________________________________________________________________________________________________\n",
      "dense_9 (Dense)                 (None, 128)          65664       bidirectional_3[0][0]            \n",
      "__________________________________________________________________________________________________\n",
      "concatenate_3 (Concatenate)     (None, 256)          0           dense_8[0][0]                    \n",
      "                                                                 dense_9[0][0]                    \n",
      "__________________________________________________________________________________________________\n",
      "dense_10 (Dense)                (None, 2)            514         concatenate_3[0][0]              \n",
      "==================================================================================================\n",
      "Total params: 2,285,314\n",
      "Trainable params: 2,285,314\n",
      "Non-trainable params: 0\n",
      "__________________________________________________________________________________________________\n"
     ]
    }
   ],
   "source": [
    "from keras.layers import GRU\n",
    "\n",
    "main_input = Input(shape=(mlen,), dtype='float64')\n",
    "embed = Embedding(max_fatures, embed_dim, input_length=X.shape[1])(main_input)\n",
    "cnn = Conv1D(256, 3, padding='same', strides = 1, activation='relu')(embed)\n",
    "cnn = MaxPooling1D(pool_size=4)(cnn)\n",
    "cnn = Flatten()(cnn)\n",
    "cnn = Dense(128)(cnn)\n",
    "rnn = Bidirectional(GRU(256, dropout=0.2, recurrent_dropout=0.1))(embed)\n",
    "rnn = Dense(128)(rnn)\n",
    "con = concatenate([cnn,rnn], axis=-1)\n",
    "main_output = Dense(2, activation='softmax')(con)\n",
    "\n",
    "model2 = Model(inputs = main_input, outputs = main_output)\n",
    "model2.compile(loss='categorical_crossentropy', optimizer='adam', metrics=['accuracy'])\n",
    "model2.summary()"
   ]
  },
  {
   "cell_type": "code",
   "execution_count": 87,
   "metadata": {},
   "outputs": [
    {
     "name": "stdout",
     "output_type": "stream",
     "text": [
      "Train on 11376 samples, validate on 5604 samples\n",
      "Epoch 1/10\n",
      "11376/11376 [==============================] - 135s 12ms/step - loss: 0.4601 - acc: 0.8041 - val_loss: 0.3486 - val_acc: 0.8446\n",
      "Epoch 2/10\n",
      "11376/11376 [==============================] - 132s 12ms/step - loss: 0.2859 - acc: 0.8761 - val_loss: 0.2746 - val_acc: 0.8856\n",
      "Epoch 3/10\n",
      "11376/11376 [==============================] - 132s 12ms/step - loss: 0.2054 - acc: 0.9157 - val_loss: 0.2908 - val_acc: 0.8824\n",
      "Epoch 4/10\n",
      "11376/11376 [==============================] - 132s 12ms/step - loss: 0.1394 - acc: 0.9444 - val_loss: 0.3184 - val_acc: 0.8833\n",
      "Epoch 5/10\n",
      "11376/11376 [==============================] - 132s 12ms/step - loss: 0.0904 - acc: 0.9674 - val_loss: 0.4237 - val_acc: 0.8849\n",
      "Epoch 00005: early stopping\n",
      "5661/5661 [==============================] - 19s 3ms/step\n",
      "\n",
      "Testing:\n",
      "loss: 0.426\n",
      "acc: 0.880\n"
     ]
    }
   ],
   "source": [
    "batch_size = 256\n",
    "earlystopper = EarlyStopping(patience=3, verbose=1)\n",
    "\n",
    "model2.fit(X_train, Y_train, validation_split=0.33, batch_size=batch_size, epochs=10, verbose = 1, \n",
    "                    callbacks=[earlystopper])\n",
    "\n",
    "loss, acc = model2.evaluate(X_valid, Y_valid, verbose = 1, batch_size = batch_size)\n",
    "print()\n",
    "print(\"Testing:\")\n",
    "print(\"loss: %.3f\" % (loss))\n",
    "print(\"acc: %.3f\" % (acc))"
   ]
  },
  {
   "cell_type": "code",
   "execution_count": 101,
   "metadata": {
    "scrolled": false
   },
   "outputs": [
    {
     "data": {
      "image/svg+xml": [
       "<svg height=\"556pt\" viewBox=\"0.00 0.00 501.50 556.00\" width=\"502pt\" xmlns=\"http://www.w3.org/2000/svg\" xmlns:xlink=\"http://www.w3.org/1999/xlink\">\n",
       "<g class=\"graph\" id=\"graph0\" transform=\"scale(1 1) rotate(0) translate(4 552)\">\n",
       "<title>G</title>\n",
       "<polygon fill=\"#ffffff\" points=\"-4,4 -4,-552 497.5,-552 497.5,4 -4,4\" stroke=\"transparent\"/>\n",
       "<!-- 112679789288 -->\n",
       "<g class=\"node\" id=\"node1\">\n",
       "<title>112679789288</title>\n",
       "<polygon fill=\"none\" points=\"169.5,-511.5 169.5,-547.5 298.5,-547.5 298.5,-511.5 169.5,-511.5\" stroke=\"#000000\"/>\n",
       "<text fill=\"#000000\" font-family=\"Times,serif\" font-size=\"14.00\" text-anchor=\"middle\" x=\"234\" y=\"-525.8\">input_6: InputLayer</text>\n",
       "</g>\n",
       "<!-- 112679789344 -->\n",
       "<g class=\"node\" id=\"node2\">\n",
       "<title>112679789344</title>\n",
       "<polygon fill=\"none\" points=\"151.5,-438.5 151.5,-474.5 316.5,-474.5 316.5,-438.5 151.5,-438.5\" stroke=\"#000000\"/>\n",
       "<text fill=\"#000000\" font-family=\"Times,serif\" font-size=\"14.00\" text-anchor=\"middle\" x=\"234\" y=\"-452.8\">embedding_8: Embedding</text>\n",
       "</g>\n",
       "<!-- 112679789288&#45;&gt;112679789344 -->\n",
       "<g class=\"edge\" id=\"edge1\">\n",
       "<title>112679789288-&gt;112679789344</title>\n",
       "<path d=\"M234,-511.4551C234,-503.3828 234,-493.6764 234,-484.6817\" fill=\"none\" stroke=\"#000000\"/>\n",
       "<polygon fill=\"#000000\" points=\"237.5001,-484.5903 234,-474.5904 230.5001,-484.5904 237.5001,-484.5903\" stroke=\"#000000\"/>\n",
       "</g>\n",
       "<!-- 112679789512 -->\n",
       "<g class=\"node\" id=\"node3\">\n",
       "<title>112679789512</title>\n",
       "<polygon fill=\"none\" points=\"124.5,-365.5 124.5,-401.5 251.5,-401.5 251.5,-365.5 124.5,-365.5\" stroke=\"#000000\"/>\n",
       "<text fill=\"#000000\" font-family=\"Times,serif\" font-size=\"14.00\" text-anchor=\"middle\" x=\"188\" y=\"-379.8\">conv1d_9: Conv1D</text>\n",
       "</g>\n",
       "<!-- 112679789344&#45;&gt;112679789512 -->\n",
       "<g class=\"edge\" id=\"edge2\">\n",
       "<title>112679789344-&gt;112679789512</title>\n",
       "<path d=\"M222.6292,-438.4551C217.2662,-429.9441 210.7583,-419.6165 204.8385,-410.2219\" fill=\"none\" stroke=\"#000000\"/>\n",
       "<polygon fill=\"#000000\" points=\"207.6918,-408.1848 199.3994,-401.5904 201.7695,-411.9167 207.6918,-408.1848\" stroke=\"#000000\"/>\n",
       "</g>\n",
       "<!-- 112668979776 -->\n",
       "<g class=\"node\" id=\"node6\">\n",
       "<title>112668979776</title>\n",
       "<polygon fill=\"none\" points=\"230.5,-292.5 230.5,-328.5 493.5,-328.5 493.5,-292.5 230.5,-292.5\" stroke=\"#000000\"/>\n",
       "<text fill=\"#000000\" font-family=\"Times,serif\" font-size=\"14.00\" text-anchor=\"middle\" x=\"362\" y=\"-306.8\">bidirectional_3(gru_2): Bidirectional(GRU)</text>\n",
       "</g>\n",
       "<!-- 112679789344&#45;&gt;112668979776 -->\n",
       "<g class=\"edge\" id=\"edge5\">\n",
       "<title>112679789344-&gt;112668979776</title>\n",
       "<path d=\"M249.9525,-438.3042C272.3728,-412.7311 313.3321,-366.0119 339.0309,-336.6992\" fill=\"none\" stroke=\"#000000\"/>\n",
       "<polygon fill=\"#000000\" points=\"341.8859,-338.7518 345.8465,-328.9251 336.6223,-334.1372 341.8859,-338.7518\" stroke=\"#000000\"/>\n",
       "</g>\n",
       "<!-- 112679790128 -->\n",
       "<g class=\"node\" id=\"node4\">\n",
       "<title>112679790128</title>\n",
       "<polygon fill=\"none\" points=\"0,-292.5 0,-328.5 212,-328.5 212,-292.5 0,-292.5\" stroke=\"#000000\"/>\n",
       "<text fill=\"#000000\" font-family=\"Times,serif\" font-size=\"14.00\" text-anchor=\"middle\" x=\"106\" y=\"-306.8\">max_pooling1d_7: MaxPooling1D</text>\n",
       "</g>\n",
       "<!-- 112679789512&#45;&gt;112679790128 -->\n",
       "<g class=\"edge\" id=\"edge3\">\n",
       "<title>112679789512-&gt;112679790128</title>\n",
       "<path d=\"M167.7303,-365.4551C157.5788,-356.4177 145.1262,-345.3319 134.0709,-335.4899\" fill=\"none\" stroke=\"#000000\"/>\n",
       "<polygon fill=\"#000000\" points=\"136.117,-332.6255 126.3207,-328.5904 131.4625,-337.8539 136.117,-332.6255\" stroke=\"#000000\"/>\n",
       "</g>\n",
       "<!-- 112679789960 -->\n",
       "<g class=\"node\" id=\"node5\">\n",
       "<title>112679789960</title>\n",
       "<polygon fill=\"none\" points=\"114,-219.5 114,-255.5 226,-255.5 226,-219.5 114,-219.5\" stroke=\"#000000\"/>\n",
       "<text fill=\"#000000\" font-family=\"Times,serif\" font-size=\"14.00\" text-anchor=\"middle\" x=\"170\" y=\"-233.8\">flatten_5: Flatten</text>\n",
       "</g>\n",
       "<!-- 112679790128&#45;&gt;112679789960 -->\n",
       "<g class=\"edge\" id=\"edge4\">\n",
       "<title>112679790128-&gt;112679789960</title>\n",
       "<path d=\"M121.8202,-292.4551C129.5126,-283.6809 138.8978,-272.9759 147.3344,-263.353\" fill=\"none\" stroke=\"#000000\"/>\n",
       "<polygon fill=\"#000000\" points=\"150.1794,-265.4171 154.14,-255.5904 144.9158,-260.8024 150.1794,-265.4171\" stroke=\"#000000\"/>\n",
       "</g>\n",
       "<!-- 112679791808 -->\n",
       "<g class=\"node\" id=\"node7\">\n",
       "<title>112679791808</title>\n",
       "<polygon fill=\"none\" points=\"140.5,-146.5 140.5,-182.5 245.5,-182.5 245.5,-146.5 140.5,-146.5\" stroke=\"#000000\"/>\n",
       "<text fill=\"#000000\" font-family=\"Times,serif\" font-size=\"14.00\" text-anchor=\"middle\" x=\"193\" y=\"-160.8\">dense_8: Dense</text>\n",
       "</g>\n",
       "<!-- 112679789960&#45;&gt;112679791808 -->\n",
       "<g class=\"edge\" id=\"edge6\">\n",
       "<title>112679789960-&gt;112679791808</title>\n",
       "<path d=\"M175.6854,-219.4551C178.2563,-211.2951 181.3534,-201.4652 184.2132,-192.3887\" fill=\"none\" stroke=\"#000000\"/>\n",
       "<polygon fill=\"#000000\" points=\"187.6334,-193.18 187.3003,-182.5904 180.9569,-191.0764 187.6334,-193.18\" stroke=\"#000000\"/>\n",
       "</g>\n",
       "<!-- 112668865928 -->\n",
       "<g class=\"node\" id=\"node8\">\n",
       "<title>112668865928</title>\n",
       "<polygon fill=\"none\" points=\"276.5,-219.5 276.5,-255.5 381.5,-255.5 381.5,-219.5 276.5,-219.5\" stroke=\"#000000\"/>\n",
       "<text fill=\"#000000\" font-family=\"Times,serif\" font-size=\"14.00\" text-anchor=\"middle\" x=\"329\" y=\"-233.8\">dense_9: Dense</text>\n",
       "</g>\n",
       "<!-- 112668979776&#45;&gt;112668865928 -->\n",
       "<g class=\"edge\" id=\"edge7\">\n",
       "<title>112668979776-&gt;112668865928</title>\n",
       "<path d=\"M353.8427,-292.4551C350.0746,-284.1196 345.5188,-274.0416 341.343,-264.8042\" fill=\"none\" stroke=\"#000000\"/>\n",
       "<polygon fill=\"#000000\" points=\"344.4864,-263.2608 337.1778,-255.5904 338.1078,-266.1443 344.4864,-263.2608\" stroke=\"#000000\"/>\n",
       "</g>\n",
       "<!-- 112668981848 -->\n",
       "<g class=\"node\" id=\"node9\">\n",
       "<title>112668981848</title>\n",
       "<polygon fill=\"none\" points=\"146.5,-73.5 146.5,-109.5 319.5,-109.5 319.5,-73.5 146.5,-73.5\" stroke=\"#000000\"/>\n",
       "<text fill=\"#000000\" font-family=\"Times,serif\" font-size=\"14.00\" text-anchor=\"middle\" x=\"233\" y=\"-87.8\">concatenate_3: Concatenate</text>\n",
       "</g>\n",
       "<!-- 112679791808&#45;&gt;112668981848 -->\n",
       "<g class=\"edge\" id=\"edge8\">\n",
       "<title>112679791808-&gt;112668981848</title>\n",
       "<path d=\"M202.8876,-146.4551C207.5031,-138.0319 213.0936,-127.8292 218.1985,-118.5128\" fill=\"none\" stroke=\"#000000\"/>\n",
       "<polygon fill=\"#000000\" points=\"221.3515,-120.042 223.0875,-109.5904 215.2127,-116.6782 221.3515,-120.042\" stroke=\"#000000\"/>\n",
       "</g>\n",
       "<!-- 112668865928&#45;&gt;112668981848 -->\n",
       "<g class=\"edge\" id=\"edge9\">\n",
       "<title>112668865928-&gt;112668981848</title>\n",
       "<path d=\"M317.0356,-219.3042C300.3641,-193.9496 270.0251,-147.8089 250.7236,-118.4546\" fill=\"none\" stroke=\"#000000\"/>\n",
       "<polygon fill=\"#000000\" points=\"253.5337,-116.3577 245.1151,-109.9251 247.6848,-120.2036 253.5337,-116.3577\" stroke=\"#000000\"/>\n",
       "</g>\n",
       "<!-- 113324388080 -->\n",
       "<g class=\"node\" id=\"node10\">\n",
       "<title>113324388080</title>\n",
       "<polygon fill=\"none\" points=\"177,-.5 177,-36.5 289,-36.5 289,-.5 177,-.5\" stroke=\"#000000\"/>\n",
       "<text fill=\"#000000\" font-family=\"Times,serif\" font-size=\"14.00\" text-anchor=\"middle\" x=\"233\" y=\"-14.8\">dense_10: Dense</text>\n",
       "</g>\n",
       "<!-- 112668981848&#45;&gt;113324388080 -->\n",
       "<g class=\"edge\" id=\"edge10\">\n",
       "<title>112668981848-&gt;113324388080</title>\n",
       "<path d=\"M233,-73.4551C233,-65.3828 233,-55.6764 233,-46.6817\" fill=\"none\" stroke=\"#000000\"/>\n",
       "<polygon fill=\"#000000\" points=\"236.5001,-46.5903 233,-36.5904 229.5001,-46.5904 236.5001,-46.5903\" stroke=\"#000000\"/>\n",
       "</g>\n",
       "</g>\n",
       "</svg>"
      ],
      "text/plain": [
       "<IPython.core.display.SVG object>"
      ]
     },
     "execution_count": 101,
     "metadata": {},
     "output_type": "execute_result"
    }
   ],
   "source": [
    "import pydot\n",
    "from IPython.display import SVG\n",
    "from keras.utils import plot_model\n",
    "from keras.utils.vis_utils import model_to_dot\n",
    "\n",
    "plot_model(model2, to_file='graph_rnn.png')\n",
    "SVG(model_to_dot(model2).create(prog='dot', format='svg'))"
   ]
  },
  {
   "cell_type": "markdown",
   "metadata": {},
   "source": [
    "### Attention model  \n",
    "https://www.kaggle.com/takuok/bidirectional-lstm-and-attention-lb-0-043"
   ]
  },
  {
   "cell_type": "code",
   "execution_count": 102,
   "metadata": {
    "collapsed": true
   },
   "outputs": [],
   "source": [
    "from keras import backend as K\n",
    "from keras.engine.topology import Layer\n",
    "from keras import initializers, regularizers, constraints\n",
    "\n",
    "\n",
    "class Attention(Layer):\n",
    "    def __init__(self, step_dim,\n",
    "                 W_regularizer=None, b_regularizer=None,\n",
    "                 W_constraint=None, b_constraint=None,\n",
    "                 bias=True, **kwargs):\n",
    "        self.supports_masking = True\n",
    "        self.init = initializers.get('glorot_uniform')\n",
    "\n",
    "        self.W_regularizer = regularizers.get(W_regularizer)\n",
    "        self.b_regularizer = regularizers.get(b_regularizer)\n",
    "\n",
    "        self.W_constraint = constraints.get(W_constraint)\n",
    "        self.b_constraint = constraints.get(b_constraint)\n",
    "\n",
    "        self.bias = bias\n",
    "        self.step_dim = step_dim\n",
    "        self.features_dim = 0\n",
    "        super(Attention, self).__init__(**kwargs)\n",
    "\n",
    "    def build(self, input_shape):\n",
    "        assert len(input_shape) == 3\n",
    "\n",
    "        self.W = self.add_weight((input_shape[-1],),\n",
    "                                 initializer=self.init,\n",
    "                                 name='{}_W'.format(self.name),\n",
    "                                 regularizer=self.W_regularizer,\n",
    "                                 constraint=self.W_constraint)\n",
    "        self.features_dim = input_shape[-1]\n",
    "\n",
    "        if self.bias:\n",
    "            self.b = self.add_weight((input_shape[1],),\n",
    "                                     initializer='zero',\n",
    "                                     name='{}_b'.format(self.name),\n",
    "                                     regularizer=self.b_regularizer,\n",
    "                                     constraint=self.b_constraint)\n",
    "        else:\n",
    "            self.b = None\n",
    "\n",
    "        self.built = True\n",
    "\n",
    "    def compute_mask(self, input, input_mask=None):\n",
    "        return None\n",
    "\n",
    "    def call(self, x, mask=None):\n",
    "        features_dim = self.features_dim\n",
    "        step_dim = self.step_dim\n",
    "\n",
    "        eij = K.reshape(K.dot(K.reshape(x, (-1, features_dim)),\n",
    "                        K.reshape(self.W, (features_dim, 1))), (-1, step_dim))\n",
    "\n",
    "        if self.bias:\n",
    "            eij += self.b\n",
    "\n",
    "        eij = K.tanh(eij)\n",
    "\n",
    "        a = K.exp(eij)\n",
    "\n",
    "        if mask is not None:\n",
    "            a *= K.cast(mask, K.floatx())\n",
    "\n",
    "        a /= K.cast(K.sum(a, axis=1, keepdims=True) + K.epsilon(), K.floatx())\n",
    "\n",
    "        a = K.expand_dims(a)\n",
    "        weighted_input = x * a\n",
    "        return K.sum(weighted_input, axis=1)\n",
    "\n",
    "    def compute_output_shape(self, input_shape):\n",
    "        return input_shape[0],  self.features_dim        "
   ]
  },
  {
   "cell_type": "code",
   "execution_count": 106,
   "metadata": {},
   "outputs": [
    {
     "name": "stdout",
     "output_type": "stream",
     "text": [
      "_________________________________________________________________\n",
      "Layer (type)                 Output Shape              Param #   \n",
      "=================================================================\n",
      "input_10 (InputLayer)        (None, 100)               0         \n",
      "_________________________________________________________________\n",
      "embedding_12 (Embedding)     (None, 100, 64)           857344    \n",
      "_________________________________________________________________\n",
      "bidirectional_6 (Bidirection (None, 100, 256)          197632    \n",
      "_________________________________________________________________\n",
      "attention_3 (Attention)      (None, 256)               356       \n",
      "_________________________________________________________________\n",
      "dense_16 (Dense)             (None, 128)               32896     \n",
      "_________________________________________________________________\n",
      "dropout_8 (Dropout)          (None, 128)               0         \n",
      "_________________________________________________________________\n",
      "dense_17 (Dense)             (None, 2)                 258       \n",
      "=================================================================\n",
      "Total params: 1,088,486\n",
      "Trainable params: 1,088,486\n",
      "Non-trainable params: 0\n",
      "_________________________________________________________________\n"
     ]
    }
   ],
   "source": [
    "inp = Input(shape=(mlen, ))\n",
    "x = Embedding(max_fatures, embed_dim, input_length=X.shape[1])(inp)\n",
    "x = Bidirectional(LSTM(128, return_sequences=True, dropout=0.25,\n",
    "                       recurrent_dropout=0.25))(x)\n",
    "x = Attention(mlen)(x)\n",
    "x = Dense(128, activation=\"relu\")(x)\n",
    "x = Dropout(0.25)(x)\n",
    "x = Dense(2, activation=\"softmax\")(x)\n",
    "model5 = Model(inputs=inp, outputs=x)\n",
    "\n",
    "model5.compile(loss='categorical_crossentropy', optimizer='adam', metrics=['accuracy'])\n",
    "model5.summary()"
   ]
  },
  {
   "cell_type": "code",
   "execution_count": 107,
   "metadata": {},
   "outputs": [
    {
     "name": "stdout",
     "output_type": "stream",
     "text": [
      "Train on 11376 samples, validate on 5604 samples\n",
      "Epoch 1/10\n",
      "11376/11376 [==============================] - 103s 9ms/step - loss: 0.5108 - acc: 0.8057 - val_loss: 0.4468 - val_acc: 0.8233\n",
      "Epoch 2/10\n",
      "11376/11376 [==============================] - 92s 8ms/step - loss: 0.3802 - acc: 0.8355 - val_loss: 0.3151 - val_acc: 0.8767\n",
      "Epoch 3/10\n",
      "11376/11376 [==============================] - 92s 8ms/step - loss: 0.2559 - acc: 0.8899 - val_loss: 0.2529 - val_acc: 0.8940\n",
      "Epoch 4/10\n",
      "11376/11376 [==============================] - 92s 8ms/step - loss: 0.2081 - acc: 0.9169 - val_loss: 0.2536 - val_acc: 0.8892\n",
      "Epoch 5/10\n",
      "11376/11376 [==============================] - 92s 8ms/step - loss: 0.1780 - acc: 0.9296 - val_loss: 0.2576 - val_acc: 0.8940\n",
      "Epoch 6/10\n",
      "11376/11376 [==============================] - 94s 8ms/step - loss: 0.1528 - acc: 0.9410 - val_loss: 0.2861 - val_acc: 0.8936\n",
      "Epoch 00006: early stopping\n",
      "5661/5661 [==============================] - 13s 2ms/step\n",
      "\n",
      "loss: 0.293\n",
      "acc: 0.889\n"
     ]
    }
   ],
   "source": [
    "batch_size = 256\n",
    "earlystopper = EarlyStopping(patience=3, verbose=1)\n",
    "\n",
    "model5.fit(X_train, Y_train, validation_split=0.33, batch_size=batch_size, epochs=10, verbose = 1, \n",
    "                    callbacks=[earlystopper])\n",
    "\n",
    "loss, acc = model5.evaluate(X_valid, Y_valid, verbose = 1, batch_size = batch_size)\n",
    "\n",
    "print()\n",
    "print(\"loss: %.3f\" % (loss))\n",
    "print(\"acc: %.3f\" % (acc))"
   ]
  },
  {
   "cell_type": "markdown",
   "metadata": {},
   "source": [
    "## ROC curve on Testing data"
   ]
  },
  {
   "cell_type": "code",
   "execution_count": 99,
   "metadata": {
    "scrolled": false
   },
   "outputs": [
    {
     "name": "stdout",
     "output_type": "stream",
     "text": [
      "5661/5661 [==============================] - 5s 957us/step\n",
      "0.9092195226255939\n"
     ]
    }
   ],
   "source": [
    "from sklearn import metrics\n",
    "\n",
    "pred3 = model_conv3.predict(X_valid, batch_size=256, verbose = 1)\n",
    "y_pred_proba = pred3[:, 1]\n",
    "auc = metrics.roc_auc_score(Y_valid[:, 1], y_pred_proba)\n",
    "print(auc)"
   ]
  },
  {
   "cell_type": "code",
   "execution_count": 72,
   "metadata": {},
   "outputs": [
    {
     "data": {
      "image/png": "[encoded data removed]",
      "text/plain": [
       "<Figure size 432x432 with 1 Axes>"
      ]
     },
     "metadata": {},
     "output_type": "display_data"
    }
   ],
   "source": [
    "import matplotlib.pyplot as plt\n",
    "\n",
    "y_pred_proba = pred3[:, 1]\n",
    "y_test = Y_valid[:, 1]\n",
    "\n",
    "fpr, tpr, _ = metrics.roc_curve(y_test,  y_pred_proba)\n",
    "auc = metrics.roc_auc_score(y_test, y_pred_proba)\n",
    "\n",
    "plt.figure(figsize=(6, 6))\n",
    "plt.plot(fpr,tpr,label=\"auc=\"+str(auc))\n",
    "plt.plot([0, 1], [0, 1], color='black', lw=2, linestyle='--')\n",
    "plt.xlabel('False Positive Rate')\n",
    "plt.ylabel('True Positive Rate')\n",
    "plt.legend(loc=4)\n",
    "plt.show()"
   ]
  },
  {
   "cell_type": "markdown",
   "metadata": {},
   "source": [
    "## lazada data performance"
   ]
  },
  {
   "cell_type": "code",
   "execution_count": 96,
   "metadata": {},
   "outputs": [
    {
     "name": "stdout",
     "output_type": "stream",
     "text": [
      "334/334 [==============================] - 0s 859us/step\n",
      "acc: 0.859\n",
      "334/334 [==============================] - 1s 4ms/step\n",
      "acc: 0.868\n",
      "334/334 [==============================] - 0s 835us/step\n",
      "acc: 0.826\n",
      "334/334 [==============================] - 1s 2ms/step\n",
      "acc: 0.835\n"
     ]
    }
   ],
   "source": [
    "loss, acc = model.evaluate(X[n1:(n1+n2),:], Y[n1:(n1+n2),:], verbose = 1, batch_size = batch_size)\n",
    "print(\"acc: %.3f\" % (acc))\n",
    "\n",
    "loss, acc = model2.evaluate(X[n1:(n1+n2),:], Y[n1:(n1+n2),:], verbose = 1, batch_size = batch_size)\n",
    "print(\"acc: %.3f\" % (acc))\n",
    "\n",
    "loss, acc = model_conv3.evaluate(X[n1:(n1+n2),:], Y[n1:(n1+n2),:], verbose = 1, batch_size = batch_size)\n",
    "print(\"acc: %.3f\" % (acc))\n",
    "\n",
    "loss, acc = model4.evaluate(X[n1:(n1+n2),:], Y[n1:(n1+n2),:], verbose = 1, batch_size = batch_size)\n",
    "print(\"acc: %.3f\" % (acc))"
   ]
  },
  {
   "cell_type": "code",
   "execution_count": 108,
   "metadata": {},
   "outputs": [
    {
     "name": "stdout",
     "output_type": "stream",
     "text": [
      "334/334 [==============================] - 1s 3ms/step\n",
      "acc: 0.850\n"
     ]
    }
   ],
   "source": [
    "loss, acc = model5.evaluate(X[n1:(n1+n2),:], Y[n1:(n1+n2),:], verbose = 1, batch_size = batch_size)\n",
    "print(\"acc: %.3f\" % (acc))"
   ]
  },
  {
   "cell_type": "code",
   "execution_count": null,
   "metadata": {
    "collapsed": true
   },
   "outputs": [],
   "source": []
  },
  {
   "cell_type": "code",
   "execution_count": 73,
   "metadata": {},
   "outputs": [
    {
     "name": "stdout",
     "output_type": "stream",
     "text": [
      "334/334 [==============================] - 2s 5ms/step\n",
      "0.7115987460815048\n"
     ]
    }
   ],
   "source": [
    "pred = model4.predict(X[n1:(n1+n2),:], batch_size=8,verbose = 1)\n",
    "y_pred_proba = pred[:, 1]\n",
    "auc = metrics.roc_auc_score(Y[n1:(n1+n2), 1], y_pred_proba)\n",
    "print(auc)"
   ]
  },
  {
   "cell_type": "code",
   "execution_count": 53,
   "metadata": {},
   "outputs": [
    {
     "data": {
      "text/plain": [
       "0.8682634730538922"
      ]
     },
     "execution_count": 53,
     "metadata": {},
     "output_type": "execute_result"
    }
   ],
   "source": [
    "sum(Y[n1:(n1+n2), 1]) / n2"
   ]
  },
  {
   "cell_type": "code",
   "execution_count": 74,
   "metadata": {},
   "outputs": [
    {
     "data": {
      "image/png": "[encoded data removed]",
      "text/plain": [
       "<Figure size 432x432 with 1 Axes>"
      ]
     },
     "metadata": {},
     "output_type": "display_data"
    }
   ],
   "source": [
    "y_pred_proba = pred[:, 1]\n",
    "y_test = Y[n1:(n1+n2), 1]\n",
    "\n",
    "fpr, tpr, _ = metrics.roc_curve(y_test,  y_pred_proba)\n",
    "auc = metrics.roc_auc_score(y_test, y_pred_proba)\n",
    "\n",
    "plt.figure(figsize=(6, 6))\n",
    "plt.plot(fpr,tpr,label=\"auc=\"+str(auc))\n",
    "plt.plot([0, 1], [0, 1], color='black', lw=2, linestyle='--')\n",
    "plt.xlabel('False Positive Rate')\n",
    "plt.ylabel('True Positive Rate')\n",
    "plt.legend(loc=4)\n",
    "plt.show()"
   ]
  },
  {
   "cell_type": "markdown",
   "metadata": {},
   "source": [
    "## Predict sentiment on all rest"
   ]
  },
  {
   "cell_type": "code",
   "execution_count": 18,
   "metadata": {},
   "outputs": [
    {
     "name": "stdout",
     "output_type": "stream",
     "text": [
      "13544/13544 [==============================] - 24s 2ms/step\n"
     ]
    },
    {
     "data": {
      "text/plain": [
       "array([0.5506865, 0.5506865, 0.9969813, 0.9942392, 0.5871868, 0.9914289,\n",
       "       0.9942392, 0.9940257, 0.9035721, 0.9942392], dtype=float32)"
      ]
     },
     "execution_count": 18,
     "metadata": {},
     "output_type": "execute_result"
    }
   ],
   "source": [
    "pred_f = model4.predict(X[(n1+n2):], batch_size=128,verbose = 1)\n",
    "pred_prob = pred_f[:, 1]\n",
    "pred_prob[:10]"
   ]
  },
  {
   "cell_type": "code",
   "execution_count": 19,
   "metadata": {},
   "outputs": [
    {
     "data": {
      "text/html": [
       "<div>\n",
       "<style>\n",
       "    .dataframe thead tr:only-child th {\n",
       "        text-align: right;\n",
       "    }\n",
       "\n",
       "    .dataframe thead th {\n",
       "        text-align: left;\n",
       "    }\n",
       "\n",
       "    .dataframe tbody tr th {\n",
       "        vertical-align: top;\n",
       "    }\n",
       "</style>\n",
       "<table border=\"1\" class=\"dataframe\">\n",
       "  <thead>\n",
       "    <tr style=\"text-align: right;\">\n",
       "      <th></th>\n",
       "      <th>buyer</th>\n",
       "      <th>date</th>\n",
       "      <th>pid</th>\n",
       "      <th>pname</th>\n",
       "      <th>review</th>\n",
       "      <th>sentiment</th>\n",
       "    </tr>\n",
       "  </thead>\n",
       "  <tbody>\n",
       "    <tr>\n",
       "      <th>1</th>\n",
       "      <td>adrianazxcs</td>\n",
       "      <td>2018-04-16 19:59</td>\n",
       "      <td>521024052</td>\n",
       "      <td>ZANZEA 2017 Rompers Women Jumpsuits Plus Size ...</td>\n",
       "      <td>Good product quality</td>\n",
       "      <td>0.5507</td>\n",
       "    </tr>\n",
       "    <tr>\n",
       "      <th>2</th>\n",
       "      <td>kamini2311</td>\n",
       "      <td>2018-04-14 16:02</td>\n",
       "      <td>521024052</td>\n",
       "      <td>ZANZEA 2017 Rompers Women Jumpsuits Plus Size ...</td>\n",
       "      <td>Good product quality</td>\n",
       "      <td>0.5507</td>\n",
       "    </tr>\n",
       "    <tr>\n",
       "      <th>3</th>\n",
       "      <td>jojoandlove</td>\n",
       "      <td>2018-04-10 22:28</td>\n",
       "      <td>521024052</td>\n",
       "      <td>ZANZEA 2017 Rompers Women Jumpsuits Plus Size ...</td>\n",
       "      <td>The colour was 3-4 tones lighter than in pictu...</td>\n",
       "      <td>0.9970</td>\n",
       "    </tr>\n",
       "    <tr>\n",
       "      <th>4</th>\n",
       "      <td>feezah25</td>\n",
       "      <td>2018-04-05 18:09</td>\n",
       "      <td>521024052</td>\n",
       "      <td>ZANZEA 2017 Rompers Women Jumpsuits Plus Size ...</td>\n",
       "      <td>Good product quality Fast delivery Excellent s...</td>\n",
       "      <td>0.9942</td>\n",
       "    </tr>\n",
       "    <tr>\n",
       "      <th>5</th>\n",
       "      <td>fredjo</td>\n",
       "      <td>2018-04-05 18:04</td>\n",
       "      <td>521024052</td>\n",
       "      <td>ZANZEA 2017 Rompers Women Jumpsuits Plus Size ...</td>\n",
       "      <td>Product quality is ok, size are too big</td>\n",
       "      <td>0.5872</td>\n",
       "    </tr>\n",
       "  </tbody>\n",
       "</table>\n",
       "</div>"
      ],
      "text/plain": [
       "         buyer              date        pid  \\\n",
       "1  adrianazxcs  2018-04-16 19:59  521024052   \n",
       "2   kamini2311  2018-04-14 16:02  521024052   \n",
       "3  jojoandlove  2018-04-10 22:28  521024052   \n",
       "4     feezah25  2018-04-05 18:09  521024052   \n",
       "5       fredjo  2018-04-05 18:04  521024052   \n",
       "\n",
       "                                               pname  \\\n",
       "1  ZANZEA 2017 Rompers Women Jumpsuits Plus Size ...   \n",
       "2  ZANZEA 2017 Rompers Women Jumpsuits Plus Size ...   \n",
       "3  ZANZEA 2017 Rompers Women Jumpsuits Plus Size ...   \n",
       "4  ZANZEA 2017 Rompers Women Jumpsuits Plus Size ...   \n",
       "5  ZANZEA 2017 Rompers Women Jumpsuits Plus Size ...   \n",
       "\n",
       "                                              review  sentiment  \n",
       "1                               Good product quality     0.5507  \n",
       "2                               Good product quality     0.5507  \n",
       "3  The colour was 3-4 tones lighter than in pictu...     0.9970  \n",
       "4  Good product quality Fast delivery Excellent s...     0.9942  \n",
       "5            Product quality is ok, size are too big     0.5872  "
      ]
     },
     "execution_count": 19,
     "metadata": {},
     "output_type": "execute_result"
    }
   ],
   "source": [
    "shopee['sentiment'] = [round(i, 4) for i in pred_prob.tolist()]\n",
    "shopee.head()"
   ]
  },
  {
   "cell_type": "code",
   "execution_count": 20,
   "metadata": {
    "collapsed": true
   },
   "outputs": [],
   "source": [
    "shopee.to_csv('shopee_pred.csv')"
   ]
  },
  {
   "cell_type": "markdown",
   "metadata": {},
   "source": [
    "### Aggregate prediction results"
   ]
  },
  {
   "cell_type": "code",
   "execution_count": 23,
   "metadata": {},
   "outputs": [
    {
     "data": {
      "text/plain": [
       "1    2018-04-16\n",
       "2    2018-04-14\n",
       "3    2018-04-10\n",
       "4    2018-04-05\n",
       "5    2018-04-05\n",
       "Name: date2, dtype: object"
      ]
     },
     "execution_count": 23,
     "metadata": {},
     "output_type": "execute_result"
    }
   ],
   "source": [
    "shopee['date2'] = shopee['date'].apply(lambda x: x[:10])\n",
    "shopee['date2'][:5]"
   ]
  },
  {
   "cell_type": "code",
   "execution_count": 31,
   "metadata": {},
   "outputs": [
    {
     "data": {
      "text/plain": [
       "pname\n",
       "READY STOCK ！ oversized tee basic t-shirts koreanfashion simple white blouse        967\n",
       "Ready STOCK！hot sale loose short sleeves show slim summer girl                      364\n",
       "⭐️BUY 4 FREE 1⭐️MUNAFIE SEAMLESS SLIMMING PANTIES⭐️                                 344\n",
       "[READY STOCK] (Best Seller!!) JYUNEESG'S Loose fit Basic High Neck TOP              317\n",
       "7 color optional Ready Stock！Retro Loose Speaker Sleeve Round Long Sleeve TShirt    299\n",
       "Name: date2, dtype: int64"
      ]
     },
     "execution_count": 31,
     "metadata": {},
     "output_type": "execute_result"
    }
   ],
   "source": [
    "shop_sub = shopee.groupby(['pname'])['date2'].count().sort_values(ascending=False)\n",
    "shop_sub.head(5)"
   ]
  },
  {
   "cell_type": "code",
   "execution_count": 49,
   "metadata": {},
   "outputs": [
    {
     "data": {
      "text/html": [
       "<div>\n",
       "<style>\n",
       "    .dataframe thead tr:only-child th {\n",
       "        text-align: right;\n",
       "    }\n",
       "\n",
       "    .dataframe thead th {\n",
       "        text-align: left;\n",
       "    }\n",
       "\n",
       "    .dataframe tbody tr th {\n",
       "        vertical-align: top;\n",
       "    }\n",
       "</style>\n",
       "<table border=\"1\" class=\"dataframe\">\n",
       "  <thead>\n",
       "    <tr style=\"text-align: right;\">\n",
       "      <th></th>\n",
       "      <th>pname</th>\n",
       "      <th>date2</th>\n",
       "      <th>sentiment</th>\n",
       "    </tr>\n",
       "  </thead>\n",
       "  <tbody>\n",
       "    <tr>\n",
       "      <th>0</th>\n",
       "      <td>#IQ791 MYLA'S CRISS CROSS TIE FRONT KNIT V NEC...</td>\n",
       "      <td>2017-10-12</td>\n",
       "      <td>0.5458</td>\n",
       "    </tr>\n",
       "    <tr>\n",
       "      <th>1</th>\n",
       "      <td>#IQ791 MYLA'S CRISS CROSS TIE FRONT KNIT V NEC...</td>\n",
       "      <td>2017-10-16</td>\n",
       "      <td>0.9942</td>\n",
       "    </tr>\n",
       "    <tr>\n",
       "      <th>2</th>\n",
       "      <td>#IQ791 MYLA'S CRISS CROSS TIE FRONT KNIT V NEC...</td>\n",
       "      <td>2017-10-18</td>\n",
       "      <td>0.9890</td>\n",
       "    </tr>\n",
       "    <tr>\n",
       "      <th>3</th>\n",
       "      <td>#IQ791 MYLA'S CRISS CROSS TIE FRONT KNIT V NEC...</td>\n",
       "      <td>2017-10-23</td>\n",
       "      <td>0.9578</td>\n",
       "    </tr>\n",
       "    <tr>\n",
       "      <th>4</th>\n",
       "      <td>#IQ791 MYLA'S CRISS CROSS TIE FRONT KNIT V NEC...</td>\n",
       "      <td>2017-10-27</td>\n",
       "      <td>0.5507</td>\n",
       "    </tr>\n",
       "  </tbody>\n",
       "</table>\n",
       "</div>"
      ],
      "text/plain": [
       "                                               pname       date2  sentiment\n",
       "0  #IQ791 MYLA'S CRISS CROSS TIE FRONT KNIT V NEC...  2017-10-12     0.5458\n",
       "1  #IQ791 MYLA'S CRISS CROSS TIE FRONT KNIT V NEC...  2017-10-16     0.9942\n",
       "2  #IQ791 MYLA'S CRISS CROSS TIE FRONT KNIT V NEC...  2017-10-18     0.9890\n",
       "3  #IQ791 MYLA'S CRISS CROSS TIE FRONT KNIT V NEC...  2017-10-23     0.9578\n",
       "4  #IQ791 MYLA'S CRISS CROSS TIE FRONT KNIT V NEC...  2017-10-27     0.5507"
      ]
     },
     "execution_count": 49,
     "metadata": {},
     "output_type": "execute_result"
    }
   ],
   "source": [
    "shop = shopee.groupby(['pname', 'date2'])['sentiment'].mean().reset_index()\n",
    "shop['sentiment'] = [round(i, 4) for i in shop['sentiment'].tolist()]\n",
    "\n",
    "shop.head()"
   ]
  },
  {
   "cell_type": "code",
   "execution_count": 52,
   "metadata": {},
   "outputs": [
    {
     "name": "stdout",
     "output_type": "stream",
     "text": [
      "['READY STOCK ！ oversized tee basic t-shirts koreanfashion simple white blouse', 'Ready STOCK！hot sale loose short sleeves show slim summer girl', '⭐️BUY 4 FREE 1⭐️MUNAFIE SEAMLESS SLIMMING PANTIES⭐️', \"[READY STOCK] (Best Seller!!) JYUNEESG'S Loose fit Basic High Neck TOP\", '7 color optional Ready Stock！Retro Loose Speaker Sleeve Round Long Sleeve TShirt', 'White shirt female long sleeve han fan wide loose south Korean shirt', 'MONTIFS Strap Culottes - Multi Color', 'Silicone Nipple Cover Sticker Pads Shields Guard for Gown', '[READY STOK] BL-B-06 Knitted Turtle Neck T-Shirt Top', '✨HOT Women Warm Winter Thick Footless Tights Skinny Slim Leggings Stretch Pants']\n"
     ]
    },
    {
     "data": {
      "text/html": [
       "<div>\n",
       "<style>\n",
       "    .dataframe thead tr:only-child th {\n",
       "        text-align: right;\n",
       "    }\n",
       "\n",
       "    .dataframe thead th {\n",
       "        text-align: left;\n",
       "    }\n",
       "\n",
       "    .dataframe tbody tr th {\n",
       "        vertical-align: top;\n",
       "    }\n",
       "</style>\n",
       "<table border=\"1\" class=\"dataframe\">\n",
       "  <thead>\n",
       "    <tr style=\"text-align: right;\">\n",
       "      <th></th>\n",
       "      <th>pname</th>\n",
       "      <th>date2</th>\n",
       "      <th>sentiment</th>\n",
       "    </tr>\n",
       "  </thead>\n",
       "  <tbody>\n",
       "    <tr>\n",
       "      <th>388</th>\n",
       "      <td>7 color optional Ready Stock！Retro Loose Speak...</td>\n",
       "      <td>2017-10-27</td>\n",
       "      <td>0.9871</td>\n",
       "    </tr>\n",
       "    <tr>\n",
       "      <th>389</th>\n",
       "      <td>7 color optional Ready Stock！Retro Loose Speak...</td>\n",
       "      <td>2017-10-31</td>\n",
       "      <td>0.6664</td>\n",
       "    </tr>\n",
       "    <tr>\n",
       "      <th>390</th>\n",
       "      <td>7 color optional Ready Stock！Retro Loose Speak...</td>\n",
       "      <td>2017-11-05</td>\n",
       "      <td>0.9987</td>\n",
       "    </tr>\n",
       "    <tr>\n",
       "      <th>391</th>\n",
       "      <td>7 color optional Ready Stock！Retro Loose Speak...</td>\n",
       "      <td>2017-11-06</td>\n",
       "      <td>0.8939</td>\n",
       "    </tr>\n",
       "    <tr>\n",
       "      <th>392</th>\n",
       "      <td>7 color optional Ready Stock！Retro Loose Speak...</td>\n",
       "      <td>2017-11-07</td>\n",
       "      <td>0.7161</td>\n",
       "    </tr>\n",
       "  </tbody>\n",
       "</table>\n",
       "</div>"
      ],
      "text/plain": [
       "                                                 pname       date2  sentiment\n",
       "388  7 color optional Ready Stock！Retro Loose Speak...  2017-10-27     0.9871\n",
       "389  7 color optional Ready Stock！Retro Loose Speak...  2017-10-31     0.6664\n",
       "390  7 color optional Ready Stock！Retro Loose Speak...  2017-11-05     0.9987\n",
       "391  7 color optional Ready Stock！Retro Loose Speak...  2017-11-06     0.8939\n",
       "392  7 color optional Ready Stock！Retro Loose Speak...  2017-11-07     0.7161"
      ]
     },
     "execution_count": 52,
     "metadata": {},
     "output_type": "execute_result"
    }
   ],
   "source": [
    "plist = shop_sub.index.tolist()[:10]\n",
    "print(plist)\n",
    "\n",
    "df = shop[shop['pname'].isin(plist)]\n",
    "df.head()"
   ]
  },
  {
   "cell_type": "code",
   "execution_count": 45,
   "metadata": {},
   "outputs": [
    {
     "data": {
      "text/plain": [
       "[READY STOCK] (Best Seller!!) JYUNEESG'S Loose fit Basic High Neck TOP              205\n",
       "READY STOCK ！ oversized tee basic t-shirts koreanfashion simple white blouse        205\n",
       "Ready STOCK！hot sale loose short sleeves show slim summer girl                      162\n",
       "White shirt female long sleeve han fan wide loose south Korean shirt                138\n",
       "⭐️BUY 4 FREE 1⭐️MUNAFIE SEAMLESS SLIMMING PANTIES⭐️                                 132\n",
       "MONTIFS Strap Culottes - Multi Color                                                116\n",
       "7 color optional Ready Stock！Retro Loose Speaker Sleeve Round Long Sleeve TShirt    115\n",
       "Silicone Nipple Cover Sticker Pads Shields Guard for Gown                           104\n",
       "[READY STOK] BL-B-06 Knitted Turtle Neck T-Shirt Top                                 83\n",
       "✨HOT Women Warm Winter Thick Footless Tights Skinny Slim Leggings Stretch Pants      62\n",
       "Name: pname, dtype: int64"
      ]
     },
     "execution_count": 45,
     "metadata": {},
     "output_type": "execute_result"
    }
   ],
   "source": [
    "df['pname'].value_counts()"
   ]
  },
  {
   "cell_type": "code",
   "execution_count": 68,
   "metadata": {},
   "outputs": [
    {
     "name": "stdout",
     "output_type": "stream",
     "text": [
      "10\n"
     ]
    }
   ],
   "source": [
    "# out = []\n",
    "out = {}\n",
    "\n",
    "for pid in plist:\n",
    "    \n",
    "    dates = df[df.pname == pid]['date2'].tolist()\n",
    "    prices = df[df.pname == pid]['sentiment'].tolist()\n",
    "    dict_tmp = {\n",
    "        'date': dates,\n",
    "        'score': prices\n",
    "    }\n",
    "    \n",
    "    text = re.sub(r'[^a-zA-Z0-9\\[\\]\\-\\s\\(\\)\\!]','', pid)\n",
    "    out[text] = dict_tmp\n",
    "    # out.append(dict_tmp)\n",
    "    \n",
    "print(len(out))"
   ]
  },
  {
   "cell_type": "code",
   "execution_count": 69,
   "metadata": {},
   "outputs": [
    {
     "data": {
      "text/plain": [
       "dict_keys(['READY STOCK  oversized tee basic t-shirts koreanfashion simple white blouse', 'Ready STOCKhot sale loose short sleeves show slim summer girl', 'BUY 4 FREE 1MUNAFIE SEAMLESS SLIMMING PANTIES', '[READY STOCK] (Best Seller!!) JYUNEESGS Loose fit Basic High Neck TOP', '7 color optional Ready StockRetro Loose Speaker Sleeve Round Long Sleeve TShirt', 'White shirt female long sleeve han fan wide loose south Korean shirt', 'MONTIFS Strap Culottes - Multi Color', 'Silicone Nipple Cover Sticker Pads Shields Guard for Gown', '[READY STOK] BL-B-06 Knitted Turtle Neck T-Shirt Top', 'HOT Women Warm Winter Thick Footless Tights Skinny Slim Leggings Stretch Pants'])"
      ]
     },
     "execution_count": 69,
     "metadata": {},
     "output_type": "execute_result"
    }
   ],
   "source": [
    "out.keys()"
   ]
  },
  {
   "cell_type": "code",
   "execution_count": 70,
   "metadata": {
    "collapsed": true
   },
   "outputs": [],
   "source": [
    "import json\n",
    "with open('sentiment_fix.json', 'w') as outfile:\n",
    "    json.dump(out, outfile)"
   ]
  },
  {
   "cell_type": "code",
   "execution_count": 66,
   "metadata": {},
   "outputs": [
    {
     "data": {
      "text/plain": [
       "['READY STOCK ！ oversized tee basic t-shirts koreanfashion simple white blouse',\n",
       " 'Ready STOCK！hot sale loose short sleeves show slim summer girl',\n",
       " '⭐️BUY 4 FREE 1⭐️MUNAFIE SEAMLESS SLIMMING PANTIES⭐️',\n",
       " \"[READY STOCK] (Best Seller!!) JYUNEESG'S Loose fit Basic High Neck TOP\",\n",
       " '7 color optional Ready Stock！Retro Loose Speaker Sleeve Round Long Sleeve TShirt',\n",
       " 'White shirt female long sleeve han fan wide loose south Korean shirt',\n",
       " 'MONTIFS Strap Culottes - Multi Color',\n",
       " 'Silicone Nipple Cover Sticker Pads Shields Guard for Gown',\n",
       " '[READY STOK] BL-B-06 Knitted Turtle Neck T-Shirt Top',\n",
       " '✨HOT Women Warm Winter Thick Footless Tights Skinny Slim Leggings Stretch Pants']"
      ]
     },
     "execution_count": 66,
     "metadata": {},
     "output_type": "execute_result"
    }
   ],
   "source": [
    "plist"
   ]
  },
  {
   "cell_type": "code",
   "execution_count": 67,
   "metadata": {},
   "outputs": [
    {
     "data": {
      "text/plain": [
       "['READY STOCK  oversized tee basic t-shirts koreanfashion simple white blouse',\n",
       " 'Ready STOCKhot sale loose short sleeves show slim summer girl',\n",
       " 'BUY 4 FREE 1MUNAFIE SEAMLESS SLIMMING PANTIES',\n",
       " '[READY STOCK] (Best Seller!!) JYUNEESGS Loose fit Basic High Neck TOP',\n",
       " '7 color optional Ready StockRetro Loose Speaker Sleeve Round Long Sleeve TShirt',\n",
       " 'White shirt female long sleeve han fan wide loose south Korean shirt',\n",
       " 'MONTIFS Strap Culottes - Multi Color',\n",
       " 'Silicone Nipple Cover Sticker Pads Shields Guard for Gown',\n",
       " '[READY STOK] BL-B-06 Knitted Turtle Neck T-Shirt Top',\n",
       " 'HOT Women Warm Winter Thick Footless Tights Skinny Slim Leggings Stretch Pants']"
      ]
     },
     "execution_count": 67,
     "metadata": {},
     "output_type": "execute_result"
    }
   ],
   "source": [
    "[re.sub(r'[^a-zA-Z0-9\\[\\]\\-\\s\\(\\)\\!]','',text) for text in plist]"
   ]
  },
  {
   "cell_type": "markdown",
   "metadata": {
    "collapsed": true
   },
   "source": [
    "## Smooth out the prediction"
   ]
  },
  {
   "cell_type": "code",
   "execution_count": 115,
   "metadata": {},
   "outputs": [
    {
     "data": {
      "text/html": [
       "<div>\n",
       "<style>\n",
       "    .dataframe thead tr:only-child th {\n",
       "        text-align: right;\n",
       "    }\n",
       "\n",
       "    .dataframe thead th {\n",
       "        text-align: left;\n",
       "    }\n",
       "\n",
       "    .dataframe tbody tr th {\n",
       "        vertical-align: top;\n",
       "    }\n",
       "</style>\n",
       "<table border=\"1\" class=\"dataframe\">\n",
       "  <thead>\n",
       "    <tr style=\"text-align: right;\">\n",
       "      <th></th>\n",
       "      <th>pname</th>\n",
       "      <th>date2</th>\n",
       "      <th>sentiment</th>\n",
       "    </tr>\n",
       "  </thead>\n",
       "  <tbody>\n",
       "    <tr>\n",
       "      <th>388</th>\n",
       "      <td>7 color optional Ready Stock！Retro Loose Speak...</td>\n",
       "      <td>2017-10-27</td>\n",
       "      <td>0.9871</td>\n",
       "    </tr>\n",
       "    <tr>\n",
       "      <th>389</th>\n",
       "      <td>7 color optional Ready Stock！Retro Loose Speak...</td>\n",
       "      <td>2017-10-31</td>\n",
       "      <td>0.6664</td>\n",
       "    </tr>\n",
       "    <tr>\n",
       "      <th>390</th>\n",
       "      <td>7 color optional Ready Stock！Retro Loose Speak...</td>\n",
       "      <td>2017-11-05</td>\n",
       "      <td>0.9987</td>\n",
       "    </tr>\n",
       "    <tr>\n",
       "      <th>391</th>\n",
       "      <td>7 color optional Ready Stock！Retro Loose Speak...</td>\n",
       "      <td>2017-11-06</td>\n",
       "      <td>0.8939</td>\n",
       "    </tr>\n",
       "    <tr>\n",
       "      <th>392</th>\n",
       "      <td>7 color optional Ready Stock！Retro Loose Speak...</td>\n",
       "      <td>2017-11-07</td>\n",
       "      <td>0.7161</td>\n",
       "    </tr>\n",
       "  </tbody>\n",
       "</table>\n",
       "</div>"
      ],
      "text/plain": [
       "                                                 pname       date2  sentiment\n",
       "388  7 color optional Ready Stock！Retro Loose Speak...  2017-10-27     0.9871\n",
       "389  7 color optional Ready Stock！Retro Loose Speak...  2017-10-31     0.6664\n",
       "390  7 color optional Ready Stock！Retro Loose Speak...  2017-11-05     0.9987\n",
       "391  7 color optional Ready Stock！Retro Loose Speak...  2017-11-06     0.8939\n",
       "392  7 color optional Ready Stock！Retro Loose Speak...  2017-11-07     0.7161"
      ]
     },
     "execution_count": 115,
     "metadata": {},
     "output_type": "execute_result"
    }
   ],
   "source": [
    "df.head()"
   ]
  },
  {
   "cell_type": "code",
   "execution_count": 158,
   "metadata": {},
   "outputs": [
    {
     "data": {
      "text/plain": [
       "<matplotlib.axes._subplots.AxesSubplot at 0x1ad6f810f0>"
      ]
     },
     "execution_count": 158,
     "metadata": {},
     "output_type": "execute_result"
    },
    {
     "data": {
      "image/png": "[encoded data removed]",
      "text/plain": [
       "<Figure size 720x288 with 1 Axes>"
      ]
     },
     "metadata": {},
     "output_type": "display_data"
    }
   ],
   "source": [
    "%matplotlib inline \n",
    "\n",
    "df_sub = df[df.pname == plist[1]]\n",
    "df_sub = df_sub[df.date2 >= '2017-10-01' ]\n",
    "df_sub['sentiment_mean'] = pd.rolling_mean(df_sub['sentiment'], 10)\n",
    "\n",
    "df_sub.plot.line(x='date2', y='sentiment_mean', figsize=(10, 4), ylim = [0.5, 1.0])"
   ]
  },
  {
   "cell_type": "code",
   "execution_count": 194,
   "metadata": {},
   "outputs": [
    {
     "data": {
      "text/plain": [
       "<matplotlib.axes._subplots.AxesSubplot at 0x1ad828c8d0>"
      ]
     },
     "execution_count": 194,
     "metadata": {},
     "output_type": "execute_result"
    },
    {
     "data": {
      "image/png": "[encoded data removed]",
      "text/plain": [
       "<Figure size 864x288 with 1 Axes>"
      ]
     },
     "metadata": {},
     "output_type": "display_data"
    }
   ],
   "source": [
    "df_sub = df[df.pname == plist[0]]\n",
    "# df_sub = df_sub[df.date2 >= '2018-01-10' ]\n",
    "df_sub['sentiment_mean'] = pd.rolling_mean(df_sub['sentiment'], 10)\n",
    "\n",
    "df_sub.plot.line(x='date2', y='sentiment_mean', figsize=(12, 4), ylim=[0.5, 1.0])"
   ]
  },
  {
   "cell_type": "code",
   "execution_count": 192,
   "metadata": {},
   "outputs": [
    {
     "data": {
      "text/plain": [
       "<matplotlib.axes._subplots.AxesSubplot at 0x1ad809cb38>"
      ]
     },
     "execution_count": 192,
     "metadata": {},
     "output_type": "execute_result"
    },
    {
     "data": {
      "image/png": "[encoded data removed]",
      "text/plain": [
       "<Figure size 864x288 with 1 Axes>"
      ]
     },
     "metadata": {},
     "output_type": "display_data"
    }
   ],
   "source": [
    "df_sub = df[df.pname == plist[2]]\n",
    "df_sub = df_sub[df.date2 <= '2018-01-10' ]\n",
    "df_sub['sentiment_mean'] = pd.rolling_mean(df_sub['sentiment'], 10)\n",
    "\n",
    "df_sub.plot.line(x='date2', y='sentiment_mean', figsize=(12, 4), ylim=[0.5, 1.0]) "
   ]
  },
  {
   "cell_type": "code",
   "execution_count": 199,
   "metadata": {},
   "outputs": [
    {
     "data": {
      "text/plain": [
       "<matplotlib.axes._subplots.AxesSubplot at 0x1ad860cf98>"
      ]
     },
     "execution_count": 199,
     "metadata": {},
     "output_type": "execute_result"
    },
    {
     "data": {
      "image/png": "[encoded data removed]",
      "text/plain": [
       "<Figure size 864x288 with 1 Axes>"
      ]
     },
     "metadata": {},
     "output_type": "display_data"
    }
   ],
   "source": [
    "df_sub = df[df.pname == plist[4]]\n",
    "df_sub['sentiment_mean'] = pd.rolling_mean(df_sub['sentiment'], 10)\n",
    "df_sub = df_sub[df.date2 >= '2017-12-20' ]\n",
    "\n",
    "text = re.sub(r'[^a-zA-Z0-9\\[\\]\\-\\s\\(\\)\\!]',' ', plist[4])\n",
    "df_sub.plot.line(x='date2', y='sentiment_mean', figsize=(12, 4), ylim=[0.5, 1.0], title = text) "
   ]
  },
  {
   "cell_type": "code",
   "execution_count": 164,
   "metadata": {},
   "outputs": [
    {
     "data": {
      "text/plain": [
       "'7 color optional Ready Stock！Retro Loose Speaker Sleeve Round Long Sleeve TShirt'"
      ]
     },
     "execution_count": 164,
     "metadata": {},
     "output_type": "execute_result"
    }
   ],
   "source": [
    "plist[4]"
   ]
  },
  {
   "cell_type": "code",
   "execution_count": 204,
   "metadata": {},
   "outputs": [
    {
     "name": "stdout",
     "output_type": "stream",
     "text": [
      "10\n"
     ]
    }
   ],
   "source": [
    "out = {}\n",
    "\n",
    "# for pid in [plist[4]]:\n",
    "for pid in plist:    \n",
    "    \n",
    "    df_sub = df[df.pname == pid]\n",
    "    df_sub['sentiment_mean'] = pd.rolling_mean(df_sub['sentiment'], 10)\n",
    "    df_sub.dropna(inplace=True)\n",
    "    # df_sub = df_sub[df.date2 >= '2017-12-20' ]\n",
    "\n",
    "    dates = df_sub['date2'].tolist()\n",
    "    prices = df_sub['sentiment_mean'].tolist()\n",
    "    dict_tmp = {\n",
    "        'date': dates,\n",
    "        'score': [round(i, 4) for i in prices]\n",
    "    }\n",
    "    \n",
    "    text = re.sub(r'[^a-zA-Z0-9\\[\\]\\-\\s\\(\\)\\!]',' ', pid)\n",
    "    text = re.sub(r'\\s+', ' ', text).strip()\n",
    "    out[text] = dict_tmp\n",
    "    # out.append(dict_tmp)\n",
    "    \n",
    "print(len(out))"
   ]
  },
  {
   "cell_type": "code",
   "execution_count": 205,
   "metadata": {
    "scrolled": true
   },
   "outputs": [
    {
     "data": {
      "text/plain": [
       "dict_keys(['READY STOCK oversized tee basic t-shirts koreanfashion simple white blouse', 'Ready STOCK hot sale loose short sleeves show slim summer girl', 'BUY 4 FREE 1 MUNAFIE SEAMLESS SLIMMING PANTIES', '[READY STOCK] (Best Seller!!) JYUNEESG S Loose fit Basic High Neck TOP', '7 color optional Ready Stock Retro Loose Speaker Sleeve Round Long Sleeve TShirt', 'White shirt female long sleeve han fan wide loose south Korean shirt', 'MONTIFS Strap Culottes - Multi Color', 'Silicone Nipple Cover Sticker Pads Shields Guard for Gown', '[READY STOK] BL-B-06 Knitted Turtle Neck T-Shirt Top', 'HOT Women Warm Winter Thick Footless Tights Skinny Slim Leggings Stretch Pants'])"
      ]
     },
     "execution_count": 205,
     "metadata": {},
     "output_type": "execute_result"
    }
   ],
   "source": [
    "out.keys()"
   ]
  },
  {
   "cell_type": "code",
   "execution_count": 207,
   "metadata": {
    "collapsed": true
   },
   "outputs": [],
   "source": [
    "import json\n",
    "with open('sentiment_final_top10_trim.json', 'w') as outfile:\n",
    "    json.dump(out, outfile)"
   ]
  },
  {
   "cell_type": "code",
   "execution_count": null,
   "metadata": {
    "collapsed": true
   },
   "outputs": [],
   "source": []
  }
 ],
 "metadata": {
  "kernelspec": {
   "display_name": "Python 3",
   "language": "python",
   "name": "python3"
  },
  "language_info": {
   "codemirror_mode": {
    "name": "ipython",
    "version": 3
   },
   "file_extension": ".py",
   "mimetype": "text/x-python",
   "name": "python",
   "nbconvert_exporter": "python",
   "pygments_lexer": "ipython3",
   "version": "3.6.8"
  }
 },
 "nbformat": 4,
 "nbformat_minor": 2
}
