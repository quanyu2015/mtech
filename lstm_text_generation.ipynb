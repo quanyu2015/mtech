{
 "cells": [
  {
   "cell_type": "markdown",
   "metadata": {},
   "source": [
    "## Loading model and tokenizer"
   ]
  },
  {
   "cell_type": "code",
   "execution_count": 2,
   "metadata": {
    "ExecuteTime": {
     "end_time": "2019-03-27T05:36:08.307885Z",
     "start_time": "2019-03-27T05:36:04.694873Z"
    }
   },
   "outputs": [
    {
     "data": {
      "text/plain": [
       "25274"
      ]
     },
     "execution_count": 2,
     "metadata": {},
     "output_type": "execute_result"
    }
   ],
   "source": [
    "from keras.models import load_model\n",
    "\n",
    "model_best = load_model('./lstm_model_20.hdf5')\n",
    "\n",
    "import pickle\n",
    "\n",
    "with open('./tokenizer.pkl', 'rb') as handle:\n",
    "    tokenizer = pickle.load(handle)\n",
    "\n",
    "len(tokenizer.word_index) + 1"
   ]
  },
  {
   "cell_type": "code",
   "execution_count": 5,
   "metadata": {},
   "outputs": [
    {
     "name": "stdout",
     "output_type": "stream",
     "text": [
      "_________________________________________________________________\n",
      "Layer (type)                 Output Shape              Param #   \n",
      "=================================================================\n",
      "embedding_7_input (InputLaye (None, 20)                0         \n",
      "_________________________________________________________________\n",
      "embedding_7 (Embedding)      (None, 20, 128)           640000    \n",
      "_________________________________________________________________\n",
      "bidirectional_6 (Bidirection (None, 256)               263168    \n",
      "_________________________________________________________________\n",
      "dropout_7 (Dropout)          (None, 256)               0         \n",
      "_________________________________________________________________\n",
      "dense_7 (Dense)              (None, 5000)              1285000   \n",
      "=================================================================\n",
      "Total params: 2,188,168\n",
      "Trainable params: 2,188,168\n",
      "Non-trainable params: 0\n",
      "_________________________________________________________________\n"
     ]
    }
   ],
   "source": [
    "model_best.summary()"
   ]
  },
  {
   "cell_type": "code",
   "execution_count": 4,
   "metadata": {},
   "outputs": [
    {
     "data": {
      "image/svg+xml": [
       "<svg height=\"337pt\" viewBox=\"0.00 0.00 284.00 337.00\" width=\"284pt\" xmlns=\"http://www.w3.org/2000/svg\" xmlns:xlink=\"http://www.w3.org/1999/xlink\">\n",
       "<g class=\"graph\" id=\"graph0\" transform=\"scale(1 1) rotate(0) translate(4 333)\">\n",
       "<title>G</title>\n",
       "<polygon fill=\"#ffffff\" points=\"-4,4 -4,-333 280,-333 280,4 -4,4\" stroke=\"transparent\"/>\n",
       "<!-- 103909002936 -->\n",
       "<g class=\"node\" id=\"node1\">\n",
       "<title>103909002936</title>\n",
       "<polygon fill=\"none\" points=\"39,-292.5 39,-328.5 237,-328.5 237,-292.5 39,-292.5\" stroke=\"#000000\"/>\n",
       "<text fill=\"#000000\" font-family=\"Times,serif\" font-size=\"14.00\" text-anchor=\"middle\" x=\"138\" y=\"-306.8\">embedding_7_input: InputLayer</text>\n",
       "</g>\n",
       "<!-- 103909002880 -->\n",
       "<g class=\"node\" id=\"node2\">\n",
       "<title>103909002880</title>\n",
       "<polygon fill=\"none\" points=\"55.5,-219.5 55.5,-255.5 220.5,-255.5 220.5,-219.5 55.5,-219.5\" stroke=\"#000000\"/>\n",
       "<text fill=\"#000000\" font-family=\"Times,serif\" font-size=\"14.00\" text-anchor=\"middle\" x=\"138\" y=\"-233.8\">embedding_7: Embedding</text>\n",
       "</g>\n",
       "<!-- 103909002936&#45;&gt;103909002880 -->\n",
       "<g class=\"edge\" id=\"edge1\">\n",
       "<title>103909002936-&gt;103909002880</title>\n",
       "<path d=\"M138,-292.4551C138,-284.3828 138,-274.6764 138,-265.6817\" fill=\"none\" stroke=\"#000000\"/>\n",
       "<polygon fill=\"#000000\" points=\"141.5001,-265.5903 138,-255.5904 134.5001,-265.5904 141.5001,-265.5903\" stroke=\"#000000\"/>\n",
       "</g>\n",
       "<!-- 103909002208 -->\n",
       "<g class=\"node\" id=\"node3\">\n",
       "<title>103909002208</title>\n",
       "<polygon fill=\"none\" points=\"0,-146.5 0,-182.5 276,-182.5 276,-146.5 0,-146.5\" stroke=\"#000000\"/>\n",
       "<text fill=\"#000000\" font-family=\"Times,serif\" font-size=\"14.00\" text-anchor=\"middle\" x=\"138\" y=\"-160.8\">bidirectional_6(lstm_7): Bidirectional(LSTM)</text>\n",
       "</g>\n",
       "<!-- 103909002880&#45;&gt;103909002208 -->\n",
       "<g class=\"edge\" id=\"edge2\">\n",
       "<title>103909002880-&gt;103909002208</title>\n",
       "<path d=\"M138,-219.4551C138,-211.3828 138,-201.6764 138,-192.6817\" fill=\"none\" stroke=\"#000000\"/>\n",
       "<polygon fill=\"#000000\" points=\"141.5001,-192.5903 138,-182.5904 134.5001,-192.5904 141.5001,-192.5903\" stroke=\"#000000\"/>\n",
       "</g>\n",
       "<!-- 103909528128 -->\n",
       "<g class=\"node\" id=\"node4\">\n",
       "<title>103909528128</title>\n",
       "<polygon fill=\"none\" points=\"74,-73.5 74,-109.5 202,-109.5 202,-73.5 74,-73.5\" stroke=\"#000000\"/>\n",
       "<text fill=\"#000000\" font-family=\"Times,serif\" font-size=\"14.00\" text-anchor=\"middle\" x=\"138\" y=\"-87.8\">dropout_7: Dropout</text>\n",
       "</g>\n",
       "<!-- 103909002208&#45;&gt;103909528128 -->\n",
       "<g class=\"edge\" id=\"edge3\">\n",
       "<title>103909002208-&gt;103909528128</title>\n",
       "<path d=\"M138,-146.4551C138,-138.3828 138,-128.6764 138,-119.6817\" fill=\"none\" stroke=\"#000000\"/>\n",
       "<polygon fill=\"#000000\" points=\"141.5001,-119.5903 138,-109.5904 134.5001,-119.5904 141.5001,-119.5903\" stroke=\"#000000\"/>\n",
       "</g>\n",
       "<!-- 103909531208 -->\n",
       "<g class=\"node\" id=\"node5\">\n",
       "<title>103909531208</title>\n",
       "<polygon fill=\"none\" points=\"85.5,-.5 85.5,-36.5 190.5,-36.5 190.5,-.5 85.5,-.5\" stroke=\"#000000\"/>\n",
       "<text fill=\"#000000\" font-family=\"Times,serif\" font-size=\"14.00\" text-anchor=\"middle\" x=\"138\" y=\"-14.8\">dense_7: Dense</text>\n",
       "</g>\n",
       "<!-- 103909528128&#45;&gt;103909531208 -->\n",
       "<g class=\"edge\" id=\"edge4\">\n",
       "<title>103909528128-&gt;103909531208</title>\n",
       "<path d=\"M138,-73.4551C138,-65.3828 138,-55.6764 138,-46.6817\" fill=\"none\" stroke=\"#000000\"/>\n",
       "<polygon fill=\"#000000\" points=\"141.5001,-46.5903 138,-36.5904 134.5001,-46.5904 141.5001,-46.5903\" stroke=\"#000000\"/>\n",
       "</g>\n",
       "</g>\n",
       "</svg>"
      ],
      "text/plain": [
       "<IPython.core.display.SVG object>"
      ]
     },
     "execution_count": 4,
     "metadata": {},
     "output_type": "execute_result"
    }
   ],
   "source": [
    "import pydot\n",
    "from IPython.display import SVG\n",
    "from keras.utils import plot_model\n",
    "from keras.utils.vis_utils import model_to_dot\n",
    "\n",
    "plot_model(model_best, to_file='lstm2.png', show_shapes = True, show_layer_names = False)\n",
    "SVG(model_to_dot(model_best).create(prog='dot', format='svg'))"
   ]
  },
  {
   "cell_type": "markdown",
   "metadata": {},
   "source": [
    "## Generate sentences"
   ]
  },
  {
   "cell_type": "code",
   "execution_count": 43,
   "metadata": {
    "ExecuteTime": {
     "end_time": "2019-03-27T05:36:23.229602Z",
     "start_time": "2019-03-27T05:36:23.222612Z"
    },
    "collapsed": true
   },
   "outputs": [],
   "source": [
    "# function for prediction next n words\n",
    "import numpy as np\n",
    "\n",
    "def pred_next_n(model, x_seq, output_len):\n",
    "    \"\"\"input model, seed sequence, length of the output sequence\"\"\"\n",
    "    x_input = x_seq\n",
    "    output_n = []\n",
    "    for j in range(output_len):  \n",
    "        x_seq = np.array(x_input).reshape(1, -1)\n",
    "        predicted = model.predict_classes(x_seq, verbose=0)\n",
    "        # print(predicted)\n",
    "        output_word = \"\"\n",
    "        for word, index in tokenizer.word_index.items():\n",
    "            if index == predicted:\n",
    "                output_word = word\n",
    "                output_n.append(output_word) \n",
    "                break\n",
    "        x_input.append(index)\n",
    "        x_input = x_input[1:]\n",
    "    \n",
    "    return(\" \".join(output_n)) "
   ]
  },
  {
   "cell_type": "code",
   "execution_count": 44,
   "metadata": {
    "ExecuteTime": {
     "end_time": "2019-03-27T05:36:25.374744Z",
     "start_time": "2019-03-27T05:36:24.086249Z"
    }
   },
   "outputs": [
    {
     "name": "stdout",
     "output_type": "stream",
     "text": [
      "roberts heaven fright , said harry runcorn undertone pince grubblyplank fright roberts grubblyplank 's sweetly roberts grubblyplank 's eyes . i 'm not going to be a bit of trouble\n",
      "\n",
      "burkes , paces norris . he 's not going to be able to get rid of the dark arts , and he 's not going to be able to get\n",
      "\n",
      ", and he had been a good view of the room , and he had been in the room , and he had been in the room , and he\n",
      "\n",
      "kick at the end of the room , and he had been able to keep a few hours . he had been able to see the of the death eaters\n",
      "\n",
      "than the runcorn precise moment the door was deserted . harry , ron , and hermione were standing in the middle of the room , and harry saw the of\n",
      "\n",
      ". he vernon had duck , and he had been able to see the of the of the house , and he had been able to be a few hours\n",
      "\n",
      "fright fright . he precise , said harry , his voice rising . he was still trying to see the of the crowd . he was still holding his wand\n",
      "\n",
      "the time , he was n't going to get up to the castle , said hermione , looking at her . i 'm going to get the invisibility cloak ,\n",
      "\n",
      "wizardry witchcraft grubblyplank heaven 's office roberts 's . i 'm not , said harry , and he was n't going to be a bit of the . he 's\n",
      "\n",
      "fright . harry wary and hermione , and harry , who had been in the hall , and the crowd of the house , and the death eaters had been\n",
      "\n"
     ]
    }
   ],
   "source": [
    "import random\n",
    "import numpy as np\n",
    "\n",
    "for i in range(10):\n",
    "    seed_words = random.sample(range(5000), 20)\n",
    "    pred_text = pred_next_n(model_best, seed_words, 30)\n",
    "    print(pred_text)\n",
    "    print()"
   ]
  },
  {
   "cell_type": "code",
   "execution_count": null,
   "metadata": {
    "collapsed": true
   },
   "outputs": [],
   "source": []
  },
  {
   "cell_type": "code",
   "execution_count": null,
   "metadata": {
    "collapsed": true
   },
   "outputs": [],
   "source": []
  }
 ],
 "metadata": {
  "hide_input": false,
  "kernelspec": {
   "display_name": "Python 3",
   "language": "python",
   "name": "python3"
  },
  "language_info": {
   "codemirror_mode": {
    "name": "ipython",
    "version": 3
   },
   "file_extension": ".py",
   "mimetype": "text/x-python",
   "name": "python",
   "nbconvert_exporter": "python",
   "pygments_lexer": "ipython3",
   "version": "3.6.8"
  },
  "varInspector": {
   "cols": {
    "lenName": 16,
    "lenType": 16,
    "lenVar": 40
   },
   "kernels_config": {
    "python": {
     "delete_cmd_postfix": "",
     "delete_cmd_prefix": "del ",
     "library": "var_list.py",
     "varRefreshCmd": "print(var_dic_list())"
    },
    "r": {
     "delete_cmd_postfix": ") ",
     "delete_cmd_prefix": "rm(",
     "library": "var_list.r",
     "varRefreshCmd": "cat(var_dic_list()) "
    }
   },
   "types_to_exclude": [
    "module",
    "function",
    "builtin_function_or_method",
    "instance",
    "_Feature"
   ],
   "window_display": false
  }
 },
 "nbformat": 4,
 "nbformat_minor": 2
}
