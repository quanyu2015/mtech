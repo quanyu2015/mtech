{
 "cells": [
  {
   "cell_type": "code",
   "execution_count": 1,
   "metadata": {},
   "outputs": [
    {
     "name": "stdout",
     "output_type": "stream",
     "text": [
      "https://www.tripadvisor.com.sg/Hotel_Review-g294264-d1447339-Reviews-or0-Hard_Rock_Hotel_Singapore-Sentosa_Island.html\n",
      "https://www.tripadvisor.com.sg/Hotel_Review-g294264-d1447339-Reviews-or5-Hard_Rock_Hotel_Singapore-Sentosa_Island.html\n",
      "https://www.tripadvisor.com.sg/Hotel_Review-g294264-d1447339-Reviews-or10-Hard_Rock_Hotel_Singapore-Sentosa_Island.html\n"
     ]
    }
   ],
   "source": [
    "## author: QUAN YU\n",
    "import requests\n",
    "import re\n",
    "import json\n",
    "from bs4 import BeautifulSoup\n",
    "\n",
    "# P: pages of a hotel to crawl: [1,352]\n",
    "P = 20\n",
    "pages = [\"https://www.tripadvisor.com.sg/Hotel_Review-g294264-d1447339-Reviews-or{}-Hard_Rock_Hotel_Singapore-Sentosa_Island.html\".format(i) for i in range(0, P * 5, 5)]\n",
    "for pg in pages[:3]:\n",
    "    print(pg)"
   ]
  },
  {
   "cell_type": "code",
   "execution_count": 3,
   "metadata": {},
   "outputs": [
    {
     "name": "stdout",
     "output_type": "stream",
     "text": [
      "5\n",
      "10\n",
      "15\n",
      "20\n",
      "25\n",
      "30\n",
      "35\n",
      "40\n",
      "45\n",
      "50\n",
      "55\n",
      "60\n",
      "65\n",
      "70\n",
      "75\n",
      "80\n",
      "85\n",
      "90\n",
      "94\n",
      "99\n"
     ]
    }
   ],
   "source": [
    "data = []\n",
    "\n",
    "for url in pages:\n",
    "    html = requests.get(url)\n",
    "    soup = BeautifulSoup(html.content, \"html.parser\")\n",
    "      \n",
    "    review = soup.find_all('div', {'class':'review-container'})\n",
    "    # print(len(review))\n",
    "    \n",
    "    # crawling for each review\n",
    "    for rev in review:\n",
    "        # info from the main page\n",
    "        user = rev.find(\"span\", class_=\"expand_inline scrname\")\n",
    "        user = user.text\n",
    "    \n",
    "        member = rev.find(\"div\",{'class':\"memberOverlayLink\"})\n",
    "        if(member is None):\n",
    "            continue\n",
    "        empty, uid, src = re.split('UID_|-|-SRC_', member['id'])\n",
    "    \n",
    "        rate = rev.find(\"span\", class_=re.compile(\"ui_bubble_rating\"))\n",
    "        rate = rate['class'][1].strip(\"bubble_\")\n",
    "        \n",
    "        quote = rev.find(\"span\", class_=\"noQuotes\").text\n",
    "    \n",
    "        # info from mouse hover page\n",
    "        hover = requests.get(\"https://www.tripadvisor.com.sg/MemberOverlay\", params = {\"uid\": uid})\n",
    "        overlay = BeautifulSoup(hover.content, \"html.parser\")\n",
    "    \n",
    "        level_ = overlay.find('div', {'class':'badgeinfo'})\n",
    "        level = level_.span.text if level_ else \"none\"\n",
    "    \n",
    "        cnts = overlay.find_all(\"li\",{\"class\":'countsReviewEnhancementsItem'})\n",
    "        out = {\n",
    "            'contribution': '0', \n",
    "            'vote': '0', \n",
    "            'city': '0',\n",
    "            'photo': '0'\n",
    "          }\n",
    "        for cnt in cnts:\n",
    "            item = cnt.text.strip()\n",
    "            if(\"Contribution\" in item):\n",
    "                out[\"contribution\"] = item.split()[0]\n",
    "            elif(\"visited\" in item):\n",
    "                out[\"city\"] = item.split()[0]\n",
    "            elif(\"vote\" in item):\n",
    "                out[\"vote\"] = item.split()[0]\n",
    "            elif(\"Photo\" in item):\n",
    "                out[\"photo\"] = item.split()[0]\n",
    "            \n",
    "        item = {\n",
    "            \"user\": user,\n",
    "            \"uid\": uid,\n",
    "            \"rate\": rate,\n",
    "            \"quote\": quote,\n",
    "            \"level\": level,\n",
    "            \"count\": out,\n",
    "            }\n",
    "        data.append(item)\n",
    "        \n",
    "    print(len(data))"
   ]
  },
  {
   "cell_type": "code",
   "execution_count": 4,
   "metadata": {},
   "outputs": [
    {
     "name": "stdout",
     "output_type": "stream",
     "text": [
      "99\n",
      "[{'uid': '53914737C20758B841D5356ED067D5B1', 'count': {'photo': '221', 'city': '173', 'contribution': '710', 'vote': '279'}, 'quote': 'Located on Sentosa', 'user': 'roryjdoyle', 'level': '6', 'rate': '30'}, {'uid': 'DE44459A99806E4FF719F7B8894E0A28', 'count': {'photo': '0', 'city': '71', 'contribution': '52', 'vote': '160'}, 'quote': 'Amazing hotel!', 'user': 'Sordnaxela', 'level': '5', 'rate': '50'}, {'uid': 'F672B733EA52AE5DD4A441BB0AE6D043', 'count': {'photo': '0', 'city': '2', 'contribution': '5', 'vote': '0'}, 'quote': 'A so so experience', 'user': 'jepisco', 'level': '2', 'rate': '30'}]\n"
     ]
    }
   ],
   "source": [
    "print(len(data))\n",
    "print(data[:3])"
   ]
  },
  {
   "cell_type": "code",
   "execution_count": 5,
   "metadata": {
    "collapsed": true
   },
   "outputs": [],
   "source": [
    "with open('trip100.json','w') as f:\n",
    "    json.dump(data,f,indent = 4)"
   ]
  },
  {
   "cell_type": "code",
   "execution_count": null,
   "metadata": {
    "collapsed": true
   },
   "outputs": [],
   "source": []
  }
 ],
 "metadata": {
  "kernelspec": {
   "display_name": "Python 3",
   "language": "python",
   "name": "python3"
  },
  "language_info": {
   "codemirror_mode": {
    "name": "ipython",
    "version": 3
   },
   "file_extension": ".py",
   "mimetype": "text/x-python",
   "name": "python",
   "nbconvert_exporter": "python",
   "pygments_lexer": "ipython3",
   "version": "3.5.3"
  }
 },
 "nbformat": 4,
 "nbformat_minor": 2
}
