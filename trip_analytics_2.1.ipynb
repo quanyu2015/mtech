{
 "cells": [
  {
   "cell_type": "markdown",
   "metadata": {},
   "source": [
    "## Load data from Mongodb to python"
   ]
  },
  {
   "cell_type": "code",
   "execution_count": 1,
   "metadata": {
    "collapsed": true
   },
   "outputs": [],
   "source": [
    "import pymongo\n",
    "\n",
    "client = pymongo.MongoClient(\"localhost\", 27017)\n",
    "db = client['tripadvisor']\n",
    "collection = db['user']"
   ]
  },
  {
   "cell_type": "code",
   "execution_count": 6,
   "metadata": {},
   "outputs": [
    {
     "name": "stdout",
     "output_type": "stream",
     "text": [
      "{'_id': ObjectId('599ac78a16d1290022b1741f'), 'review': {'date': '13 August 2017', 'tool': 'pc', 'cnt': 'Another Hard Rock Hotel but unfortunately located way out over in Sentosa Island being far away from Orchard Road. Good if you want to sit on a beach all day but if you want to be in the Orchard Road / shopping areas this will', 'title': 'Located on Sentosa'}, 'user_year': 2013, 'count': {'contribution': '712', 'city': '174', 'photo': '223', 'vote': '281'}, 'rate': 30, 'age': '50-64', 'uid': '53914737C20758B841D5356ED067D5B1', 'level': '6', 'distribution': {'Poor': '42', 'Terrible': '3', 'Very good': '360', 'Average': '261', 'Excellent': '47'}, 'user': 'roryjdoyle', 'gender': 'man', 'country': 'Kuala Lumpur, Malaysia'}\n"
     ]
    }
   ],
   "source": [
    "for x in db.user.find({\"user\":\"roryjdoyle\"}):\n",
    "    print(x)"
   ]
  },
  {
   "cell_type": "code",
   "execution_count": 7,
   "metadata": {
    "collapsed": true
   },
   "outputs": [],
   "source": [
    "client.close()"
   ]
  },
  {
   "cell_type": "code",
   "execution_count": 140,
   "metadata": {},
   "outputs": [
    {
     "name": "stdout",
     "output_type": "stream",
     "text": [
      "1534\n"
     ]
    },
    {
     "data": {
      "text/plain": [
       "{'_id': ObjectId('599ac78a16d1290022b17422'),\n",
       " 'age': 'none',\n",
       " 'count': {'city': '1', 'contribution': '1', 'photo': '0', 'vote': '0'},\n",
       " 'country': 'Singapore, Singapore',\n",
       " 'distribution': {'Average': '0',\n",
       "  'Excellent': '0',\n",
       "  'Poor': '0',\n",
       "  'Terrible': '0',\n",
       "  'Very good': '0'},\n",
       " 'gender': 'none',\n",
       " 'level': 'none',\n",
       " 'rate': 40,\n",
       " 'review': {'cnt': 'Hi, we had a fab holiday staying one night each in the suite n deluxe room. The sea and cable car view was amazing. Service from guest services especially Jayson was warm and excellent. We would surely return',\n",
       "  'date': '10 August 2017',\n",
       "  'title': 'Fantastic',\n",
       "  'tool': 'pc'},\n",
       " 'uid': '5AE04A17394F0D431C427FAD65FC15EE',\n",
       " 'user': 'yeechan1s',\n",
       " 'user_year': 2012}"
      ]
     },
     "execution_count": 140,
     "metadata": {},
     "output_type": "execute_result"
    }
   ],
   "source": [
    "data = []\n",
    "for x in db.user.find():\n",
    "    data.append(x)\n",
    "\n",
    "print(len(data))\n",
    "data[3]"
   ]
  },
  {
   "cell_type": "code",
   "execution_count": 141,
   "metadata": {},
   "outputs": [
    {
     "data": {
      "text/html": [
       "<div>\n",
       "<style>\n",
       "    .dataframe thead tr:only-child th {\n",
       "        text-align: right;\n",
       "    }\n",
       "\n",
       "    .dataframe thead th {\n",
       "        text-align: left;\n",
       "    }\n",
       "\n",
       "    .dataframe tbody tr th {\n",
       "        vertical-align: top;\n",
       "    }\n",
       "</style>\n",
       "<table border=\"1\" class=\"dataframe\">\n",
       "  <thead>\n",
       "    <tr style=\"text-align: right;\">\n",
       "      <th></th>\n",
       "      <th>age</th>\n",
       "      <th>count</th>\n",
       "      <th>country</th>\n",
       "      <th>distribution</th>\n",
       "      <th>gender</th>\n",
       "      <th>level</th>\n",
       "      <th>rate</th>\n",
       "      <th>review</th>\n",
       "      <th>user</th>\n",
       "      <th>user_year</th>\n",
       "    </tr>\n",
       "  </thead>\n",
       "  <tbody>\n",
       "    <tr>\n",
       "      <th>0</th>\n",
       "      <td>50-64</td>\n",
       "      <td>{'vote': '281', 'city': '174', 'contribution':...</td>\n",
       "      <td>Kuala Lumpur, Malaysia</td>\n",
       "      <td>{'Excellent': '47', 'Poor': '42', 'Average': '...</td>\n",
       "      <td>man</td>\n",
       "      <td>6</td>\n",
       "      <td>30</td>\n",
       "      <td>{'title': 'Located on Sentosa', 'cnt': 'Anothe...</td>\n",
       "      <td>roryjdoyle</td>\n",
       "      <td>2013</td>\n",
       "    </tr>\n",
       "    <tr>\n",
       "      <th>1</th>\n",
       "      <td>none</td>\n",
       "      <td>{'vote': '0', 'city': '1', 'contribution': '1'...</td>\n",
       "      <td>Singapore, Singapore</td>\n",
       "      <td>{'Excellent': '0', 'Poor': '0', 'Average': '0'...</td>\n",
       "      <td>none</td>\n",
       "      <td>none</td>\n",
       "      <td>50</td>\n",
       "      <td>{'title': 'MONEY WELL SPENT', 'cnt': 'booked t...</td>\n",
       "      <td>lorifX8088AW</td>\n",
       "      <td>2017</td>\n",
       "    </tr>\n",
       "    <tr>\n",
       "      <th>2</th>\n",
       "      <td>35-49</td>\n",
       "      <td>{'vote': '160', 'city': '71', 'contribution': ...</td>\n",
       "      <td>Surrey, United Kingdom</td>\n",
       "      <td>{'Excellent': '16', 'Poor': '9', 'Average': '8...</td>\n",
       "      <td>woman</td>\n",
       "      <td>5</td>\n",
       "      <td>50</td>\n",
       "      <td>{'title': 'Amazing hotel!', 'cnt': 'I was a bi...</td>\n",
       "      <td>Sordnaxela</td>\n",
       "      <td>2006</td>\n",
       "    </tr>\n",
       "    <tr>\n",
       "      <th>3</th>\n",
       "      <td>none</td>\n",
       "      <td>{'vote': '0', 'city': '1', 'contribution': '1'...</td>\n",
       "      <td>Singapore, Singapore</td>\n",
       "      <td>{'Excellent': '0', 'Poor': '0', 'Average': '0'...</td>\n",
       "      <td>none</td>\n",
       "      <td>none</td>\n",
       "      <td>40</td>\n",
       "      <td>{'title': 'Fantastic', 'cnt': 'Hi, we had a fa...</td>\n",
       "      <td>yeechan1s</td>\n",
       "      <td>2012</td>\n",
       "    </tr>\n",
       "    <tr>\n",
       "      <th>4</th>\n",
       "      <td>none</td>\n",
       "      <td>{'vote': '0', 'city': '193', 'contribution': '...</td>\n",
       "      <td>Reading</td>\n",
       "      <td>{'Excellent': '5', 'Poor': '0', 'Average': '0'...</td>\n",
       "      <td>none</td>\n",
       "      <td>2</td>\n",
       "      <td>40</td>\n",
       "      <td>{'title': 'Fantastic hotel and location', 'cnt...</td>\n",
       "      <td>Anne A</td>\n",
       "      <td>2011</td>\n",
       "    </tr>\n",
       "  </tbody>\n",
       "</table>\n",
       "</div>"
      ],
      "text/plain": [
       "     age                                              count  \\\n",
       "0  50-64  {'vote': '281', 'city': '174', 'contribution':...   \n",
       "1   none  {'vote': '0', 'city': '1', 'contribution': '1'...   \n",
       "2  35-49  {'vote': '160', 'city': '71', 'contribution': ...   \n",
       "3   none  {'vote': '0', 'city': '1', 'contribution': '1'...   \n",
       "4   none  {'vote': '0', 'city': '193', 'contribution': '...   \n",
       "\n",
       "                  country                                       distribution  \\\n",
       "0  Kuala Lumpur, Malaysia  {'Excellent': '47', 'Poor': '42', 'Average': '...   \n",
       "1    Singapore, Singapore  {'Excellent': '0', 'Poor': '0', 'Average': '0'...   \n",
       "2  Surrey, United Kingdom  {'Excellent': '16', 'Poor': '9', 'Average': '8...   \n",
       "3    Singapore, Singapore  {'Excellent': '0', 'Poor': '0', 'Average': '0'...   \n",
       "4                 Reading  {'Excellent': '5', 'Poor': '0', 'Average': '0'...   \n",
       "\n",
       "  gender level  rate                                             review  \\\n",
       "0    man     6    30  {'title': 'Located on Sentosa', 'cnt': 'Anothe...   \n",
       "1   none  none    50  {'title': 'MONEY WELL SPENT', 'cnt': 'booked t...   \n",
       "2  woman     5    50  {'title': 'Amazing hotel!', 'cnt': 'I was a bi...   \n",
       "3   none  none    40  {'title': 'Fantastic', 'cnt': 'Hi, we had a fa...   \n",
       "4   none     2    40  {'title': 'Fantastic hotel and location', 'cnt...   \n",
       "\n",
       "           user  user_year  \n",
       "0    roryjdoyle       2013  \n",
       "1  lorifX8088AW       2017  \n",
       "2    Sordnaxela       2006  \n",
       "3     yeechan1s       2012  \n",
       "4        Anne A       2011  "
      ]
     },
     "execution_count": 141,
     "metadata": {},
     "output_type": "execute_result"
    }
   ],
   "source": [
    "import pandas as pd\n",
    "\n",
    "for element in data: \n",
    "    del element['_id'] \n",
    "    del element['uid']\n",
    "    \n",
    "df = pd.DataFrame(data)\n",
    "df.head()"
   ]
  },
  {
   "cell_type": "code",
   "execution_count": 100,
   "metadata": {},
   "outputs": [
    {
     "data": {
      "text/plain": [
       "(1565, 12)"
      ]
     },
     "execution_count": 100,
     "metadata": {},
     "output_type": "execute_result"
    }
   ],
   "source": [
    "# load traveler type data\n",
    "rd = pd.read_json(\"tripadv2.json\")\n",
    "rd.shape"
   ]
  },
  {
   "cell_type": "code",
   "execution_count": 102,
   "metadata": {},
   "outputs": [
    {
     "data": {
      "text/plain": [
       "Families    930\n",
       "Couples     344\n",
       "Friends     134\n",
       "Business    121\n",
       "Solo         36\n",
       "Name: traveler_type, dtype: int64"
      ]
     },
     "execution_count": 102,
     "metadata": {},
     "output_type": "execute_result"
    }
   ],
   "source": [
    "rd.traveler_type.value_counts()"
   ]
  },
  {
   "cell_type": "code",
   "execution_count": 107,
   "metadata": {},
   "outputs": [
    {
     "data": {
      "text/html": [
       "<div>\n",
       "<style>\n",
       "    .dataframe thead tr:only-child th {\n",
       "        text-align: right;\n",
       "    }\n",
       "\n",
       "    .dataframe thead th {\n",
       "        text-align: left;\n",
       "    }\n",
       "\n",
       "    .dataframe tbody tr th {\n",
       "        vertical-align: top;\n",
       "    }\n",
       "</style>\n",
       "<table border=\"1\" class=\"dataframe\">\n",
       "  <thead>\n",
       "    <tr style=\"text-align: right;\">\n",
       "      <th></th>\n",
       "      <th>user</th>\n",
       "      <th>traveler_type</th>\n",
       "    </tr>\n",
       "  </thead>\n",
       "  <tbody>\n",
       "    <tr>\n",
       "      <th>0</th>\n",
       "      <td>lorifX8088AW</td>\n",
       "      <td>Families</td>\n",
       "    </tr>\n",
       "    <tr>\n",
       "      <th>1</th>\n",
       "      <td>Sordnaxela</td>\n",
       "      <td>Families</td>\n",
       "    </tr>\n",
       "    <tr>\n",
       "      <th>2</th>\n",
       "      <td>roryjdoyle</td>\n",
       "      <td>Families</td>\n",
       "    </tr>\n",
       "    <tr>\n",
       "      <th>3</th>\n",
       "      <td>jepisco</td>\n",
       "      <td>Families</td>\n",
       "    </tr>\n",
       "    <tr>\n",
       "      <th>4</th>\n",
       "      <td>yeechan1s</td>\n",
       "      <td>Families</td>\n",
       "    </tr>\n",
       "  </tbody>\n",
       "</table>\n",
       "</div>"
      ],
      "text/plain": [
       "           user traveler_type\n",
       "0  lorifX8088AW      Families\n",
       "1    Sordnaxela      Families\n",
       "2    roryjdoyle      Families\n",
       "3       jepisco      Families\n",
       "4     yeechan1s      Families"
      ]
     },
     "execution_count": 107,
     "metadata": {},
     "output_type": "execute_result"
    }
   ],
   "source": [
    "rd[[\"user\",\"traveler_type\"]].head()"
   ]
  },
  {
   "cell_type": "code",
   "execution_count": 109,
   "metadata": {},
   "outputs": [
    {
     "data": {
      "text/html": [
       "<div>\n",
       "<style>\n",
       "    .dataframe thead tr:only-child th {\n",
       "        text-align: right;\n",
       "    }\n",
       "\n",
       "    .dataframe thead th {\n",
       "        text-align: left;\n",
       "    }\n",
       "\n",
       "    .dataframe tbody tr th {\n",
       "        vertical-align: top;\n",
       "    }\n",
       "</style>\n",
       "<table border=\"1\" class=\"dataframe\">\n",
       "  <thead>\n",
       "    <tr style=\"text-align: right;\">\n",
       "      <th></th>\n",
       "      <th>user</th>\n",
       "      <th>Business</th>\n",
       "      <th>Couples</th>\n",
       "      <th>Families</th>\n",
       "      <th>Friends</th>\n",
       "      <th>Solo</th>\n",
       "    </tr>\n",
       "  </thead>\n",
       "  <tbody>\n",
       "    <tr>\n",
       "      <th>0</th>\n",
       "      <td>lorifX8088AW</td>\n",
       "      <td>0</td>\n",
       "      <td>0</td>\n",
       "      <td>1</td>\n",
       "      <td>0</td>\n",
       "      <td>0</td>\n",
       "    </tr>\n",
       "    <tr>\n",
       "      <th>1</th>\n",
       "      <td>Sordnaxela</td>\n",
       "      <td>0</td>\n",
       "      <td>0</td>\n",
       "      <td>1</td>\n",
       "      <td>0</td>\n",
       "      <td>0</td>\n",
       "    </tr>\n",
       "    <tr>\n",
       "      <th>2</th>\n",
       "      <td>roryjdoyle</td>\n",
       "      <td>0</td>\n",
       "      <td>0</td>\n",
       "      <td>1</td>\n",
       "      <td>0</td>\n",
       "      <td>0</td>\n",
       "    </tr>\n",
       "    <tr>\n",
       "      <th>3</th>\n",
       "      <td>jepisco</td>\n",
       "      <td>0</td>\n",
       "      <td>0</td>\n",
       "      <td>1</td>\n",
       "      <td>0</td>\n",
       "      <td>0</td>\n",
       "    </tr>\n",
       "    <tr>\n",
       "      <th>4</th>\n",
       "      <td>yeechan1s</td>\n",
       "      <td>0</td>\n",
       "      <td>0</td>\n",
       "      <td>1</td>\n",
       "      <td>0</td>\n",
       "      <td>0</td>\n",
       "    </tr>\n",
       "  </tbody>\n",
       "</table>\n",
       "</div>"
      ],
      "text/plain": [
       "           user  Business  Couples  Families  Friends  Solo\n",
       "0  lorifX8088AW         0        0         1        0     0\n",
       "1    Sordnaxela         0        0         1        0     0\n",
       "2    roryjdoyle         0        0         1        0     0\n",
       "3       jepisco         0        0         1        0     0\n",
       "4     yeechan1s         0        0         1        0     0"
      ]
     },
     "execution_count": 109,
     "metadata": {},
     "output_type": "execute_result"
    }
   ],
   "source": [
    "trv_type = pd.concat([rd.user, pd.get_dummies(rd.traveler_type)], axis=1)\n",
    "trv_type.head()"
   ]
  },
  {
   "cell_type": "code",
   "execution_count": 112,
   "metadata": {},
   "outputs": [
    {
     "name": "stdout",
     "output_type": "stream",
     "text": [
      "(1534, 5)\n"
     ]
    },
    {
     "data": {
      "text/html": [
       "<div>\n",
       "<style>\n",
       "    .dataframe thead tr:only-child th {\n",
       "        text-align: right;\n",
       "    }\n",
       "\n",
       "    .dataframe thead th {\n",
       "        text-align: left;\n",
       "    }\n",
       "\n",
       "    .dataframe tbody tr th {\n",
       "        vertical-align: top;\n",
       "    }\n",
       "</style>\n",
       "<table border=\"1\" class=\"dataframe\">\n",
       "  <thead>\n",
       "    <tr style=\"text-align: right;\">\n",
       "      <th></th>\n",
       "      <th>Business</th>\n",
       "      <th>Couples</th>\n",
       "      <th>Families</th>\n",
       "      <th>Friends</th>\n",
       "      <th>Solo</th>\n",
       "    </tr>\n",
       "    <tr>\n",
       "      <th>user</th>\n",
       "      <th></th>\n",
       "      <th></th>\n",
       "      <th></th>\n",
       "      <th></th>\n",
       "      <th></th>\n",
       "    </tr>\n",
       "  </thead>\n",
       "  <tbody>\n",
       "    <tr>\n",
       "      <th>-this-is-me-123456</th>\n",
       "      <td>1</td>\n",
       "      <td>0</td>\n",
       "      <td>0</td>\n",
       "      <td>0</td>\n",
       "      <td>0</td>\n",
       "    </tr>\n",
       "    <tr>\n",
       "      <th>109francesb</th>\n",
       "      <td>0</td>\n",
       "      <td>0</td>\n",
       "      <td>1</td>\n",
       "      <td>0</td>\n",
       "      <td>0</td>\n",
       "    </tr>\n",
       "    <tr>\n",
       "      <th>158jkwan</th>\n",
       "      <td>0</td>\n",
       "      <td>1</td>\n",
       "      <td>0</td>\n",
       "      <td>0</td>\n",
       "      <td>0</td>\n",
       "    </tr>\n",
       "    <tr>\n",
       "      <th>2014FpvGt</th>\n",
       "      <td>0</td>\n",
       "      <td>0</td>\n",
       "      <td>1</td>\n",
       "      <td>0</td>\n",
       "      <td>0</td>\n",
       "    </tr>\n",
       "    <tr>\n",
       "      <th>201Mandy</th>\n",
       "      <td>0</td>\n",
       "      <td>0</td>\n",
       "      <td>1</td>\n",
       "      <td>0</td>\n",
       "      <td>0</td>\n",
       "    </tr>\n",
       "  </tbody>\n",
       "</table>\n",
       "</div>"
      ],
      "text/plain": [
       "                    Business  Couples  Families  Friends  Solo\n",
       "user                                                          \n",
       "-this-is-me-123456         1        0         0        0     0\n",
       "109francesb                0        0         1        0     0\n",
       "158jkwan                   0        1         0        0     0\n",
       "2014FpvGt                  0        0         1        0     0\n",
       "201Mandy                   0        0         1        0     0"
      ]
     },
     "execution_count": 112,
     "metadata": {},
     "output_type": "execute_result"
    }
   ],
   "source": [
    "trv = trv_type.groupby('user').sum(axis = 1)\n",
    "print(trv.shape)\n",
    "trv.head()"
   ]
  },
  {
   "cell_type": "markdown",
   "metadata": {},
   "source": [
    "## Exploratory data analysis"
   ]
  },
  {
   "cell_type": "code",
   "execution_count": 98,
   "metadata": {},
   "outputs": [
    {
     "data": {
      "text/plain": [
       "13-17      1\n",
       "18-24     30\n",
       "25-34    204\n",
       "35-49    336\n",
       "50-64     76\n",
       "65+        4\n",
       "none     883\n",
       "Name: age, dtype: int64"
      ]
     },
     "execution_count": 98,
     "metadata": {},
     "output_type": "execute_result"
    }
   ],
   "source": [
    "df.age.value_counts().sort_index()"
   ]
  },
  {
   "cell_type": "code",
   "execution_count": 27,
   "metadata": {},
   "outputs": [
    {
     "data": {
      "text/plain": [
       "none     781\n",
       "man      406\n",
       "woman    347\n",
       "Name: gender, dtype: int64"
      ]
     },
     "execution_count": 27,
     "metadata": {},
     "output_type": "execute_result"
    }
   ],
   "source": [
    "df.gender.value_counts()"
   ]
  },
  {
   "cell_type": "code",
   "execution_count": 28,
   "metadata": {},
   "outputs": [
    {
     "data": {
      "text/plain": [
       "40    538\n",
       "30    400\n",
       "50    306\n",
       "20    152\n",
       "10    138\n",
       "Name: rate, dtype: int64"
      ]
     },
     "execution_count": 28,
     "metadata": {},
     "output_type": "execute_result"
    }
   ],
   "source": [
    "df.rate.value_counts()"
   ]
  },
  {
   "cell_type": "code",
   "execution_count": 30,
   "metadata": {},
   "outputs": [
    {
     "data": {
      "image/png": "[encoded data removed]",
      "text/plain": [
       "<matplotlib.figure.Figure at 0x11581b358>"
      ]
     },
     "metadata": {},
     "output_type": "display_data"
    }
   ],
   "source": [
    "import json\n",
    "import pandas as pd\n",
    "import matplotlib.pyplot as plt\n",
    "import warnings \n",
    "\n",
    "warnings.simplefilter('ignore')\n",
    "%matplotlib inline\n",
    "\n",
    "labels = ['Very good','Average','Excellent','Poor','Terrible']\n",
    "sizes = df['rate'].value_counts().tolist()\n",
    "explode = (0.1, 0, 0, 0, 0)\n",
    "\n",
    "fig1, ax1 = plt.subplots()\n",
    "ax1.pie(sizes, explode=explode, labels=labels, autopct='%1.1f%%',\n",
    "        shadow=True, startangle=90)\n",
    "ax1.axis('equal')\n",
    "plt.show()"
   ]
  },
  {
   "cell_type": "code",
   "execution_count": 142,
   "metadata": {},
   "outputs": [
    {
     "data": {
      "text/plain": [
       "good    844\n",
       "bad     690\n",
       "Name: rating, dtype: int64"
      ]
     },
     "execution_count": 142,
     "metadata": {},
     "output_type": "execute_result"
    }
   ],
   "source": [
    "# generate a new column\n",
    "\n",
    "data = df\n",
    "data['rating'] = \"good\"\n",
    "data.loc[data.rate<40, \"rating\"] = \"bad\"\n",
    "\n",
    "data.rating.value_counts()"
   ]
  },
  {
   "cell_type": "code",
   "execution_count": 51,
   "metadata": {},
   "outputs": [
    {
     "data": {
      "text/plain": [
       "<matplotlib.text.Text at 0x119c54c88>"
      ]
     },
     "execution_count": 51,
     "metadata": {},
     "output_type": "execute_result"
    },
    {
     "data": {
      "image/png": "[encoded data removed]",
      "text/plain": [
       "<matplotlib.figure.Figure at 0x10bf58908>"
      ]
     },
     "metadata": {},
     "output_type": "display_data"
    }
   ],
   "source": [
    "from wordcloud import WordCloud\n",
    "\n",
    "# d1 = data[data.rating == \"good\"]\n",
    "d1 = data[data.rate == 50]\n",
    "d2 = data[data.rate == 10]\n",
    "\n",
    "text1 = \" \".join(x['title'] for x in d1.review).title()\n",
    "text2 = \" \".join(x['title'] for x in d2.review).title()\n",
    "\n",
    "wordcloud1 = WordCloud().generate(text1)\n",
    "wordcloud2 = WordCloud().generate(text2)\n",
    "\n",
    "plt.figure(figsize=(12, 5))\n",
    "\n",
    "plt.subplot(1, 2, 1)\n",
    "plt.imshow(wordcloud1, interpolation='bilinear')\n",
    "plt.axis(\"off\")\n",
    "plt.title('Good reviews', fontsize=15)\n",
    "\n",
    "plt.subplot(1, 2, 2)\n",
    "plt.imshow(wordcloud2, interpolation='bilinear')\n",
    "plt.axis(\"off\")\n",
    "plt.title('Bad reviews', fontsize=15)"
   ]
  },
  {
   "cell_type": "code",
   "execution_count": 143,
   "metadata": {},
   "outputs": [
    {
     "data": {
      "text/plain": [
       "['13 August 2017',\n",
       " '14 August 2017',\n",
       " '19 February 2017',\n",
       " '10 August 2017',\n",
       " '8 August 2017']"
      ]
     },
     "execution_count": 143,
     "metadata": {},
     "output_type": "execute_result"
    }
   ],
   "source": [
    "# the review date\n",
    "\n",
    "rev_year = [x['date'] for x in data.review]\n",
    "rev_year[:5]"
   ]
  },
  {
   "cell_type": "code",
   "execution_count": 238,
   "metadata": {},
   "outputs": [
    {
     "name": "stdout",
     "output_type": "stream",
     "text": [
      "[datetime.datetime(2017, 8, 13, 0, 0), datetime.datetime(2017, 8, 14, 0, 0)]\n",
      "2017-08-15 00:00:00\n",
      "2010-01-28 00:00:00\n"
     ]
    }
   ],
   "source": [
    "from datetime import datetime\n",
    "\n",
    "date2 = [datetime.strptime(x, \"%d %B %Y\") for x in rev_year]\n",
    "print(date2[:2])\n",
    "print(max(date2))\n",
    "print(min(date2))"
   ]
  },
  {
   "cell_type": "code",
   "execution_count": 239,
   "metadata": {},
   "outputs": [
    {
     "data": {
      "text/plain": [
       "2010     53\n",
       "2011     78\n",
       "2012    188\n",
       "2013    233\n",
       "2014    248\n",
       "2015    277\n",
       "2016    311\n",
       "2017    146\n",
       "dtype: int64"
      ]
     },
     "execution_count": 239,
     "metadata": {},
     "output_type": "execute_result"
    }
   ],
   "source": [
    "# convert date to year\n",
    "\n",
    "date2 = [x.year for x in date2]\n",
    "pd.Series(date2).value_counts().sort_index()"
   ]
  },
  {
   "cell_type": "markdown",
   "metadata": {},
   "source": [
    "## Predictive model"
   ]
  },
  {
   "cell_type": "code",
   "execution_count": 145,
   "metadata": {},
   "outputs": [
    {
     "name": "stdout",
     "output_type": "stream",
     "text": [
      "              city  contribution        photo        vote\n",
      "count  1534.000000   1534.000000  1534.000000  1534.00000\n",
      "mean     48.593872     39.876141    36.570404    27.04498\n",
      "std      77.301445     75.309834   162.405342    81.11937\n",
      "min       0.000000      1.000000     0.000000     0.00000\n",
      "25%       5.000000      6.000000     0.000000     3.00000\n",
      "50%      19.000000     18.000000     2.000000    11.00000\n",
      "75%      58.750000     43.000000    18.000000    27.00000\n",
      "max     892.000000   1193.000000  2832.000000  2479.00000\n"
     ]
    },
    {
     "data": {
      "text/html": [
       "<div>\n",
       "<style>\n",
       "    .dataframe thead tr:only-child th {\n",
       "        text-align: right;\n",
       "    }\n",
       "\n",
       "    .dataframe thead th {\n",
       "        text-align: left;\n",
       "    }\n",
       "\n",
       "    .dataframe tbody tr th {\n",
       "        vertical-align: top;\n",
       "    }\n",
       "</style>\n",
       "<table border=\"1\" class=\"dataframe\">\n",
       "  <thead>\n",
       "    <tr style=\"text-align: right;\">\n",
       "      <th></th>\n",
       "      <th>city</th>\n",
       "      <th>contribution</th>\n",
       "      <th>photo</th>\n",
       "      <th>vote</th>\n",
       "    </tr>\n",
       "  </thead>\n",
       "  <tbody>\n",
       "    <tr>\n",
       "      <th>0</th>\n",
       "      <td>174</td>\n",
       "      <td>712</td>\n",
       "      <td>223</td>\n",
       "      <td>281</td>\n",
       "    </tr>\n",
       "    <tr>\n",
       "      <th>1</th>\n",
       "      <td>1</td>\n",
       "      <td>1</td>\n",
       "      <td>0</td>\n",
       "      <td>0</td>\n",
       "    </tr>\n",
       "    <tr>\n",
       "      <th>2</th>\n",
       "      <td>71</td>\n",
       "      <td>52</td>\n",
       "      <td>0</td>\n",
       "      <td>160</td>\n",
       "    </tr>\n",
       "    <tr>\n",
       "      <th>3</th>\n",
       "      <td>1</td>\n",
       "      <td>1</td>\n",
       "      <td>0</td>\n",
       "      <td>0</td>\n",
       "    </tr>\n",
       "    <tr>\n",
       "      <th>4</th>\n",
       "      <td>193</td>\n",
       "      <td>6</td>\n",
       "      <td>0</td>\n",
       "      <td>0</td>\n",
       "    </tr>\n",
       "  </tbody>\n",
       "</table>\n",
       "</div>"
      ],
      "text/plain": [
       "   city  contribution  photo  vote\n",
       "0   174           712    223   281\n",
       "1     1             1      0     0\n",
       "2    71            52      0   160\n",
       "3     1             1      0     0\n",
       "4   193             6      0     0"
      ]
     },
     "execution_count": 145,
     "metadata": {},
     "output_type": "execute_result"
    }
   ],
   "source": [
    "# prepare data for user contributions\n",
    "\n",
    "df2 = pd.DataFrame(data['count'].tolist())\n",
    "df2.city = [int(x.replace(\",\", \"\")) for x in df2.city]\n",
    "df2.contribution = [int(x.replace(\",\", \"\")) for x in df2.contribution]\n",
    "df2.photo = [int(x.replace(\",\", \"\")) for x in df2.photo]\n",
    "df2.vote = [int(x.replace(\",\", \"\")) for x in df2.vote]\n",
    "\n",
    "print(df2.describe())\n",
    "df2.head(5)"
   ]
  },
  {
   "cell_type": "code",
   "execution_count": 240,
   "metadata": {},
   "outputs": [
    {
     "data": {
      "text/html": [
       "<div>\n",
       "<style>\n",
       "    .dataframe thead tr:only-child th {\n",
       "        text-align: right;\n",
       "    }\n",
       "\n",
       "    .dataframe thead th {\n",
       "        text-align: left;\n",
       "    }\n",
       "\n",
       "    .dataframe tbody tr th {\n",
       "        vertical-align: top;\n",
       "    }\n",
       "</style>\n",
       "<table border=\"1\" class=\"dataframe\">\n",
       "  <thead>\n",
       "    <tr style=\"text-align: right;\">\n",
       "      <th></th>\n",
       "      <th>Average</th>\n",
       "      <th>Excellent</th>\n",
       "      <th>Poor</th>\n",
       "      <th>Terrible</th>\n",
       "      <th>Very good</th>\n",
       "      <th>total</th>\n",
       "      <th>good_pct</th>\n",
       "    </tr>\n",
       "  </thead>\n",
       "  <tbody>\n",
       "    <tr>\n",
       "      <th>0</th>\n",
       "      <td>261</td>\n",
       "      <td>47</td>\n",
       "      <td>42</td>\n",
       "      <td>3</td>\n",
       "      <td>360</td>\n",
       "      <td>713</td>\n",
       "      <td>0.570827</td>\n",
       "    </tr>\n",
       "    <tr>\n",
       "      <th>1</th>\n",
       "      <td>0</td>\n",
       "      <td>0</td>\n",
       "      <td>0</td>\n",
       "      <td>0</td>\n",
       "      <td>0</td>\n",
       "      <td>0</td>\n",
       "      <td>0.000000</td>\n",
       "    </tr>\n",
       "    <tr>\n",
       "      <th>2</th>\n",
       "      <td>8</td>\n",
       "      <td>16</td>\n",
       "      <td>9</td>\n",
       "      <td>5</td>\n",
       "      <td>14</td>\n",
       "      <td>52</td>\n",
       "      <td>0.576923</td>\n",
       "    </tr>\n",
       "    <tr>\n",
       "      <th>3</th>\n",
       "      <td>0</td>\n",
       "      <td>0</td>\n",
       "      <td>0</td>\n",
       "      <td>0</td>\n",
       "      <td>0</td>\n",
       "      <td>0</td>\n",
       "      <td>0.000000</td>\n",
       "    </tr>\n",
       "    <tr>\n",
       "      <th>4</th>\n",
       "      <td>0</td>\n",
       "      <td>5</td>\n",
       "      <td>0</td>\n",
       "      <td>0</td>\n",
       "      <td>1</td>\n",
       "      <td>6</td>\n",
       "      <td>1.000000</td>\n",
       "    </tr>\n",
       "  </tbody>\n",
       "</table>\n",
       "</div>"
      ],
      "text/plain": [
       "   Average  Excellent  Poor  Terrible  Very good  total  good_pct\n",
       "0      261         47    42         3        360    713  0.570827\n",
       "1        0          0     0         0          0      0  0.000000\n",
       "2        8         16     9         5         14     52  0.576923\n",
       "3        0          0     0         0          0      0  0.000000\n",
       "4        0          5     0         0          1      6  1.000000"
      ]
     },
     "execution_count": 240,
     "metadata": {},
     "output_type": "execute_result"
    }
   ],
   "source": [
    "# prepare data for user review distribution\n",
    "\n",
    "dt2 = pd.DataFrame(data['distribution'].tolist())\n",
    "dt2 = dt2.astype(int)\n",
    "dt2['total'] = dt2.sum(axis=1)\n",
    "dt2['good_pct']= dt2[[\"Very good\",\"Excellent\"]].sum(axis=1) / dt2.total\n",
    "dt2['good_pct'] = dt2['good_pct'].fillna(0)\n",
    "dt2.head(5)"
   ]
  },
  {
   "cell_type": "code",
   "execution_count": 147,
   "metadata": {},
   "outputs": [
    {
     "name": "stdout",
     "output_type": "stream",
     "text": [
      "<class 'pandas.core.frame.DataFrame'>\n",
      "RangeIndex: 1534 entries, 0 to 1533\n",
      "Data columns (total 7 columns):\n",
      "Average      1534 non-null int64\n",
      "Excellent    1534 non-null int64\n",
      "Poor         1534 non-null int64\n",
      "Terrible     1534 non-null int64\n",
      "Very good    1534 non-null int64\n",
      "total        1534 non-null int64\n",
      "good_pct     1534 non-null float64\n",
      "dtypes: float64(1), int64(6)\n",
      "memory usage: 84.0 KB\n"
     ]
    }
   ],
   "source": [
    "dt2.info()"
   ]
  },
  {
   "cell_type": "code",
   "execution_count": 58,
   "metadata": {},
   "outputs": [
    {
     "data": {
      "text/html": [
       "<div>\n",
       "<style>\n",
       "    .dataframe thead tr:only-child th {\n",
       "        text-align: right;\n",
       "    }\n",
       "\n",
       "    .dataframe thead th {\n",
       "        text-align: left;\n",
       "    }\n",
       "\n",
       "    .dataframe tbody tr th {\n",
       "        vertical-align: top;\n",
       "    }\n",
       "</style>\n",
       "<table border=\"1\" class=\"dataframe\">\n",
       "  <thead>\n",
       "    <tr style=\"text-align: right;\">\n",
       "      <th></th>\n",
       "      <th>Very good</th>\n",
       "      <th>Excellent</th>\n",
       "    </tr>\n",
       "  </thead>\n",
       "  <tbody>\n",
       "    <tr>\n",
       "      <th>0</th>\n",
       "      <td>360</td>\n",
       "      <td>47</td>\n",
       "    </tr>\n",
       "    <tr>\n",
       "      <th>1</th>\n",
       "      <td>0</td>\n",
       "      <td>0</td>\n",
       "    </tr>\n",
       "    <tr>\n",
       "      <th>2</th>\n",
       "      <td>14</td>\n",
       "      <td>16</td>\n",
       "    </tr>\n",
       "    <tr>\n",
       "      <th>3</th>\n",
       "      <td>0</td>\n",
       "      <td>0</td>\n",
       "    </tr>\n",
       "    <tr>\n",
       "      <th>4</th>\n",
       "      <td>1</td>\n",
       "      <td>5</td>\n",
       "    </tr>\n",
       "  </tbody>\n",
       "</table>\n",
       "</div>"
      ],
      "text/plain": [
       "   Very good  Excellent\n",
       "0        360         47\n",
       "1          0          0\n",
       "2         14         16\n",
       "3          0          0\n",
       "4          1          5"
      ]
     },
     "execution_count": 58,
     "metadata": {},
     "output_type": "execute_result"
    }
   ],
   "source": [
    "dt2[[\"Very good\",\"Excellent\"]].head()"
   ]
  },
  {
   "cell_type": "code",
   "execution_count": 75,
   "metadata": {},
   "outputs": [
    {
     "data": {
      "text/html": [
       "<div>\n",
       "<style>\n",
       "    .dataframe thead tr:only-child th {\n",
       "        text-align: right;\n",
       "    }\n",
       "\n",
       "    .dataframe thead th {\n",
       "        text-align: left;\n",
       "    }\n",
       "\n",
       "    .dataframe tbody tr th {\n",
       "        vertical-align: top;\n",
       "    }\n",
       "</style>\n",
       "<table border=\"1\" class=\"dataframe\">\n",
       "  <thead>\n",
       "    <tr style=\"text-align: right;\">\n",
       "      <th></th>\n",
       "      <th>man</th>\n",
       "      <th>woman</th>\n",
       "    </tr>\n",
       "  </thead>\n",
       "  <tbody>\n",
       "    <tr>\n",
       "      <th>0</th>\n",
       "      <td>1</td>\n",
       "      <td>0</td>\n",
       "    </tr>\n",
       "    <tr>\n",
       "      <th>1</th>\n",
       "      <td>0</td>\n",
       "      <td>0</td>\n",
       "    </tr>\n",
       "    <tr>\n",
       "      <th>2</th>\n",
       "      <td>0</td>\n",
       "      <td>1</td>\n",
       "    </tr>\n",
       "    <tr>\n",
       "      <th>3</th>\n",
       "      <td>0</td>\n",
       "      <td>0</td>\n",
       "    </tr>\n",
       "    <tr>\n",
       "      <th>4</th>\n",
       "      <td>0</td>\n",
       "      <td>0</td>\n",
       "    </tr>\n",
       "  </tbody>\n",
       "</table>\n",
       "</div>"
      ],
      "text/plain": [
       "   man  woman\n",
       "0    1      0\n",
       "1    0      0\n",
       "2    0      1\n",
       "3    0      0\n",
       "4    0      0"
      ]
     },
     "execution_count": 75,
     "metadata": {},
     "output_type": "execute_result"
    }
   ],
   "source": [
    "pd.get_dummies(data.gender).head(5).drop('none', axis = 1)"
   ]
  },
  {
   "cell_type": "code",
   "execution_count": 76,
   "metadata": {},
   "outputs": [
    {
     "data": {
      "text/html": [
       "<div>\n",
       "<style>\n",
       "    .dataframe thead tr:only-child th {\n",
       "        text-align: right;\n",
       "    }\n",
       "\n",
       "    .dataframe thead th {\n",
       "        text-align: left;\n",
       "    }\n",
       "\n",
       "    .dataframe tbody tr th {\n",
       "        vertical-align: top;\n",
       "    }\n",
       "</style>\n",
       "<table border=\"1\" class=\"dataframe\">\n",
       "  <thead>\n",
       "    <tr style=\"text-align: right;\">\n",
       "      <th></th>\n",
       "      <th>13-17</th>\n",
       "      <th>18-24</th>\n",
       "      <th>25-34</th>\n",
       "      <th>35-49</th>\n",
       "      <th>50-64</th>\n",
       "      <th>65+</th>\n",
       "    </tr>\n",
       "  </thead>\n",
       "  <tbody>\n",
       "    <tr>\n",
       "      <th>0</th>\n",
       "      <td>0</td>\n",
       "      <td>0</td>\n",
       "      <td>0</td>\n",
       "      <td>0</td>\n",
       "      <td>1</td>\n",
       "      <td>0</td>\n",
       "    </tr>\n",
       "    <tr>\n",
       "      <th>1</th>\n",
       "      <td>0</td>\n",
       "      <td>0</td>\n",
       "      <td>0</td>\n",
       "      <td>0</td>\n",
       "      <td>0</td>\n",
       "      <td>0</td>\n",
       "    </tr>\n",
       "    <tr>\n",
       "      <th>2</th>\n",
       "      <td>0</td>\n",
       "      <td>0</td>\n",
       "      <td>0</td>\n",
       "      <td>1</td>\n",
       "      <td>0</td>\n",
       "      <td>0</td>\n",
       "    </tr>\n",
       "    <tr>\n",
       "      <th>3</th>\n",
       "      <td>0</td>\n",
       "      <td>0</td>\n",
       "      <td>0</td>\n",
       "      <td>0</td>\n",
       "      <td>0</td>\n",
       "      <td>0</td>\n",
       "    </tr>\n",
       "    <tr>\n",
       "      <th>4</th>\n",
       "      <td>0</td>\n",
       "      <td>0</td>\n",
       "      <td>0</td>\n",
       "      <td>0</td>\n",
       "      <td>0</td>\n",
       "      <td>0</td>\n",
       "    </tr>\n",
       "  </tbody>\n",
       "</table>\n",
       "</div>"
      ],
      "text/plain": [
       "   13-17  18-24  25-34  35-49  50-64  65+\n",
       "0      0      0      0      0      1    0\n",
       "1      0      0      0      0      0    0\n",
       "2      0      0      0      1      0    0\n",
       "3      0      0      0      0      0    0\n",
       "4      0      0      0      0      0    0"
      ]
     },
     "execution_count": 76,
     "metadata": {},
     "output_type": "execute_result"
    }
   ],
   "source": [
    "pd.get_dummies(data.age).head(5).drop('none', axis = 1)"
   ]
  },
  {
   "cell_type": "code",
   "execution_count": 148,
   "metadata": {},
   "outputs": [
    {
     "data": {
      "text/plain": [
       "0    50-64\n",
       "1     none\n",
       "2    35-49\n",
       "3     none\n",
       "4     none\n",
       "Name: age, dtype: category\n",
       "Categories (7, object): [13-17 < 18-24 < 25-34 < 35-49 < 50-64 < 65+ < none]"
      ]
     },
     "execution_count": 148,
     "metadata": {},
     "output_type": "execute_result"
    }
   ],
   "source": [
    "data.age = pd.Categorical(data.age, ordered = True)\n",
    "data.age.head()"
   ]
  },
  {
   "cell_type": "code",
   "execution_count": 149,
   "metadata": {},
   "outputs": [
    {
     "data": {
      "text/plain": [
       "0    4\n",
       "1    6\n",
       "2    3\n",
       "3    6\n",
       "4    6\n",
       "Name: age, dtype: int8"
      ]
     },
     "execution_count": 149,
     "metadata": {},
     "output_type": "execute_result"
    }
   ],
   "source": [
    "# convert age groups into numbers according to their order above\n",
    "\n",
    "data.age = data.age.cat.codes\n",
    "data.age.head()"
   ]
  },
  {
   "cell_type": "code",
   "execution_count": 313,
   "metadata": {},
   "outputs": [
    {
     "data": {
      "text/plain": [
       "0      1\n",
       "1     30\n",
       "2    204\n",
       "3    336\n",
       "4     76\n",
       "5      4\n",
       "6    883\n",
       "Name: age, dtype: int64"
      ]
     },
     "execution_count": 313,
     "metadata": {},
     "output_type": "execute_result"
    }
   ],
   "source": [
    "data.age.value_counts().sort_index(ascending = True)"
   ]
  },
  {
   "cell_type": "code",
   "execution_count": 314,
   "metadata": {},
   "outputs": [
    {
     "name": "stdout",
     "output_type": "stream",
     "text": [
      "pc        1174\n",
      "mobile     360\n",
      "dtype: int64\n"
     ]
    },
    {
     "data": {
      "text/html": [
       "<div>\n",
       "<style>\n",
       "    .dataframe thead tr:only-child th {\n",
       "        text-align: right;\n",
       "    }\n",
       "\n",
       "    .dataframe thead th {\n",
       "        text-align: left;\n",
       "    }\n",
       "\n",
       "    .dataframe tbody tr th {\n",
       "        vertical-align: top;\n",
       "    }\n",
       "</style>\n",
       "<table border=\"1\" class=\"dataframe\">\n",
       "  <thead>\n",
       "    <tr style=\"text-align: right;\">\n",
       "      <th></th>\n",
       "      <th>mobile</th>\n",
       "      <th>pc</th>\n",
       "    </tr>\n",
       "  </thead>\n",
       "  <tbody>\n",
       "    <tr>\n",
       "      <th>0</th>\n",
       "      <td>0</td>\n",
       "      <td>1</td>\n",
       "    </tr>\n",
       "    <tr>\n",
       "      <th>1</th>\n",
       "      <td>0</td>\n",
       "      <td>1</td>\n",
       "    </tr>\n",
       "    <tr>\n",
       "      <th>2</th>\n",
       "      <td>0</td>\n",
       "      <td>1</td>\n",
       "    </tr>\n",
       "    <tr>\n",
       "      <th>3</th>\n",
       "      <td>0</td>\n",
       "      <td>1</td>\n",
       "    </tr>\n",
       "    <tr>\n",
       "      <th>4</th>\n",
       "      <td>0</td>\n",
       "      <td>1</td>\n",
       "    </tr>\n",
       "  </tbody>\n",
       "</table>\n",
       "</div>"
      ],
      "text/plain": [
       "   mobile  pc\n",
       "0       0   1\n",
       "1       0   1\n",
       "2       0   1\n",
       "3       0   1\n",
       "4       0   1"
      ]
     },
     "execution_count": 314,
     "metadata": {},
     "output_type": "execute_result"
    }
   ],
   "source": [
    "tool = pd.Series([x['tool'] for x in data.review])\n",
    "print(tool.value_counts())\n",
    "pd.get_dummies(tool, drop_first=False).head(5)"
   ]
  },
  {
   "cell_type": "code",
   "execution_count": 241,
   "metadata": {},
   "outputs": [
    {
     "data": {
      "text/html": [
       "<div>\n",
       "<style>\n",
       "    .dataframe thead tr:only-child th {\n",
       "        text-align: right;\n",
       "    }\n",
       "\n",
       "    .dataframe thead th {\n",
       "        text-align: left;\n",
       "    }\n",
       "\n",
       "    .dataframe tbody tr th {\n",
       "        vertical-align: top;\n",
       "    }\n",
       "</style>\n",
       "<table border=\"1\" class=\"dataframe\">\n",
       "  <thead>\n",
       "    <tr style=\"text-align: right;\">\n",
       "      <th></th>\n",
       "      <th>total</th>\n",
       "      <th>good_pct</th>\n",
       "      <th>pc</th>\n",
       "      <th>age</th>\n",
       "      <th>man</th>\n",
       "      <th>woman</th>\n",
       "      <th>city</th>\n",
       "      <th>contribution</th>\n",
       "      <th>photo</th>\n",
       "      <th>vote</th>\n",
       "      <th>rev_date</th>\n",
       "      <th>rating</th>\n",
       "    </tr>\n",
       "  </thead>\n",
       "  <tbody>\n",
       "    <tr>\n",
       "      <th>0</th>\n",
       "      <td>713</td>\n",
       "      <td>0.570827</td>\n",
       "      <td>1</td>\n",
       "      <td>4</td>\n",
       "      <td>1</td>\n",
       "      <td>0</td>\n",
       "      <td>174</td>\n",
       "      <td>712</td>\n",
       "      <td>223</td>\n",
       "      <td>281</td>\n",
       "      <td>2017</td>\n",
       "      <td>bad</td>\n",
       "    </tr>\n",
       "    <tr>\n",
       "      <th>1</th>\n",
       "      <td>0</td>\n",
       "      <td>0.000000</td>\n",
       "      <td>1</td>\n",
       "      <td>6</td>\n",
       "      <td>0</td>\n",
       "      <td>0</td>\n",
       "      <td>1</td>\n",
       "      <td>1</td>\n",
       "      <td>0</td>\n",
       "      <td>0</td>\n",
       "      <td>2017</td>\n",
       "      <td>good</td>\n",
       "    </tr>\n",
       "    <tr>\n",
       "      <th>2</th>\n",
       "      <td>52</td>\n",
       "      <td>0.576923</td>\n",
       "      <td>1</td>\n",
       "      <td>3</td>\n",
       "      <td>0</td>\n",
       "      <td>1</td>\n",
       "      <td>71</td>\n",
       "      <td>52</td>\n",
       "      <td>0</td>\n",
       "      <td>160</td>\n",
       "      <td>2017</td>\n",
       "      <td>good</td>\n",
       "    </tr>\n",
       "    <tr>\n",
       "      <th>3</th>\n",
       "      <td>0</td>\n",
       "      <td>0.000000</td>\n",
       "      <td>1</td>\n",
       "      <td>6</td>\n",
       "      <td>0</td>\n",
       "      <td>0</td>\n",
       "      <td>1</td>\n",
       "      <td>1</td>\n",
       "      <td>0</td>\n",
       "      <td>0</td>\n",
       "      <td>2017</td>\n",
       "      <td>good</td>\n",
       "    </tr>\n",
       "    <tr>\n",
       "      <th>4</th>\n",
       "      <td>6</td>\n",
       "      <td>1.000000</td>\n",
       "      <td>1</td>\n",
       "      <td>6</td>\n",
       "      <td>0</td>\n",
       "      <td>0</td>\n",
       "      <td>193</td>\n",
       "      <td>6</td>\n",
       "      <td>0</td>\n",
       "      <td>0</td>\n",
       "      <td>2017</td>\n",
       "      <td>good</td>\n",
       "    </tr>\n",
       "  </tbody>\n",
       "</table>\n",
       "</div>"
      ],
      "text/plain": [
       "   total  good_pct  pc  age  man  woman  city  contribution  photo  vote  \\\n",
       "0    713  0.570827   1    4    1      0   174           712    223   281   \n",
       "1      0  0.000000   1    6    0      0     1             1      0     0   \n",
       "2     52  0.576923   1    3    0      1    71            52      0   160   \n",
       "3      0  0.000000   1    6    0      0     1             1      0     0   \n",
       "4      6  1.000000   1    6    0      0   193             6      0     0   \n",
       "\n",
       "   rev_date rating  \n",
       "0      2017    bad  \n",
       "1      2017   good  \n",
       "2      2017   good  \n",
       "3      2017   good  \n",
       "4      2017   good  "
      ]
     },
     "execution_count": 241,
     "metadata": {},
     "output_type": "execute_result"
    }
   ],
   "source": [
    "# combine all features together\n",
    "\n",
    "t1 = dt2[['total','good_pct']]\n",
    "t2 = pd.get_dummies(tool, drop_first=True)\n",
    "# t3 = pd.get_dummies(data.age).drop('none', axis = 1)\n",
    "t3 = data.age\n",
    "t4 = pd.get_dummies(data.gender).drop('none', axis = 1)\n",
    "t5 = df2\n",
    "\n",
    "dt = pd.concat([t1, t2, t3, t4, t5], axis=1)\n",
    "dt['rev_date'] = date2\n",
    "dt['rating'] = data.rating\n",
    "dt.head()"
   ]
  },
  {
   "cell_type": "code",
   "execution_count": 242,
   "metadata": {},
   "outputs": [
    {
     "data": {
      "text/html": [
       "<div>\n",
       "<style>\n",
       "    .dataframe thead tr:only-child th {\n",
       "        text-align: right;\n",
       "    }\n",
       "\n",
       "    .dataframe thead th {\n",
       "        text-align: left;\n",
       "    }\n",
       "\n",
       "    .dataframe tbody tr th {\n",
       "        vertical-align: top;\n",
       "    }\n",
       "</style>\n",
       "<table border=\"1\" class=\"dataframe\">\n",
       "  <thead>\n",
       "    <tr style=\"text-align: right;\">\n",
       "      <th></th>\n",
       "      <th>total</th>\n",
       "      <th>good_pct</th>\n",
       "      <th>pc</th>\n",
       "      <th>age</th>\n",
       "      <th>man</th>\n",
       "      <th>woman</th>\n",
       "      <th>city</th>\n",
       "      <th>contribution</th>\n",
       "      <th>photo</th>\n",
       "      <th>vote</th>\n",
       "      <th>rev_date</th>\n",
       "      <th>rating</th>\n",
       "    </tr>\n",
       "  </thead>\n",
       "  <tbody>\n",
       "    <tr>\n",
       "      <th>roryjdoyle</th>\n",
       "      <td>713</td>\n",
       "      <td>0.570827</td>\n",
       "      <td>1</td>\n",
       "      <td>4</td>\n",
       "      <td>1</td>\n",
       "      <td>0</td>\n",
       "      <td>174</td>\n",
       "      <td>712</td>\n",
       "      <td>223</td>\n",
       "      <td>281</td>\n",
       "      <td>2017</td>\n",
       "      <td>bad</td>\n",
       "    </tr>\n",
       "    <tr>\n",
       "      <th>lorifX8088AW</th>\n",
       "      <td>0</td>\n",
       "      <td>0.000000</td>\n",
       "      <td>1</td>\n",
       "      <td>6</td>\n",
       "      <td>0</td>\n",
       "      <td>0</td>\n",
       "      <td>1</td>\n",
       "      <td>1</td>\n",
       "      <td>0</td>\n",
       "      <td>0</td>\n",
       "      <td>2017</td>\n",
       "      <td>good</td>\n",
       "    </tr>\n",
       "    <tr>\n",
       "      <th>Sordnaxela</th>\n",
       "      <td>52</td>\n",
       "      <td>0.576923</td>\n",
       "      <td>1</td>\n",
       "      <td>3</td>\n",
       "      <td>0</td>\n",
       "      <td>1</td>\n",
       "      <td>71</td>\n",
       "      <td>52</td>\n",
       "      <td>0</td>\n",
       "      <td>160</td>\n",
       "      <td>2017</td>\n",
       "      <td>good</td>\n",
       "    </tr>\n",
       "    <tr>\n",
       "      <th>yeechan1s</th>\n",
       "      <td>0</td>\n",
       "      <td>0.000000</td>\n",
       "      <td>1</td>\n",
       "      <td>6</td>\n",
       "      <td>0</td>\n",
       "      <td>0</td>\n",
       "      <td>1</td>\n",
       "      <td>1</td>\n",
       "      <td>0</td>\n",
       "      <td>0</td>\n",
       "      <td>2017</td>\n",
       "      <td>good</td>\n",
       "    </tr>\n",
       "    <tr>\n",
       "      <th>Anne A</th>\n",
       "      <td>6</td>\n",
       "      <td>1.000000</td>\n",
       "      <td>1</td>\n",
       "      <td>6</td>\n",
       "      <td>0</td>\n",
       "      <td>0</td>\n",
       "      <td>193</td>\n",
       "      <td>6</td>\n",
       "      <td>0</td>\n",
       "      <td>0</td>\n",
       "      <td>2017</td>\n",
       "      <td>good</td>\n",
       "    </tr>\n",
       "  </tbody>\n",
       "</table>\n",
       "</div>"
      ],
      "text/plain": [
       "              total  good_pct  pc  age  man  woman  city  contribution  photo  \\\n",
       "roryjdoyle      713  0.570827   1    4    1      0   174           712    223   \n",
       "lorifX8088AW      0  0.000000   1    6    0      0     1             1      0   \n",
       "Sordnaxela       52  0.576923   1    3    0      1    71            52      0   \n",
       "yeechan1s         0  0.000000   1    6    0      0     1             1      0   \n",
       "Anne A            6  1.000000   1    6    0      0   193             6      0   \n",
       "\n",
       "              vote  rev_date rating  \n",
       "roryjdoyle     281      2017    bad  \n",
       "lorifX8088AW     0      2017   good  \n",
       "Sordnaxela     160      2017   good  \n",
       "yeechan1s        0      2017   good  \n",
       "Anne A           0      2017   good  "
      ]
     },
     "execution_count": 242,
     "metadata": {},
     "output_type": "execute_result"
    }
   ],
   "source": [
    "# renew the index\n",
    "\n",
    "user_idx = df.user.tolist()\n",
    "dt.index = user_idx\n",
    "dt.head()"
   ]
  },
  {
   "cell_type": "code",
   "execution_count": 243,
   "metadata": {},
   "outputs": [
    {
     "name": "stdout",
     "output_type": "stream",
     "text": [
      "(1534, 17)\n"
     ]
    },
    {
     "data": {
      "text/html": [
       "<div>\n",
       "<style>\n",
       "    .dataframe thead tr:only-child th {\n",
       "        text-align: right;\n",
       "    }\n",
       "\n",
       "    .dataframe thead th {\n",
       "        text-align: left;\n",
       "    }\n",
       "\n",
       "    .dataframe tbody tr th {\n",
       "        vertical-align: top;\n",
       "    }\n",
       "</style>\n",
       "<table border=\"1\" class=\"dataframe\">\n",
       "  <thead>\n",
       "    <tr style=\"text-align: right;\">\n",
       "      <th></th>\n",
       "      <th>total</th>\n",
       "      <th>good_pct</th>\n",
       "      <th>pc</th>\n",
       "      <th>age</th>\n",
       "      <th>man</th>\n",
       "      <th>woman</th>\n",
       "      <th>city</th>\n",
       "      <th>contribution</th>\n",
       "      <th>photo</th>\n",
       "      <th>vote</th>\n",
       "      <th>rev_date</th>\n",
       "      <th>rating</th>\n",
       "      <th>Business</th>\n",
       "      <th>Couples</th>\n",
       "      <th>Families</th>\n",
       "      <th>Friends</th>\n",
       "      <th>Solo</th>\n",
       "    </tr>\n",
       "  </thead>\n",
       "  <tbody>\n",
       "    <tr>\n",
       "      <th>-this-is-me-123456</th>\n",
       "      <td>96</td>\n",
       "      <td>0.593750</td>\n",
       "      <td>1</td>\n",
       "      <td>3</td>\n",
       "      <td>1</td>\n",
       "      <td>0</td>\n",
       "      <td>86</td>\n",
       "      <td>96</td>\n",
       "      <td>0</td>\n",
       "      <td>36</td>\n",
       "      <td>2017</td>\n",
       "      <td>bad</td>\n",
       "      <td>1</td>\n",
       "      <td>0</td>\n",
       "      <td>0</td>\n",
       "      <td>0</td>\n",
       "      <td>0</td>\n",
       "    </tr>\n",
       "    <tr>\n",
       "      <th>109francesb</th>\n",
       "      <td>26</td>\n",
       "      <td>0.884615</td>\n",
       "      <td>1</td>\n",
       "      <td>6</td>\n",
       "      <td>0</td>\n",
       "      <td>0</td>\n",
       "      <td>15</td>\n",
       "      <td>26</td>\n",
       "      <td>0</td>\n",
       "      <td>9</td>\n",
       "      <td>2013</td>\n",
       "      <td>bad</td>\n",
       "      <td>0</td>\n",
       "      <td>0</td>\n",
       "      <td>1</td>\n",
       "      <td>0</td>\n",
       "      <td>0</td>\n",
       "    </tr>\n",
       "    <tr>\n",
       "      <th>158jkwan</th>\n",
       "      <td>5</td>\n",
       "      <td>0.400000</td>\n",
       "      <td>0</td>\n",
       "      <td>6</td>\n",
       "      <td>0</td>\n",
       "      <td>0</td>\n",
       "      <td>4</td>\n",
       "      <td>5</td>\n",
       "      <td>1</td>\n",
       "      <td>1</td>\n",
       "      <td>2015</td>\n",
       "      <td>bad</td>\n",
       "      <td>0</td>\n",
       "      <td>1</td>\n",
       "      <td>0</td>\n",
       "      <td>0</td>\n",
       "      <td>0</td>\n",
       "    </tr>\n",
       "    <tr>\n",
       "      <th>2014FpvGt</th>\n",
       "      <td>229</td>\n",
       "      <td>0.733624</td>\n",
       "      <td>1</td>\n",
       "      <td>3</td>\n",
       "      <td>1</td>\n",
       "      <td>0</td>\n",
       "      <td>409</td>\n",
       "      <td>229</td>\n",
       "      <td>571</td>\n",
       "      <td>426</td>\n",
       "      <td>2015</td>\n",
       "      <td>bad</td>\n",
       "      <td>0</td>\n",
       "      <td>0</td>\n",
       "      <td>1</td>\n",
       "      <td>0</td>\n",
       "      <td>0</td>\n",
       "    </tr>\n",
       "    <tr>\n",
       "      <th>201Mandy</th>\n",
       "      <td>0</td>\n",
       "      <td>0.000000</td>\n",
       "      <td>1</td>\n",
       "      <td>6</td>\n",
       "      <td>0</td>\n",
       "      <td>0</td>\n",
       "      <td>3</td>\n",
       "      <td>2</td>\n",
       "      <td>0</td>\n",
       "      <td>5</td>\n",
       "      <td>2014</td>\n",
       "      <td>bad</td>\n",
       "      <td>0</td>\n",
       "      <td>0</td>\n",
       "      <td>1</td>\n",
       "      <td>0</td>\n",
       "      <td>0</td>\n",
       "    </tr>\n",
       "  </tbody>\n",
       "</table>\n",
       "</div>"
      ],
      "text/plain": [
       "                    total  good_pct  pc  age  man  woman  city  contribution  \\\n",
       "-this-is-me-123456     96  0.593750   1    3    1      0    86            96   \n",
       "109francesb            26  0.884615   1    6    0      0    15            26   \n",
       "158jkwan                5  0.400000   0    6    0      0     4             5   \n",
       "2014FpvGt             229  0.733624   1    3    1      0   409           229   \n",
       "201Mandy                0  0.000000   1    6    0      0     3             2   \n",
       "\n",
       "                    photo  vote  rev_date rating  Business  Couples  Families  \\\n",
       "-this-is-me-123456      0    36      2017    bad         1        0         0   \n",
       "109francesb             0     9      2013    bad         0        0         1   \n",
       "158jkwan                1     1      2015    bad         0        1         0   \n",
       "2014FpvGt             571   426      2015    bad         0        0         1   \n",
       "201Mandy                0     5      2014    bad         0        0         1   \n",
       "\n",
       "                    Friends  Solo  \n",
       "-this-is-me-123456        0     0  \n",
       "109francesb               0     0  \n",
       "158jkwan                  0     0  \n",
       "2014FpvGt                 0     0  \n",
       "201Mandy                  0     0  "
      ]
     },
     "execution_count": 243,
     "metadata": {},
     "output_type": "execute_result"
    }
   ],
   "source": [
    "# combine dt with traveler type data, joining by index\n",
    "\n",
    "dt2 = pd.concat([dt, trv], axis=1)\n",
    "print(dt2.shape)\n",
    "dt2.head()"
   ]
  },
  {
   "cell_type": "code",
   "execution_count": 247,
   "metadata": {},
   "outputs": [
    {
     "name": "stdout",
     "output_type": "stream",
     "text": [
      "(1227, 16)\n",
      "(307, 16)\n"
     ]
    }
   ],
   "source": [
    "# split into train and test data\n",
    "\n",
    "X = dt2.drop(\"rating\", axis = 1).values\n",
    "y = dt2.rating.values\n",
    "\n",
    "# random train and test subsets\n",
    "from sklearn.model_selection import train_test_split\n",
    "\n",
    "X_train, X_test, y_train, y_test = train_test_split(X, y, test_size=0.2, random_state=42)\n",
    "print(X_train.shape)\n",
    "print(X_test.shape)"
   ]
  },
  {
   "cell_type": "code",
   "execution_count": 310,
   "metadata": {},
   "outputs": [
    {
     "name": "stdout",
     "output_type": "stream",
     "text": [
      "0.700325732899\n"
     ]
    }
   ],
   "source": [
    "# modeling using random forest\n",
    "\n",
    "from sklearn.ensemble import RandomForestClassifier\n",
    "from sklearn.metrics import accuracy_score\n",
    "\n",
    "clf = RandomForestClassifier(n_estimators = 10, max_features = 7, max_depth=10, random_state=0)\n",
    "clf = clf.fit(X_train, y_train)\n",
    "y_pred = clf.predict(X_test)\n",
    "print(accuracy_score(y_test, y_pred))"
   ]
  },
  {
   "cell_type": "code",
   "execution_count": 311,
   "metadata": {},
   "outputs": [
    {
     "name": "stdout",
     "output_type": "stream",
     "text": [
      "[ 0.08252086  0.30584678  0.01520036  0.02701553  0.01721035  0.01478562\n",
      "  0.1263931   0.0986934   0.0879072   0.10745081  0.06882858  0.01248129\n",
      "  0.0122771   0.00795586  0.01006824  0.00536491]\n"
     ]
    }
   ],
   "source": [
    "print(clf.feature_importances_)"
   ]
  },
  {
   "cell_type": "code",
   "execution_count": 312,
   "metadata": {},
   "outputs": [
    {
     "data": {
      "text/plain": [
       "good_pct        0.305847\n",
       "city            0.126393\n",
       "vote            0.107451\n",
       "contribution    0.098693\n",
       "photo           0.087907\n",
       "total           0.082521\n",
       "rev_date        0.068829\n",
       "age             0.027016\n",
       "man             0.017210\n",
       "pc              0.015200\n",
       "woman           0.014786\n",
       "Business        0.012481\n",
       "Couples         0.012277\n",
       "Friends         0.010068\n",
       "Families        0.007956\n",
       "Solo            0.005365\n",
       "dtype: float64"
      ]
     },
     "execution_count": 312,
     "metadata": {},
     "output_type": "execute_result"
    }
   ],
   "source": [
    "# feature importance\n",
    "\n",
    "imp = pd.Series(clf.feature_importances_, index = dt2.drop(\"rating\", axis = 1).columns)\n",
    "imp.sort_values(ascending = False)"
   ]
  },
  {
   "cell_type": "markdown",
   "metadata": {},
   "source": [
    "## Visualization of importance features"
   ]
  }
 ],
 "metadata": {
  "kernelspec": {
   "display_name": "Python 3",
   "language": "python",
   "name": "python3"
  },
  "language_info": {
   "codemirror_mode": {
    "name": "ipython",
    "version": 3
   },
   "file_extension": ".py",
   "mimetype": "text/x-python",
   "name": "python",
   "nbconvert_exporter": "python",
   "pygments_lexer": "ipython3",
   "version": "3.5.3"
  }
 },
 "nbformat": 4,
 "nbformat_minor": 2
}
