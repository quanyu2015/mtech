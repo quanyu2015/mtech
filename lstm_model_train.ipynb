{
 "cells": [
  {
   "cell_type": "markdown",
   "metadata": {},
   "source": [
    "## Loading corpus"
   ]
  },
  {
   "cell_type": "code",
   "execution_count": 1,
   "metadata": {
    "ExecuteTime": {
     "end_time": "2019-03-25T07:57:23.213295Z",
     "start_time": "2019-03-25T07:57:23.208873Z"
    }
   },
   "outputs": [
    {
     "name": "stdout",
     "output_type": "stream",
     "text": [
      "['prisoner_of_azkaban.txt', 'deathly_hallows.txt', 'goblet_of_fire.txt', 'half_blood_prince.txt', 'chamber_of_secrets.txt', 'order_of_the_phoenix.txt']\n"
     ]
    }
   ],
   "source": [
    "import os\n",
    "books = os.listdir('corpus')\n",
    "print(books)"
   ]
  },
  {
   "cell_type": "markdown",
   "metadata": {},
   "source": [
    "### Read all books"
   ]
  },
  {
   "cell_type": "code",
   "execution_count": 1,
   "metadata": {
    "ExecuteTime": {
     "end_time": "2019-03-27T04:11:23.005787Z",
     "start_time": "2019-03-27T04:11:22.999014Z"
    },
    "collapsed": true
   },
   "outputs": [],
   "source": [
    "import re\n",
    "\n",
    "def clean_text(text):\n",
    "\n",
    "    text = re.sub(r\"\\.{2,}\", \" \", text)\n",
    "    text = re.sub(r\"(\\. ){2,}\", \" \", text)\n",
    "    text = re.sub(r\"\\-\", \"\", text)\n",
    "    text = re.sub(r'[^a-zA-Z\\.\\,\\'\\!\\?]',' ',text)   \n",
    "    text = re.sub(r'\\s{2,}',' ',text)\n",
    "    \n",
    "    # words = text.split(\" \")\n",
    "    # words = [w.lower() if w.isupper() else w for w in words]\n",
    "    # words = [w.lower() for w in words]\n",
    "    # text = \" \".join(words)\n",
    "    \n",
    "    return text.lower().strip()\n",
    "\n",
    "def book2text(file):\n",
    "    with open('corpus/' + file, 'r', encoding='latin-1\"') as f:\n",
    "        text_raw = f.readlines()\n",
    "    \n",
    "    print(len(text_raw))   \n",
    "    text_all = \" \".join(text_raw)\n",
    "    print(len(text_all))\n",
    "    # print(text_all[:1000])\n",
    "    print()\n",
    "    \n",
    "    text_in_words = clean_text(text_all)\n",
    "    return(text_in_words)\n",
    "\n",
    "# text_in_words = book2text(\"chamber_of_secrets.txt\")\n",
    "\n",
    "# print(text_in_words[:1000])"
   ]
  },
  {
   "cell_type": "markdown",
   "metadata": {},
   "source": [
    "Keras   \n",
    "https://medium.com/@shivambansal36/language-modelling-text-generation-using-lstms-deep-learning-for-nlp-ed36b224b275 \n",
    "https://machinelearningmastery.com/develop-word-based-neural-language-models-python-keras/   \n",
    "PyTorch  \n",
    "https://www.kaggle.com/alvations/gru-language-model"
   ]
  },
  {
   "cell_type": "markdown",
   "metadata": {},
   "source": [
    "## Combine 6 books together"
   ]
  },
  {
   "cell_type": "code",
   "execution_count": 115,
   "metadata": {
    "ExecuteTime": {
     "end_time": "2019-03-27T04:11:33.858423Z",
     "start_time": "2019-03-27T04:11:32.850312Z"
    },
    "scrolled": true
   },
   "outputs": [
    {
     "name": "stdout",
     "output_type": "stream",
     "text": [
      "22\n",
      "611252\n",
      "\n",
      "37\n",
      "1124269\n",
      "\n",
      "37\n",
      "1105224\n",
      "\n",
      "30\n",
      "984172\n",
      "\n",
      "19\n",
      "490821\n",
      "\n",
      "38\n",
      "1514978\n",
      "\n",
      "6\n",
      "5685410\n"
     ]
    }
   ],
   "source": [
    "text_all = []\n",
    "for file in books:\n",
    "    text_1_book = book2text(file)\n",
    "    text_all.append(text_1_book)\n",
    "\n",
    "print(len(text_all))    \n",
    "text_in_6books =  \" \".join(text_all)\n",
    "print(len(text_in_6books))"
   ]
  },
  {
   "cell_type": "code",
   "execution_count": 116,
   "metadata": {
    "ExecuteTime": {
     "end_time": "2019-03-27T04:11:38.142195Z",
     "start_time": "2019-03-27T04:11:38.136452Z"
    },
    "scrolled": false
   },
   "outputs": [
    {
     "data": {
      "text/plain": [
       "\"petunia, and their son, dudley, were harry's only living relatives. they were muggles, and they had a very medieval attitude toward magic. harry's dead parents, who had been a witch and wizard themselves, were never mentioned under the dursleys' roof for years, aunt petunia and uncle vernon had hoped that if they kept harry as downtrodden as possible, they would be able to squash the magic out of him. to their fury, they had been unsuccessful. these days they lived in terror of anyone finding out that harry had spent most of the last two years at hogwarts school of witchcraft and wizardry. the most they could do, however, was to lock away harry's spellbooks, wand, cauldron, and broomstick at the start of the summer break, and forbid him to talk to the neighbors. this separation from his spellbooks had been a real problem for harry, because his teachers at hogwarts had given him a lot of holiday work. one of the essays, a particularly nasty one about shrinking potions, was for harry's least favorite teacher, professor snape, who would be delighted to have an excuse to give harry detention for a month. harry had therefore seized his chance in the first week of the holidays. while uncle vernon, aunt petunia, and dudley had gone out into the front garden to admire uncle vernon's new company car in very loud voices, so that the rest of the street would notice it too , harry had crept downstairs, picked the lock on the cupboard under the stairs, grabbed some of his books, and hidden them in his bedroom. as long as he didn't leave spots of ink on the sheets, the dursleys need never know that he was studying magic by night. harry was particularly keen to avoid trouble with his aunt and uncle at the moment, as they were already in an especially bad mood with him, all because he'd received a telephone call from a fellow wizard one week into the school vacation. ron weasley, who was one of harry's best friends at hogwarts, came from a whole family of wizards. this meant that he knew a lot of things harry didn't, but had never used a telephone before. most unluckily, it had been uncle vernon who had answered the call. vernon dursley speaking. harry, who happened to be in the room at the time, froze as he heard ron's voice answer. hello? hello? can you hear me? i want to talk to harry potter! ron was yelling so loudly that uncle vernon jumped and held the receiver a foot away from his ear, staring at it with an expression of mingled fury and alarm. who is this? he roared in the direction of the mouthpiece. who are you? ron weasley! ron bellowed back, as though he and uncle vernon were speaking from opposite ends of a football field. i'm a friend of harry's from school uncle vernon's small eyes swiveled around to harry, who was rooted to the spot. there is no harry potter here! he roared, now holding the receiver at arm's length, as though frightened it might explode. i don't know what school youre talking about! never contact me again! don't you come near my \""
      ]
     },
     "execution_count": 116,
     "metadata": {},
     "output_type": "execute_result"
    }
   ],
   "source": [
    "text_in_6books[2000:5000]"
   ]
  },
  {
   "cell_type": "code",
   "execution_count": 36,
   "metadata": {
    "ExecuteTime": {
     "end_time": "2019-03-26T06:28:36.034008Z",
     "start_time": "2019-03-26T06:28:36.027856Z"
    }
   },
   "outputs": [
    {
     "data": {
      "text/plain": [
       "['ok', 'a', 'history', 'of', 'magic', 'by', 'bathilda', 'bagshot', 'propped']"
      ]
     },
     "execution_count": 36,
     "metadata": {},
     "output_type": "execute_result"
    }
   ],
   "source": [
    "word_tokenize(text_in_6books[450:500])"
   ]
  },
  {
   "cell_type": "markdown",
   "metadata": {},
   "source": [
    "## Prepare training sequence"
   ]
  },
  {
   "cell_type": "code",
   "execution_count": 121,
   "metadata": {
    "ExecuteTime": {
     "end_time": "2019-03-27T04:15:38.084824Z",
     "start_time": "2019-03-27T04:15:21.856871Z"
    }
   },
   "outputs": [
    {
     "name": "stdout",
     "output_type": "stream",
     "text": [
      "1199012\n",
      "1142680\n",
      "N training sequences: 1142640\n",
      "N next words: 1142640\n",
      "N total words: 25274\n"
     ]
    }
   ],
   "source": [
    "from keras.preprocessing.text import Tokenizer\n",
    "from nltk.tokenize import word_tokenize\n",
    "\n",
    "input_len = 20\n",
    "output_len = 20\n",
    "n_words = 5000\n",
    "tokenizer = Tokenizer(num_words=n_words, filters='')\n",
    "\n",
    "def dataset_preparation(data, input_len, output_len):\n",
    "    STEP = 1\n",
    "    sentences = []\n",
    "    next_words = []\n",
    "\n",
    "    # corpus = data.split(\" \") \n",
    "    corpus = word_tokenize(data)\n",
    "    tokenizer.fit_on_texts(corpus)\n",
    "    token_list = tokenizer.texts_to_sequences([corpus])[0]\n",
    "    total_words = len(tokenizer.word_index) + 1\n",
    "    \n",
    "    # why dif??\n",
    "    print(len(corpus))\n",
    "    print(len(token_list))\n",
    "\n",
    "    for i in range(0, len(token_list) - input_len - output_len, STEP):\n",
    "        sentences.append(token_list[i: i + input_len])\n",
    "        next_words.append(token_list[i + input_len])\n",
    "\n",
    "    print('N training sequences:', len(sentences))\n",
    "    print('N next words:', len(next_words))  \n",
    "    \n",
    "    return total_words, sentences, next_words\n",
    "\n",
    "\n",
    "total_words, sentences, next_words = dataset_preparation(text_in_6books, input_len, output_len)\n",
    "print('N total words:', total_words)  \n",
    "# print(sentences[100])\n",
    "# print(next_words[100])"
   ]
  },
  {
   "cell_type": "code",
   "execution_count": 122,
   "metadata": {
    "ExecuteTime": {
     "end_time": "2019-03-27T04:15:49.622362Z",
     "start_time": "2019-03-27T04:15:44.849012Z"
    }
   },
   "outputs": [
    {
     "name": "stdout",
     "output_type": "stream",
     "text": [
      "(1142640, 20)\n",
      "(1142640, 5000)\n"
     ]
    }
   ],
   "source": [
    "import numpy as np\n",
    "import pandas as pd\n",
    "from sklearn.model_selection import train_test_split\n",
    "from keras.utils import to_categorical\n",
    "\n",
    "X = np.array(sentences)\n",
    "Y = to_categorical(next_words, num_classes=n_words)\n",
    "n_cat = Y.shape[1]\n",
    "\n",
    "print(X.shape)\n",
    "print(Y.shape)\n",
    "\n",
    "\n",
    "# X_train, X_test, y_train, y_test = train_test_split(\n",
    "#    X, Y, test_size=0.1, random_state=42)\n",
    "\n",
    "# print(X_train.shape)\n",
    "# print(y_train.shape)"
   ]
  },
  {
   "cell_type": "code",
   "execution_count": 9,
   "metadata": {
    "ExecuteTime": {
     "end_time": "2019-03-27T04:15:54.456265Z",
     "start_time": "2019-03-27T04:15:54.113339Z"
    },
    "scrolled": true
   },
   "outputs": [
    {
     "name": "stdout",
     "output_type": "stream",
     "text": [
      "_________________________________________________________________\n",
      "Layer (type)                 Output Shape              Param #   \n",
      "=================================================================\n",
      "embedding_2_input (InputLaye (None, 20)                0         \n",
      "_________________________________________________________________\n",
      "embedding_2 (Embedding)      (None, 20, 128)           640000    \n",
      "_________________________________________________________________\n",
      "bidirectional_2 (Bidirection (None, 256)               263168    \n",
      "_________________________________________________________________\n",
      "dropout_2 (Dropout)          (None, 256)               0         \n",
      "_________________________________________________________________\n",
      "dense_1 (Dense)              (None, 5000)              1285000   \n",
      "=================================================================\n",
      "Total params: 2,188,168\n",
      "Trainable params: 2,188,168\n",
      "Non-trainable params: 0\n",
      "_________________________________________________________________\n"
     ]
    }
   ],
   "source": [
    "from keras.models import Sequential \n",
    "from keras.layers import Dense, Dropout, Embedding, LSTM, Bidirectional\n",
    "\n",
    "model = Sequential()\n",
    "model.add(Embedding(n_words, 128, input_length=input_len))\n",
    "# model.add(LSTM(128))\n",
    "model.add(Bidirectional(LSTM(128)))\n",
    "model.add(Dropout(0.2))\n",
    "model.add(Dense(n_words, activation='softmax'))\n",
    "model.compile(loss='categorical_crossentropy', optimizer='adam')\n",
    "\n",
    "model.summary()"
   ]
  },
  {
   "cell_type": "code",
   "execution_count": 13,
   "metadata": {},
   "outputs": [
    {
     "data": {
      "image/svg+xml": [
       "<svg height=\"337pt\" viewBox=\"0.00 0.00 284.00 337.00\" width=\"284pt\" xmlns=\"http://www.w3.org/2000/svg\" xmlns:xlink=\"http://www.w3.org/1999/xlink\">\n",
       "<g class=\"graph\" id=\"graph0\" transform=\"scale(1 1) rotate(0) translate(4 333)\">\n",
       "<title>G</title>\n",
       "<polygon fill=\"#ffffff\" points=\"-4,4 -4,-333 280,-333 280,4 -4,4\" stroke=\"transparent\"/>\n",
       "<!-- 114673118232 -->\n",
       "<g class=\"node\" id=\"node1\">\n",
       "<title>114673118232</title>\n",
       "<polygon fill=\"none\" points=\"39,-292.5 39,-328.5 237,-328.5 237,-292.5 39,-292.5\" stroke=\"#000000\"/>\n",
       "<text fill=\"#000000\" font-family=\"Times,serif\" font-size=\"14.00\" text-anchor=\"middle\" x=\"138\" y=\"-306.8\">embedding_2_input: InputLayer</text>\n",
       "</g>\n",
       "<!-- 114673118120 -->\n",
       "<g class=\"node\" id=\"node2\">\n",
       "<title>114673118120</title>\n",
       "<polygon fill=\"none\" points=\"55.5,-219.5 55.5,-255.5 220.5,-255.5 220.5,-219.5 55.5,-219.5\" stroke=\"#000000\"/>\n",
       "<text fill=\"#000000\" font-family=\"Times,serif\" font-size=\"14.00\" text-anchor=\"middle\" x=\"138\" y=\"-233.8\">embedding_2: Embedding</text>\n",
       "</g>\n",
       "<!-- 114673118232&#45;&gt;114673118120 -->\n",
       "<g class=\"edge\" id=\"edge1\">\n",
       "<title>114673118232-&gt;114673118120</title>\n",
       "<path d=\"M138,-292.4551C138,-284.3828 138,-274.6764 138,-265.6817\" fill=\"none\" stroke=\"#000000\"/>\n",
       "<polygon fill=\"#000000\" points=\"141.5001,-265.5903 138,-255.5904 134.5001,-265.5904 141.5001,-265.5903\" stroke=\"#000000\"/>\n",
       "</g>\n",
       "<!-- 114673128560 -->\n",
       "<g class=\"node\" id=\"node3\">\n",
       "<title>114673128560</title>\n",
       "<polygon fill=\"none\" points=\"0,-146.5 0,-182.5 276,-182.5 276,-146.5 0,-146.5\" stroke=\"#000000\"/>\n",
       "<text fill=\"#000000\" font-family=\"Times,serif\" font-size=\"14.00\" text-anchor=\"middle\" x=\"138\" y=\"-160.8\">bidirectional_2(lstm_2): Bidirectional(LSTM)</text>\n",
       "</g>\n",
       "<!-- 114673118120&#45;&gt;114673128560 -->\n",
       "<g class=\"edge\" id=\"edge2\">\n",
       "<title>114673118120-&gt;114673128560</title>\n",
       "<path d=\"M138,-219.4551C138,-211.3828 138,-201.6764 138,-192.6817\" fill=\"none\" stroke=\"#000000\"/>\n",
       "<polygon fill=\"#000000\" points=\"141.5001,-192.5903 138,-182.5904 134.5001,-192.5904 141.5001,-192.5903\" stroke=\"#000000\"/>\n",
       "</g>\n",
       "<!-- 114673118960 -->\n",
       "<g class=\"node\" id=\"node4\">\n",
       "<title>114673118960</title>\n",
       "<polygon fill=\"none\" points=\"74,-73.5 74,-109.5 202,-109.5 202,-73.5 74,-73.5\" stroke=\"#000000\"/>\n",
       "<text fill=\"#000000\" font-family=\"Times,serif\" font-size=\"14.00\" text-anchor=\"middle\" x=\"138\" y=\"-87.8\">dropout_2: Dropout</text>\n",
       "</g>\n",
       "<!-- 114673128560&#45;&gt;114673118960 -->\n",
       "<g class=\"edge\" id=\"edge3\">\n",
       "<title>114673128560-&gt;114673118960</title>\n",
       "<path d=\"M138,-146.4551C138,-138.3828 138,-128.6764 138,-119.6817\" fill=\"none\" stroke=\"#000000\"/>\n",
       "<polygon fill=\"#000000\" points=\"141.5001,-119.5903 138,-109.5904 134.5001,-119.5904 141.5001,-119.5903\" stroke=\"#000000\"/>\n",
       "</g>\n",
       "<!-- 114677860560 -->\n",
       "<g class=\"node\" id=\"node5\">\n",
       "<title>114677860560</title>\n",
       "<polygon fill=\"none\" points=\"85.5,-.5 85.5,-36.5 190.5,-36.5 190.5,-.5 85.5,-.5\" stroke=\"#000000\"/>\n",
       "<text fill=\"#000000\" font-family=\"Times,serif\" font-size=\"14.00\" text-anchor=\"middle\" x=\"138\" y=\"-14.8\">dense_1: Dense</text>\n",
       "</g>\n",
       "<!-- 114673118960&#45;&gt;114677860560 -->\n",
       "<g class=\"edge\" id=\"edge4\">\n",
       "<title>114673118960-&gt;114677860560</title>\n",
       "<path d=\"M138,-73.4551C138,-65.3828 138,-55.6764 138,-46.6817\" fill=\"none\" stroke=\"#000000\"/>\n",
       "<polygon fill=\"#000000\" points=\"141.5001,-46.5903 138,-36.5904 134.5001,-46.5904 141.5001,-46.5903\" stroke=\"#000000\"/>\n",
       "</g>\n",
       "</g>\n",
       "</svg>"
      ],
      "text/plain": [
       "<IPython.core.display.SVG object>"
      ]
     },
     "execution_count": 13,
     "metadata": {},
     "output_type": "execute_result"
    }
   ],
   "source": [
    "import pydot\n",
    "from IPython.display import SVG\n",
    "from keras.utils import plot_model\n",
    "from keras.utils.vis_utils import model_to_dot\n",
    "\n",
    "plot_model(model, to_file='lstm.png', show_shapes = True)\n",
    "SVG(model_to_dot(model).create(prog='dot', format='svg'))"
   ]
  },
  {
   "cell_type": "code",
   "execution_count": 125,
   "metadata": {
    "ExecuteTime": {
     "end_time": "2019-03-27T04:53:15.867168Z",
     "start_time": "2019-03-27T04:16:08.226149Z"
    },
    "scrolled": false
   },
   "outputs": [
    {
     "name": "stdout",
     "output_type": "stream",
     "text": [
      "Train on 799848 samples, validate on 342792 samples\n",
      "Epoch 1/100\n",
      "799848/799848 [==============================] - 252s 315us/step - loss: 5.2890 - val_loss: 4.9244\n",
      "Epoch 2/100\n",
      "799848/799848 [==============================] - 248s 309us/step - loss: 4.6694 - val_loss: 4.6972\n",
      "Epoch 3/100\n",
      "799848/799848 [==============================] - 246s 307us/step - loss: 4.4649 - val_loss: 4.5776\n",
      "Epoch 4/100\n",
      "799848/799848 [==============================] - 247s 309us/step - loss: 4.3201 - val_loss: 4.5182\n",
      "Epoch 5/100\n",
      "799848/799848 [==============================] - 246s 307us/step - loss: 4.2060 - val_loss: 4.4800\n",
      "Epoch 6/100\n",
      "799848/799848 [==============================] - 248s 310us/step - loss: 4.1094 - val_loss: 4.4649\n",
      "Epoch 7/100\n",
      "799848/799848 [==============================] - 246s 308us/step - loss: 4.0250 - val_loss: 4.4668\n",
      "Epoch 8/100\n",
      "799848/799848 [==============================] - 246s 308us/step - loss: 3.9493 - val_loss: 4.4728\n",
      "Epoch 9/100\n",
      "799848/799848 [==============================] - 246s 308us/step - loss: 3.8807 - val_loss: 4.4923\n",
      "Epoch 00009: early stopping\n",
      "\n",
      "Start time : \n",
      "2019-03-27 12:16:08\n",
      "Finish time : \n",
      "2019-03-27 12:53:15\n"
     ]
    }
   ],
   "source": [
    "from keras.callbacks import EarlyStopping, ModelCheckpoint\n",
    "\n",
    "batch_size = 256\n",
    "file_path = \"./lstm_model_20.hdf5\"\n",
    "checkpoint = ModelCheckpoint(file_path, monitor='val_loss', save_best_only=True)\n",
    "earlystopper = EarlyStopping(monitor='val_loss', patience=3, verbose=1)\n",
    "\n",
    "import datetime\n",
    "now1 = datetime.datetime.now()\n",
    "\n",
    "history = model.fit(X, Y,\n",
    "          validation_split=0.3, \n",
    "          # callbacks=[earlystopper],\n",
    "          callbacks=[earlystopper, checkpoint],\n",
    "          batch_size=batch_size, epochs=100, verbose = 1 \n",
    "         )\n",
    "\n",
    "now2 = datetime.datetime.now()\n",
    "\n",
    "print()\n",
    "print (\"Start time : \")\n",
    "print (now1.strftime(\"%Y-%m-%d %H:%M:%S\"))\n",
    "print (\"Finish time : \")\n",
    "print (now2.strftime(\"%Y-%m-%d %H:%M:%S\"))"
   ]
  },
  {
   "cell_type": "code",
   "execution_count": 126,
   "metadata": {
    "ExecuteTime": {
     "end_time": "2019-03-27T05:35:39.493283Z",
     "start_time": "2019-03-27T05:35:39.465884Z"
    },
    "collapsed": true
   },
   "outputs": [],
   "source": [
    "import pickle\n",
    "\n",
    "with open('tokenizer.pkl', 'wb') as handle:\n",
    "    pickle.dump(tokenizer, handle, protocol=pickle.HIGHEST_PROTOCOL)"
   ]
  },
  {
   "cell_type": "code",
   "execution_count": 127,
   "metadata": {
    "ExecuteTime": {
     "end_time": "2019-03-27T05:35:43.055786Z",
     "start_time": "2019-03-27T05:35:42.957612Z"
    },
    "scrolled": true
   },
   "outputs": [
    {
     "name": "stdout",
     "output_type": "stream",
     "text": [
      "dict_keys(['val_loss', 'loss'])\n"
     ]
    },
    {
     "data": {
      "image/png": "[encoded data removed]",
      "text/plain": [
       "<Figure size 432x288 with 1 Axes>"
      ]
     },
     "metadata": {
      "needs_background": "light"
     },
     "output_type": "display_data"
    }
   ],
   "source": [
    "import matplotlib.pyplot as plt\n",
    "\n",
    "# summarize history for loss\n",
    "print(history.history.keys())\n",
    "plt.plot(history.history['loss'])\n",
    "plt.plot(history.history['val_loss'])\n",
    "plt.title('model loss')\n",
    "plt.ylabel('loss')\n",
    "plt.xlabel('epoch')\n",
    "plt.legend(['train', 'val'], loc='upper right')\n",
    "plt.show()"
   ]
  },
  {
   "cell_type": "markdown",
   "metadata": {},
   "source": [
    "## Evaluate performance using Book 1"
   ]
  },
  {
   "cell_type": "code",
   "execution_count": 2,
   "metadata": {},
   "outputs": [
    {
     "name": "stderr",
     "output_type": "stream",
     "text": [
      "/Users/qy/anaconda3/lib/python3.6/site-packages/h5py/__init__.py:36: FutureWarning: Conversion of the second argument of issubdtype from `float` to `np.floating` is deprecated. In future, it will be treated as `np.float64 == np.dtype(float).type`.\n",
      "  from ._conv import register_converters as _register_converters\n",
      "Using TensorFlow backend.\n"
     ]
    },
    {
     "data": {
      "text/plain": [
       "25274"
      ]
     },
     "execution_count": 2,
     "metadata": {},
     "output_type": "execute_result"
    }
   ],
   "source": [
    "from keras.models import load_model\n",
    "\n",
    "model_best = load_model('./lstm_model_20.hdf5')\n",
    "\n",
    "import pickle\n",
    "\n",
    "with open('./tokenizer.pkl', 'rb') as handle:\n",
    "    tokenizer = pickle.load(handle)\n",
    "\n",
    "len(tokenizer.word_index) + 1"
   ]
  },
  {
   "cell_type": "code",
   "execution_count": 5,
   "metadata": {},
   "outputs": [
    {
     "name": "stdout",
     "output_type": "stream",
     "text": [
      "17\n",
      "439463\n",
      "88781\n",
      "88781\n",
      "(88781, 20)\n",
      "(88781, 5000)\n"
     ]
    }
   ],
   "source": [
    "with open('corpus_test/philosophers_stone.txt', 'r', encoding='latin-1\"') as f:\n",
    "    text_raw = f.readlines()\n",
    "\n",
    "print(len(text_raw))   \n",
    "text_all = \" \".join(text_raw)\n",
    "print(len(text_all))\n",
    "text_in_words = clean_text(text_all)\n",
    "\n",
    "input_len = 20\n",
    "output_len = 20\n",
    "n_words = 5000\n",
    "\n",
    "STEP = 1\n",
    "sentences = []\n",
    "next_words = []\n",
    "\n",
    "from nltk.tokenize import word_tokenize\n",
    "\n",
    "corpus = word_tokenize(text_in_words)\n",
    "token_list = tokenizer.texts_to_sequences([corpus])[0]\n",
    "total_words = len(tokenizer.word_index) + 1\n",
    "\n",
    "for i in range(0, len(token_list) - input_len - output_len, STEP):\n",
    "    sentences.append(token_list[i: i + input_len])\n",
    "    next_words.append(token_list[i + input_len])\n",
    "\n",
    "print(len(sentences))\n",
    "print(len(next_words))\n",
    "\n",
    "import numpy as np\n",
    "import pandas as pd\n",
    "from keras.utils import to_categorical\n",
    "\n",
    "X_test = np.array(sentences)\n",
    "Y_test = to_categorical(next_words, num_classes=n_words)\n",
    "\n",
    "print(X_test.shape)\n",
    "print(Y_test.shape)"
   ]
  },
  {
   "cell_type": "code",
   "execution_count": 7,
   "metadata": {},
   "outputs": [
    {
     "name": "stdout",
     "output_type": "stream",
     "text": [
      "88781/88781 [==============================] - 61s 687us/step\n",
      "Loss:  4.38065548001175\n",
      "Perplexity:  20.830931948834603\n"
     ]
    }
   ],
   "source": [
    "score = model_best.evaluate(X_test, Y_test, batch_size=256)\n",
    "perplexity = np.power(2, score)\n",
    "print(\"Loss: \", score)\n",
    "print(\"Perplexity: \", perplexity)"
   ]
  },
  {
   "cell_type": "code",
   "execution_count": null,
   "metadata": {
    "collapsed": true
   },
   "outputs": [],
   "source": []
  }
 ],
 "metadata": {
  "hide_input": false,
  "kernelspec": {
   "display_name": "Python 3",
   "language": "python",
   "name": "python3"
  },
  "language_info": {
   "codemirror_mode": {
    "name": "ipython",
    "version": 3
   },
   "file_extension": ".py",
   "mimetype": "text/x-python",
   "name": "python",
   "nbconvert_exporter": "python",
   "pygments_lexer": "ipython3",
   "version": "3.6.8"
  },
  "varInspector": {
   "cols": {
    "lenName": 16,
    "lenType": 16,
    "lenVar": 40
   },
   "kernels_config": {
    "python": {
     "delete_cmd_postfix": "",
     "delete_cmd_prefix": "del ",
     "library": "var_list.py",
     "varRefreshCmd": "print(var_dic_list())"
    },
    "r": {
     "delete_cmd_postfix": ") ",
     "delete_cmd_prefix": "rm(",
     "library": "var_list.r",
     "varRefreshCmd": "cat(var_dic_list()) "
    }
   },
   "types_to_exclude": [
    "module",
    "function",
    "builtin_function_or_method",
    "instance",
    "_Feature"
   ],
   "window_display": false
  }
 },
 "nbformat": 4,
 "nbformat_minor": 2
}
