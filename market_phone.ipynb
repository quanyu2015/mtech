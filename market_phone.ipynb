{
 "cells": [
  {
   "cell_type": "code",
   "execution_count": 4,
   "metadata": {},
   "outputs": [],
   "source": [
    "from pymongo import MongoClient\n",
    "import pandas as pd\n",
    "from bson.objectid import ObjectId\n",
    "import warnings\n",
    "warnings.simplefilter('ignore')\n",
    "\n",
    "client = MongoClient()\n",
    "db = client.seasalt\n",
    "collection = db.shopee"
   ]
  },
  {
   "cell_type": "code",
   "execution_count": 6,
   "metadata": {},
   "outputs": [
    {
     "data": {
      "text/plain": [
       "23"
      ]
     },
     "execution_count": 6,
     "metadata": {},
     "output_type": "execute_result"
    }
   ],
   "source": [
    "test = collection.find( {\"seller_name\": \"mobilesquare\" }, {\"product_brand\": 1, \"product_name\": 1, \"product_breadcrumb\": 1})\n",
    "data = []\n",
    "for x in test:\n",
    "    data.append(x)\n",
    "len(data)"
   ]
  },
  {
   "cell_type": "code",
   "execution_count": 7,
   "metadata": {},
   "outputs": [
    {
     "name": "stdout",
     "output_type": "stream",
     "text": [
      "Apple\n",
      "Apple\n",
      "Huawei\n",
      "Samsung\n",
      "Huawei\n",
      "Samsung\n",
      "\n",
      "LG\n",
      "\n",
      "\n"
     ]
    }
   ],
   "source": [
    "for i in range(10):\n",
    "    print(data[i]['product_brand'])"
   ]
  },
  {
   "cell_type": "code",
   "execution_count": 11,
   "metadata": {},
   "outputs": [
    {
     "data": {
      "text/plain": [
       "['Shopee', 'Mobile & Gadgets', 'Mobile Phones & Tablets', 'Others']"
      ]
     },
     "execution_count": 11,
     "metadata": {},
     "output_type": "execute_result"
    }
   ],
   "source": [
    "data[10]['product_breadcrumb']"
   ]
  },
  {
   "cell_type": "code",
   "execution_count": 12,
   "metadata": {},
   "outputs": [
    {
     "data": {
      "text/plain": [
       "3247"
      ]
     },
     "execution_count": 12,
     "metadata": {},
     "output_type": "execute_result"
    }
   ],
   "source": [
    "test = collection.find( {\"product_breadcrumb\": 'Mobile Phones & Tablets' }, {\"product_brand\": 1, \"product_name\": 1, 'sold_monthly': 1, 'current_price': 1})\n",
    "data = []\n",
    "for x in test:\n",
    "    data.append(x)\n",
    "len(data)"
   ]
  },
  {
   "cell_type": "code",
   "execution_count": 13,
   "metadata": {},
   "outputs": [
    {
     "data": {
      "text/plain": [
       "[{'_id': ObjectId('5aa5661ff9a8fa505180de2c'),\n",
       "  'current_price': '69.00',\n",
       "  'product_brand': '0',\n",
       "  'product_name': 'Portable WIFI 7 Inch Android Kids Tablet dual camera Bluetooth Quad Core tab[KS]',\n",
       "  'sold_monthly': '0'},\n",
       " {'_id': ObjectId('5aa56626f9a8fa505180de33'),\n",
       "  'current_price': '102.00',\n",
       "  'product_brand': 'Amazon',\n",
       "  'product_name': 'GeekBite Amazon Kindle 8th Gen + 8000 Ebooks+ Screen Protector+ Kindle Pouch',\n",
       "  'sold_monthly': '27'},\n",
       " {'_id': ObjectId('5aa56633f9a8fa505180de4c'),\n",
       "  'current_price': '109.00',\n",
       "  'product_brand': 'Amazon',\n",
       "  'product_name': 'Amazon Kindle 8th Gen 2016 (USA/Special Offers) - White/BLACK',\n",
       "  'sold_monthly': '0'},\n",
       " {'_id': ObjectId('5aa5668df9a8fa505180ded2'),\n",
       "  'current_price': '185.00',\n",
       "  'product_brand': 'Xiaomi',\n",
       "  'product_name': 'Xiaomi Redmi Note 4 3+64GB',\n",
       "  'sold_monthly': '4'},\n",
       " {'_id': ObjectId('5aa566b5f9a8fa505180df0f'),\n",
       "  'current_price': '139.00',\n",
       "  'product_brand': 'Microsoft',\n",
       "  'product_name': 'Uag Plasma For Microsoft Surface Pro 2017 / Surface Pro 4',\n",
       "  'sold_monthly': '0'}]"
      ]
     },
     "execution_count": 13,
     "metadata": {},
     "output_type": "execute_result"
    }
   ],
   "source": [
    "data[:5]"
   ]
  },
  {
   "cell_type": "code",
   "execution_count": 17,
   "metadata": {},
   "outputs": [
    {
     "name": "stdout",
     "output_type": "stream",
     "text": [
      "(3247, 4)\n"
     ]
    },
    {
     "data": {
      "text/html": [
       "<div>\n",
       "<style>\n",
       "    .dataframe thead tr:only-child th {\n",
       "        text-align: right;\n",
       "    }\n",
       "\n",
       "    .dataframe thead th {\n",
       "        text-align: left;\n",
       "    }\n",
       "\n",
       "    .dataframe tbody tr th {\n",
       "        vertical-align: top;\n",
       "    }\n",
       "</style>\n",
       "<table border=\"1\" class=\"dataframe\">\n",
       "  <thead>\n",
       "    <tr style=\"text-align: right;\">\n",
       "      <th></th>\n",
       "      <th>brand</th>\n",
       "      <th>name</th>\n",
       "      <th>price</th>\n",
       "      <th>sold</th>\n",
       "    </tr>\n",
       "  </thead>\n",
       "  <tbody>\n",
       "    <tr>\n",
       "      <th>0</th>\n",
       "      <td>0</td>\n",
       "      <td>Portable WIFI 7 Inch Android Kids Tablet dual ...</td>\n",
       "      <td>69.00</td>\n",
       "      <td>0</td>\n",
       "    </tr>\n",
       "    <tr>\n",
       "      <th>1</th>\n",
       "      <td>Amazon</td>\n",
       "      <td>GeekBite Amazon Kindle 8th Gen + 8000 Ebooks+ ...</td>\n",
       "      <td>102.00</td>\n",
       "      <td>27</td>\n",
       "    </tr>\n",
       "    <tr>\n",
       "      <th>2</th>\n",
       "      <td>Amazon</td>\n",
       "      <td>Amazon Kindle 8th Gen 2016 (USA/Special Offers...</td>\n",
       "      <td>109.00</td>\n",
       "      <td>0</td>\n",
       "    </tr>\n",
       "    <tr>\n",
       "      <th>3</th>\n",
       "      <td>Xiaomi</td>\n",
       "      <td>Xiaomi Redmi Note 4 3+64GB</td>\n",
       "      <td>185.00</td>\n",
       "      <td>4</td>\n",
       "    </tr>\n",
       "    <tr>\n",
       "      <th>4</th>\n",
       "      <td>Microsoft</td>\n",
       "      <td>Uag Plasma For Microsoft Surface Pro 2017 / Su...</td>\n",
       "      <td>139.00</td>\n",
       "      <td>0</td>\n",
       "    </tr>\n",
       "  </tbody>\n",
       "</table>\n",
       "</div>"
      ],
      "text/plain": [
       "       brand                                               name   price sold\n",
       "0          0  Portable WIFI 7 Inch Android Kids Tablet dual ...   69.00    0\n",
       "1     Amazon  GeekBite Amazon Kindle 8th Gen + 8000 Ebooks+ ...  102.00   27\n",
       "2     Amazon  Amazon Kindle 8th Gen 2016 (USA/Special Offers...  109.00    0\n",
       "3     Xiaomi                         Xiaomi Redmi Note 4 3+64GB  185.00    4\n",
       "4  Microsoft  Uag Plasma For Microsoft Surface Pro 2017 / Su...  139.00    0"
      ]
     },
     "execution_count": 17,
     "metadata": {},
     "output_type": "execute_result"
    }
   ],
   "source": [
    "price = []\n",
    "brand = []\n",
    "name = []\n",
    "sold = []\n",
    "\n",
    "for i in range(len(data)):\n",
    "    price.append(data[i]['current_price'])\n",
    "    brand.append(data[i]['product_brand'])\n",
    "    name.append(data[i]['product_name'])\n",
    "    sold.append(data[i]['sold_monthly'])\n",
    "    \n",
    "df = pd.DataFrame({\n",
    "    'name': name,\n",
    "    'brand': brand,\n",
    "    'price': price,\n",
    "    'sold': sold\n",
    "})    \n",
    "\n",
    "print(df.shape)\n",
    "df.head()"
   ]
  },
  {
   "cell_type": "code",
   "execution_count": 18,
   "metadata": {},
   "outputs": [
    {
     "data": {
      "text/plain": [
       "           2138\n",
       "Samsung     206\n",
       "0           206\n",
       "Xiaomi      181\n",
       "Apple       155\n",
       "Name: brand, dtype: int64"
      ]
     },
     "execution_count": 18,
     "metadata": {},
     "output_type": "execute_result"
    }
   ],
   "source": [
    "df.brand.value_counts().head()"
   ]
  },
  {
   "cell_type": "code",
   "execution_count": 21,
   "metadata": {},
   "outputs": [
    {
     "data": {
      "text/plain": [
       "Samsung     206\n",
       "Xiaomi      181\n",
       "Apple       155\n",
       "No Brand    117\n",
       "Huawei       84\n",
       "Name: brand, dtype: int64"
      ]
     },
     "execution_count": 21,
     "metadata": {},
     "output_type": "execute_result"
    }
   ],
   "source": [
    "df = df[(df.brand != \"\") & (df.brand != \"0\")]\n",
    "df.brand.value_counts().head()"
   ]
  },
  {
   "cell_type": "code",
   "execution_count": 22,
   "metadata": {},
   "outputs": [
    {
     "data": {
      "text/plain": [
       "(903, 4)"
      ]
     },
     "execution_count": 22,
     "metadata": {},
     "output_type": "execute_result"
    }
   ],
   "source": [
    "df.shape"
   ]
  },
  {
   "cell_type": "code",
   "execution_count": 23,
   "metadata": {},
   "outputs": [
    {
     "data": {
      "text/plain": [
       "(69, 4)"
      ]
     },
     "execution_count": 23,
     "metadata": {},
     "output_type": "execute_result"
    }
   ],
   "source": [
    "df = df[df.sold != \"0\"]\n",
    "df.shape"
   ]
  },
  {
   "cell_type": "code",
   "execution_count": 26,
   "metadata": {},
   "outputs": [
    {
     "data": {
      "text/plain": [
       "Samsung     23\n",
       "Xiaomi      11\n",
       "Apple       11\n",
       "Huawei       7\n",
       "No Brand     7\n",
       "OEM          2\n",
       "Lenovo       2\n",
       "iNo          1\n",
       "Nokia        1\n",
       "sghitech     1\n",
       "Google       1\n",
       "Acer         1\n",
       "Amazon       1\n",
       "Name: brand, dtype: int64"
      ]
     },
     "execution_count": 26,
     "metadata": {},
     "output_type": "execute_result"
    }
   ],
   "source": [
    "df.brand.value_counts()"
   ]
  },
  {
   "cell_type": "code",
   "execution_count": 34,
   "metadata": {},
   "outputs": [
    {
     "data": {
      "text/plain": [
       "1               102.00\n",
       "3               185.00\n",
       "5               800.00\n",
       "9               665.00\n",
       "18              740.00\n",
       "26     168.00 - 228.00\n",
       "29              248.00\n",
       "30              128.00\n",
       "52              365.00\n",
       "126            1320.00\n",
       "147              65.00\n",
       "262        7.17 - 9.87\n",
       "355             319.00\n",
       "499    235.00 - 372.50\n",
       "528            2120.00\n",
       "600            1170.00\n",
       "607             480.00\n",
       "642            1088.00\n",
       "667             329.00\n",
       "687    1500.00-1520.00\n",
       "Name: price, dtype: object"
      ]
     },
     "execution_count": 34,
     "metadata": {},
     "output_type": "execute_result"
    }
   ],
   "source": [
    "df['price'][:20]"
   ]
  },
  {
   "cell_type": "code",
   "execution_count": 36,
   "metadata": {},
   "outputs": [],
   "source": [
    "price = [x.split(\"-\")[0].strip() for x in df['price'].tolist()]"
   ]
  },
  {
   "cell_type": "code",
   "execution_count": 37,
   "metadata": {},
   "outputs": [
    {
     "data": {
      "text/plain": [
       "['102.00',\n",
       " '185.00',\n",
       " '800.00',\n",
       " '665.00',\n",
       " '740.00',\n",
       " '168.00',\n",
       " '248.00',\n",
       " '128.00',\n",
       " '365.00',\n",
       " '1320.00',\n",
       " '65.00',\n",
       " '7.17',\n",
       " '319.00',\n",
       " '235.00',\n",
       " '2120.00',\n",
       " '1170.00',\n",
       " '480.00',\n",
       " '1088.00',\n",
       " '329.00',\n",
       " '1500.00']"
      ]
     },
     "execution_count": 37,
     "metadata": {},
     "output_type": "execute_result"
    }
   ],
   "source": [
    "price[:20]"
   ]
  },
  {
   "cell_type": "code",
   "execution_count": 42,
   "metadata": {},
   "outputs": [
    {
     "name": "stdout",
     "output_type": "stream",
     "text": [
      "<class 'pandas.core.frame.DataFrame'>\n",
      "Int64Index: 69 entries, 1 to 1357\n",
      "Data columns (total 4 columns):\n",
      "brand    69 non-null object\n",
      "name     69 non-null object\n",
      "price    69 non-null float64\n",
      "sold     69 non-null int64\n",
      "dtypes: float64(1), int64(1), object(2)\n",
      "memory usage: 5.2+ KB\n"
     ]
    }
   ],
   "source": [
    "df['price'] = price\n",
    "df['price'] = pd.to_numeric(df['price'])\n",
    "df['sold'] = df['sold'].astype(\"int\")\n",
    "df.info()"
   ]
  },
  {
   "cell_type": "code",
   "execution_count": 41,
   "metadata": {},
   "outputs": [
    {
     "data": {
      "text/plain": [
       "(69, 4)"
      ]
     },
     "execution_count": 41,
     "metadata": {},
     "output_type": "execute_result"
    }
   ],
   "source": [
    "df.shape"
   ]
  },
  {
   "cell_type": "code",
   "execution_count": 43,
   "metadata": {},
   "outputs": [
    {
     "data": {
      "text/html": [
       "<div>\n",
       "<style>\n",
       "    .dataframe thead tr:only-child th {\n",
       "        text-align: right;\n",
       "    }\n",
       "\n",
       "    .dataframe thead th {\n",
       "        text-align: left;\n",
       "    }\n",
       "\n",
       "    .dataframe tbody tr th {\n",
       "        vertical-align: top;\n",
       "    }\n",
       "</style>\n",
       "<table border=\"1\" class=\"dataframe\">\n",
       "  <thead>\n",
       "    <tr style=\"text-align: right;\">\n",
       "      <th></th>\n",
       "      <th>brand</th>\n",
       "      <th>name</th>\n",
       "      <th>price</th>\n",
       "      <th>sold</th>\n",
       "      <th>sales</th>\n",
       "    </tr>\n",
       "  </thead>\n",
       "  <tbody>\n",
       "    <tr>\n",
       "      <th>1</th>\n",
       "      <td>Amazon</td>\n",
       "      <td>GeekBite Amazon Kindle 8th Gen + 8000 Ebooks+ ...</td>\n",
       "      <td>102.0</td>\n",
       "      <td>27</td>\n",
       "      <td>2754.0</td>\n",
       "    </tr>\n",
       "    <tr>\n",
       "      <th>3</th>\n",
       "      <td>Xiaomi</td>\n",
       "      <td>Xiaomi Redmi Note 4 3+64GB</td>\n",
       "      <td>185.0</td>\n",
       "      <td>4</td>\n",
       "      <td>740.0</td>\n",
       "    </tr>\n",
       "    <tr>\n",
       "      <th>5</th>\n",
       "      <td>Huawei</td>\n",
       "      <td>Huawei Mate 10 Pro *2 Years SG Warranty</td>\n",
       "      <td>800.0</td>\n",
       "      <td>1</td>\n",
       "      <td>800.0</td>\n",
       "    </tr>\n",
       "    <tr>\n",
       "      <th>9</th>\n",
       "      <td>Nokia</td>\n",
       "      <td>Nokia 8 64GB/4GB - 1 Year SG Warranty</td>\n",
       "      <td>665.0</td>\n",
       "      <td>3</td>\n",
       "      <td>1995.0</td>\n",
       "    </tr>\n",
       "    <tr>\n",
       "      <th>18</th>\n",
       "      <td>Huawei</td>\n",
       "      <td>Huawei Mate 10 64GB | 2 Years SG Warranty</td>\n",
       "      <td>740.0</td>\n",
       "      <td>1</td>\n",
       "      <td>740.0</td>\n",
       "    </tr>\n",
       "  </tbody>\n",
       "</table>\n",
       "</div>"
      ],
      "text/plain": [
       "     brand                                               name  price  sold  \\\n",
       "1   Amazon  GeekBite Amazon Kindle 8th Gen + 8000 Ebooks+ ...  102.0    27   \n",
       "3   Xiaomi                         Xiaomi Redmi Note 4 3+64GB  185.0     4   \n",
       "5   Huawei            Huawei Mate 10 Pro *2 Years SG Warranty  800.0     1   \n",
       "9    Nokia              Nokia 8 64GB/4GB - 1 Year SG Warranty  665.0     3   \n",
       "18  Huawei          Huawei Mate 10 64GB | 2 Years SG Warranty  740.0     1   \n",
       "\n",
       "     sales  \n",
       "1   2754.0  \n",
       "3    740.0  \n",
       "5    800.0  \n",
       "9   1995.0  \n",
       "18   740.0  "
      ]
     },
     "execution_count": 43,
     "metadata": {},
     "output_type": "execute_result"
    }
   ],
   "source": [
    "df['sales'] = df['price'] * df['sold']\n",
    "df.head()"
   ]
  },
  {
   "cell_type": "code",
   "execution_count": 54,
   "metadata": {},
   "outputs": [
    {
     "data": {
      "text/plain": [
       "brand\n",
       "Apple       102485.17\n",
       "Samsung      76418.00\n",
       "Huawei       19562.00\n",
       "No Brand     16898.49\n",
       "Xiaomi        7669.00\n",
       "OEM           4713.00\n",
       "Google        4680.00\n",
       "Amazon        2754.00\n",
       "Nokia         1995.00\n",
       "Lenovo         974.00\n",
       "Acer           744.00\n",
       "sghitech       256.00\n",
       "iNo             65.00\n",
       "Name: sales, dtype: float64"
      ]
     },
     "execution_count": 54,
     "metadata": {},
     "output_type": "execute_result"
    }
   ],
   "source": [
    "pp = df.groupby('brand')['sales'].sum().sort_values(ascending = False)\n",
    "pp"
   ]
  },
  {
   "cell_type": "code",
   "execution_count": 57,
   "metadata": {},
   "outputs": [
    {
     "data": {
      "text/plain": [
       "['Apple', 'Samsung', 'Huawei', 'No Brand', 'Xiaomi', 'OEM', 'Google']"
      ]
     },
     "execution_count": 57,
     "metadata": {},
     "output_type": "execute_result"
    }
   ],
   "source": [
    "pp.index.tolist()[:5]"
   ]
  },
  {
   "cell_type": "code",
   "execution_count": 59,
   "metadata": {},
   "outputs": [
    {
     "data": {
      "text/plain": [
       "[102485.17, 76418.0, 19562.0, 16898.489999999998, 7669.0, 4713.0, 4680.0]"
      ]
     },
     "execution_count": 59,
     "metadata": {},
     "output_type": "execute_result"
    }
   ],
   "source": [
    "pp.values.tolist()[:5]"
   ]
  },
  {
   "cell_type": "code",
   "execution_count": 66,
   "metadata": {},
   "outputs": [],
   "source": [
    "others = sum(pp.values.tolist()[5:])"
   ]
  },
  {
   "cell_type": "code",
   "execution_count": 67,
   "metadata": {},
   "outputs": [
    {
     "data": {
      "image/png": "[encoded data removed]",
      "text/plain": [
       "<Figure size 432x288 with 1 Axes>"
      ]
     },
     "metadata": {},
     "output_type": "display_data"
    }
   ],
   "source": [
    "import matplotlib.pyplot as plt\n",
    "\n",
    "labels = pp.index.tolist()[:5] + ['others']\n",
    "# sizes = [215, 130, 245, 210]\n",
    "sizes = pp.values.tolist()[:5] + [others]\n",
    "# colors = ['gold', 'yellowgreen', 'lightcoral', 'lightskyblue']\n",
    "explode = (0.1, 0, 0, 0, 0, 0)  # explode 1st slice\n",
    " \n",
    "fig1, ax1 = plt.subplots()\n",
    "ax1.pie(sizes, explode=explode, labels=labels, autopct='%1.1f%%',\n",
    "        shadow=True, startangle=90)\n",
    "# Equal aspect ratio ensures that pie is drawn as a circle\n",
    "ax1.axis('equal')  \n",
    "plt.tight_layout()\n",
    "plt.show()    "
   ]
  },
  {
   "cell_type": "code",
   "execution_count": null,
   "metadata": {},
   "outputs": [],
   "source": []
  }
 ],
 "metadata": {
  "kernelspec": {
   "display_name": "Python 3",
   "language": "python",
   "name": "python3"
  },
  "language_info": {
   "codemirror_mode": {
    "name": "ipython",
    "version": 3
   },
   "file_extension": ".py",
   "mimetype": "text/x-python",
   "name": "python",
   "nbconvert_exporter": "python",
   "pygments_lexer": "ipython3",
   "version": "3.6.2"
  }
 },
 "nbformat": 4,
 "nbformat_minor": 2
}
