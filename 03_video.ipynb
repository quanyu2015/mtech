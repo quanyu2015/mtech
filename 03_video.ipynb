{
 "cells": [
  {
   "cell_type": "markdown",
   "metadata": {},
   "source": [
    "## RGB Video data"
   ]
  },
  {
   "cell_type": "code",
   "execution_count": 58,
   "metadata": {},
   "outputs": [
    {
     "name": "stdout",
     "output_type": "stream",
     "text": [
      "(39, 480, 640, 3)\n",
      "(480, 640, 3)\n"
     ]
    }
   ],
   "source": [
    "from skvideo.io import vread\n",
    "\n",
    "videodata = vread(\"/Users/qy/Desktop/sense_making/data/RGB/a1_s3_t2_color.avi\")\n",
    "print(videodata.shape)\n",
    "print(videodata[0,...].shape)"
   ]
  },
  {
   "cell_type": "code",
   "execution_count": 2,
   "metadata": {},
   "outputs": [
    {
     "name": "stdout",
     "output_type": "stream",
     "text": [
      "(60, 480, 640, 3)\n"
     ]
    }
   ],
   "source": [
    "videodata = vread(\"/Users/qy/Desktop/sense_making/data/RGB/a1_s8_t1_color.avi\")\n",
    "print(videodata.shape)"
   ]
  },
  {
   "cell_type": "code",
   "execution_count": 15,
   "metadata": {},
   "outputs": [
    {
     "name": "stdout",
     "output_type": "stream",
     "text": [
      "7\n"
     ]
    }
   ],
   "source": [
    "n = 80\n",
    "step = int((n - 1) / 10)\n",
    "print(step)"
   ]
  },
  {
   "cell_type": "markdown",
   "metadata": {},
   "source": [
    "## Synchronized Depth and Skeleton data\n",
    "They have the same number of frames"
   ]
  },
  {
   "cell_type": "code",
   "execution_count": 1,
   "metadata": {},
   "outputs": [
    {
     "data": {
      "text/plain": [
       "(240, 320, 76)"
      ]
     },
     "execution_count": 1,
     "metadata": {},
     "output_type": "execute_result"
    }
   ],
   "source": [
    "from scipy.io import loadmat\n",
    "\n",
    "filename = 'Depth/a1_s8_t1_depth.mat'\n",
    "mat = loadmat(filename)\n",
    "mat['d_depth'].shape"
   ]
  },
  {
   "cell_type": "code",
   "execution_count": 2,
   "metadata": {},
   "outputs": [
    {
     "data": {
      "text/plain": [
       "(20, 3, 76)"
      ]
     },
     "execution_count": 2,
     "metadata": {},
     "output_type": "execute_result"
    }
   ],
   "source": [
    "filename = 'Skeleton/a1_s8_t1_skeleton.mat'\n",
    "mat = loadmat(filename)\n",
    "mat['d_skel'].shape"
   ]
  },
  {
   "cell_type": "code",
   "execution_count": 3,
   "metadata": {},
   "outputs": [
    {
     "name": "stdout",
     "output_type": "stream",
     "text": [
      "(240, 320, 52)\n",
      "(20, 3, 52)\n"
     ]
    }
   ],
   "source": [
    "filename = 'Depth/a1_s3_t2_depth.mat'\n",
    "mat = loadmat(filename)\n",
    "print(mat['d_depth'].shape)\n",
    "\n",
    "filename = 'Skeleton/a1_s3_t2_skeleton.mat'\n",
    "mat = loadmat(filename)\n",
    "print(mat['d_skel'].shape)"
   ]
  },
  {
   "cell_type": "code",
   "execution_count": 9,
   "metadata": {},
   "outputs": [
    {
     "name": "stdout",
     "output_type": "stream",
     "text": [
      "(240, 240, 64)\n",
      "3201\n",
      "0\n"
     ]
    }
   ],
   "source": [
    "filename = 'Depth/a4_s5_t4_depth.mat'\n",
    "mat = loadmat(filename)\n",
    "print(mat['d_depth'][:,40:280,:].shape)\n",
    "print(mat['d_depth'].max())\n",
    "print(mat['d_depth'].min())"
   ]
  },
  {
   "cell_type": "markdown",
   "metadata": {},
   "source": [
    "### Model\n",
    "reference: http://media-lab.ccny.cuny.edu/wordpress/Publications/IVCJ-2016.pdf\n",
    "### Resize depth data to 240 x 240 x 125"
   ]
  },
  {
   "cell_type": "code",
   "execution_count": 20,
   "metadata": {},
   "outputs": [
    {
     "name": "stdout",
     "output_type": "stream",
     "text": [
      "(240, 240, 64)\n",
      "(240, 240, 64)\n"
     ]
    }
   ],
   "source": [
    "# resize a single file\n",
    "\n",
    "filename = '/Users/qy/Desktop/sense_making/data/' + f'Depth/a{action}_s{subject}_t{trial}_depth.mat'\n",
    "data = loadmat(filename)['d_depth'][:,40:280,:]\n",
    "data = np.floor((data-data.min()) / (data.max()-data.min()) * 255)\n",
    "print(data.shape)\n",
    "print(data[:,:,0:64].shape)"
   ]
  },
  {
   "cell_type": "code",
   "execution_count": 21,
   "metadata": {},
   "outputs": [
    {
     "name": "stdout",
     "output_type": "stream",
     "text": [
      "X_train.shape: (48, 240, 240, 125)\n",
      "Y_train.shape: (48,)\n",
      "X_test.shape: (16, 240, 240, 125)\n",
      "Y_test.shape: (16,)\n"
     ]
    }
   ],
   "source": [
    "# Subjects 1, 2, 3, 5, 6, 7 go into training data (75%)\n",
    "# Subjects 4, 8 go into test data (25%)\n",
    "\n",
    "import numpy as np\n",
    "from keras.preprocessing import sequence\n",
    "from cv2 import resize\n",
    "\n",
    "X_train = []\n",
    "Y_train = []\n",
    "X_test = []\n",
    "Y_test = []\n",
    "\n",
    "# for action in range(1, 28):\n",
    "for action in range(1, 3):    \n",
    "    # print(action)\n",
    "    for subject in range(1, 9):\n",
    "        for trial in range(1, 5):\n",
    "            # data = import_inertial_data(action, subject, trial)\n",
    "            filename = '/Users/qy/Desktop/sense_making/data/' + f'Depth/a{action}_s{subject}_t{trial}_depth.mat'\n",
    "            try:\n",
    "                data = loadmat(filename)['d_depth'][:,40:280,:]\n",
    "                data = np.floor((data-data.min()) / (data.max()-data.min()) * 255)\n",
    "                # resize                \n",
    "                data_stack = np.zeros((240, 240, 125))\n",
    "                n1 = data_stack.shape[2] - data.shape[2]\n",
    "                data_stack[:,:,n1:125] = data \n",
    "                \n",
    "            except:\n",
    "                continue\n",
    "            \n",
    "            # if data is None: continue\n",
    "            # data = np.swapaxes(data, 0, 1)\n",
    "            # data = sequence.pad_sequences(data, maxlen=125)\n",
    "            if subject in [1, 2 ,3, 5, 6, 7] :\n",
    "                X_train.append(data_stack)\n",
    "                Y_train.append(action-1)\n",
    "            else:\n",
    "                X_test.append(data_stack)\n",
    "                Y_test.append(action-1)\n",
    "                \n",
    "X_train = np.array(X_train)\n",
    "Y_train = np.array(Y_train)\n",
    "X_test = np.array(X_test)\n",
    "Y_test = np.array(Y_test)\n",
    "\n",
    "print('X_train.shape:', X_train.shape)\n",
    "print('Y_train.shape:', Y_train.shape)\n",
    "print('X_test.shape:', X_test.shape)\n",
    "print('Y_test.shape:', Y_test.shape)"
   ]
  },
  {
   "cell_type": "markdown",
   "metadata": {},
   "source": [
    "# Optical flow from OpenCV"
   ]
  },
  {
   "cell_type": "markdown",
   "metadata": {},
   "source": [
    "References:    \n",
    "Implementing Lucas-Kanade Optical Flow algorithm in Python    \n",
    "https://sandipanweb.wordpress.com/2018/02/25/implementing-lucas-kanade-optical-flow-algorithm-in-python/\n",
    "\n",
    "https://docs.opencv.org/3.3.1/d7/d8b/tutorial_py_lucas_kanade.html\n",
    "    "
   ]
  },
  {
   "cell_type": "markdown",
   "metadata": {},
   "source": [
    "https://github.com/jagracar/OpenCV-python-tests/blob/master/OpenCV-tutorials/videoAnalysis/denseOpticalFlow.py"
   ]
  },
  {
   "cell_type": "markdown",
   "metadata": {},
   "source": [
    "## RGB video data"
   ]
  },
  {
   "cell_type": "code",
   "execution_count": 34,
   "metadata": {},
   "outputs": [
    {
     "name": "stdout",
     "output_type": "stream",
     "text": [
      "(480, 640)\n",
      "(480, 640, 2)\n",
      "(480, 640, 3)\n",
      "(480, 640)\n",
      "(480, 640, 2)\n",
      "(480, 640, 3)\n",
      "(480, 640)\n",
      "(480, 640, 2)\n",
      "(480, 640, 3)\n",
      "(480, 640)\n",
      "(480, 640, 2)\n",
      "(480, 640, 3)\n",
      "(480, 640)\n",
      "(480, 640, 2)\n",
      "(480, 640, 3)\n",
      "(5, 480, 640, 3)\n"
     ]
    }
   ],
   "source": [
    "import numpy as np\n",
    "import cv2\n",
    "\n",
    "# Start the webcam\n",
    "# cap = cv2.VideoCapture(0)\n",
    "cap = cv2.VideoCapture(\"/Users/qy/Desktop/sense_making/data/RGB/a1_s3_t2_color.avi\")\n",
    "\n",
    "# Take the first frame and convert it to gray\n",
    "ret, frame = cap.read()\n",
    "gray = cv2.cvtColor(frame, cv2.COLOR_BGR2GRAY)\n",
    "\n",
    "# Create the HSV color image\n",
    "hsvImg = np.zeros_like(frame)\n",
    "hsvImg[..., 1] = 255\n",
    "\n",
    "optflow = []\n",
    "\n",
    "# Play until the user decides to stop\n",
    "\n",
    "for i in range(5):\n",
    "# Save the previous frame data\n",
    "    previousGray = gray\n",
    "     \n",
    "    # Get the next frame\n",
    "    ret , frame = cap.read()\n",
    "    # print(ret)\n",
    "    if ret:\n",
    "        # Convert the frame to gray scale\n",
    "        gray = cv2.cvtColor(frame, cv2.COLOR_BGR2GRAY)\n",
    "        print(gray.shape)\n",
    "        \n",
    "        # Calculate the dense optical flow\n",
    "        flow = cv2.calcOpticalFlowFarneback(previousGray, gray, None, 0.5, 3, 15, 3, 5, 1.2, 0)\n",
    "        print(flow.shape)\n",
    "        \n",
    "        # Obtain the flow magnitude and direction angle\n",
    "        mag, ang = cv2.cartToPolar(flow[..., 0], flow[..., 1])\n",
    "        \n",
    "        # Update the color image\n",
    "        hsvImg[..., 0] = 0.5 * ang * 180 / np.pi\n",
    "        hsvImg[..., 2] = cv2.normalize(mag, None, 0, 255, cv2.NORM_MINMAX)\n",
    "        rgbImg = cv2.cvtColor(hsvImg, cv2.COLOR_HSV2BGR)\n",
    "        print(rgbImg.shape)\n",
    "        optflow.append(rgbImg)\n",
    "        # print(optflow)\n",
    "        \n",
    "        # Display the resulting frame\n",
    "        # cv2.imshow('dense optical flow', np.hstack((frame, rgbImg)))\n",
    "        # k = cv2.waitKey(30) & 0xff\n",
    "        \n",
    "        # Exit if the user press ESC\n",
    "        # if k == 27:\n",
    "        #    break\n",
    "    else:\n",
    "        break\n",
    "\n",
    "optflow = np.array(optflow)\n",
    "print(optflow.shape)\n",
    "\n",
    "# When everything is done, release the capture and close all windows\n",
    "cap.release()\n",
    "# cv2.destroyAllWindows()"
   ]
  },
  {
   "cell_type": "markdown",
   "metadata": {},
   "source": [
    "## Depth data"
   ]
  },
  {
   "cell_type": "code",
   "execution_count": 29,
   "metadata": {},
   "outputs": [
    {
     "name": "stdout",
     "output_type": "stream",
     "text": [
      "76 7\n",
      "1\n",
      "2\n",
      "3\n",
      "4\n",
      "5\n",
      "6\n",
      "7\n",
      "8\n",
      "9\n",
      "10\n",
      "(20, 64, 64)\n"
     ]
    }
   ],
   "source": [
    "filename = 'Depth/a1_s8_t1_depth.mat'\n",
    "mat = loadmat(filename)\n",
    "nf = mat['d_depth'].shape[2]\n",
    "step = int((nf - 1) / 10)\n",
    "print(nf, step)\n",
    "\n",
    "gray = mat['d_depth'][:,40:280,0]\n",
    "gray = cv2.resize(gray, (64, 64))\n",
    "\n",
    "optflow = []\n",
    "\n",
    "for i in range(1, 11):\n",
    "# Save the previous frame data\n",
    "    print(i)\n",
    "    previousGray = gray\n",
    "     \n",
    "    # Get the next frame\n",
    "    data = mat['d_depth'][:,40:280,i * step]\n",
    "    data = cv2.resize(data, (64, 64))\n",
    "\n",
    "    # Convert the frame to gray scale\n",
    "    gray = np.floor((data-data.min()) / (data.max()-data.min()) * 255)\n",
    "\n",
    "    # Calculate the dense optical flow\n",
    "    flow = cv2.calcOpticalFlowFarneback(previousGray, gray, None, 0.5, 3, 15, 3, 5, 1.2, 0)\n",
    "\n",
    "    # Obtain the flow magnitude and direction angle\n",
    "    mag, ang = cv2.cartToPolar(flow[..., 0], flow[..., 1])\n",
    "\n",
    "    # Update the color image\n",
    "    Img1 = 0.5 * ang * 180 / np.pi\n",
    "    Img2 = cv2.normalize(mag, None, 0, 255, cv2.NORM_MINMAX)\n",
    "    # rgbImg = cv2.cvtColor(hsvImg, cv2.COLOR_HSV2BGR)\n",
    "    # print(rgbImg.shape)\n",
    "    optflow.append(Img1)\n",
    "    optflow.append(Img2)\n",
    "\n",
    "optflow = np.array(optflow)\n",
    "print(optflow.shape)"
   ]
  },
  {
   "cell_type": "code",
   "execution_count": 28,
   "metadata": {},
   "outputs": [
    {
     "data": {
      "text/plain": [
       "(64, 64, 20)"
      ]
     },
     "execution_count": 28,
     "metadata": {},
     "output_type": "execute_result"
    }
   ],
   "source": [
    "np.swapaxes(np.swapaxes(optflow,0,1),1,2).shape"
   ]
  },
  {
   "cell_type": "markdown",
   "metadata": {},
   "source": [
    "## Function for Optical Flow Depth"
   ]
  },
  {
   "cell_type": "code",
   "execution_count": 39,
   "metadata": {},
   "outputs": [],
   "source": [
    "def optflow_depth(mat):\n",
    "\n",
    "    # mat = loadmat(filename)\n",
    "    nf = mat['d_depth'].shape[2]\n",
    "    step = int((nf - 1) / 10)\n",
    "    # print(nf, step)\n",
    "\n",
    "    gray = mat['d_depth'][:,40:280,0]\n",
    "    gray = cv2.resize(gray, (64, 64))\n",
    "    gray = np.floor((gray-gray.min()) / (gray.max()-gray.min()) * 255)\n",
    "\n",
    "    optflow = []\n",
    "\n",
    "    for i in range(1, 11):\n",
    "    # Save the previous frame data\n",
    "        previousGray = gray\n",
    "\n",
    "        # Get the next frame\n",
    "        data = mat['d_depth'][:,40:280,i * step]\n",
    "        data = cv2.resize(data, (64, 64))\n",
    "\n",
    "        # Convert the frame to gray scale\n",
    "        gray = np.floor((data-data.min()) / (data.max()-data.min()) * 255)\n",
    "\n",
    "        # Calculate the dense optical flow\n",
    "        flow = cv2.calcOpticalFlowFarneback(previousGray, gray, None, 0.5, 3, 15, 3, 5, 1.2, 0)\n",
    "\n",
    "        # Obtain the flow magnitude and direction angle\n",
    "        mag, ang = cv2.cartToPolar(flow[..., 0], flow[..., 1])\n",
    "\n",
    "        # Update the color image\n",
    "        Img1 = 0.5 * ang * 180 / np.pi\n",
    "        Img2 = cv2.normalize(mag, None, 0, 255, cv2.NORM_MINMAX)\n",
    "\n",
    "        optflow.append(Img1)\n",
    "        optflow.append(Img2)\n",
    "\n",
    "    optflow = np.array(optflow)\n",
    "    out = np.swapaxes(np.swapaxes(optflow,0,1),1,2)\n",
    "    return out"
   ]
  },
  {
   "cell_type": "markdown",
   "metadata": {},
   "source": [
    "## Function for Optical Flow RGB Video"
   ]
  },
  {
   "cell_type": "code",
   "execution_count": 64,
   "metadata": {},
   "outputs": [],
   "source": [
    "from skvideo.io import vread\n",
    "\n",
    "# videodata = vread(\"/Users/qy/Desktop/sense_making/data/RGB/a1_s3_t2_color.avi\")\n",
    "# print(videodata.shape)\n",
    "\n",
    "def optflow_rgb(file):\n",
    "\n",
    "    mat = vread(file)\n",
    "    nf = mat.shape[0]\n",
    "    step = int((nf - 1) / 10)\n",
    "    # print(nf, step)\n",
    "\n",
    "    frame = mat[0,:,80:560,:]\n",
    "    gray = cv2.cvtColor(frame, cv2.COLOR_BGR2GRAY)\n",
    "    gray = cv2.resize(gray, (64, 64))\n",
    "    # gray = np.floor((gray-gray.min()) / (gray.max()-gray.min()) * 255)\n",
    "\n",
    "    optflow = []\n",
    "\n",
    "    for i in range(1, 11):\n",
    "    # Save the previous frame data\n",
    "        previousGray = gray\n",
    "\n",
    "        # Get the next frame\n",
    "        frame = mat[i * step,:,80:560,:]\n",
    "        # Convert the frame to gray scale\n",
    "        data = cv2.cvtColor(frame, cv2.COLOR_BGR2GRAY)\n",
    "        gray = cv2.resize(data, (64, 64))\n",
    "\n",
    "        # gray = np.floor((data-data.min()) / (data.max()-data.min()) * 255)\n",
    "\n",
    "        # Calculate the dense optical flow\n",
    "        flow = cv2.calcOpticalFlowFarneback(previousGray, gray, None, 0.5, 3, 15, 3, 5, 1.2, 0)\n",
    "\n",
    "        # Obtain the flow magnitude and direction angle\n",
    "        mag, ang = cv2.cartToPolar(flow[..., 0], flow[..., 1])\n",
    "\n",
    "        # Update the color image\n",
    "        Img1 = 0.5 * ang * 180 / np.pi\n",
    "        Img2 = cv2.normalize(mag, None, 0, 255, cv2.NORM_MINMAX)\n",
    "\n",
    "        optflow.append(Img1)\n",
    "        optflow.append(Img2)\n",
    "\n",
    "    optflow = np.array(optflow)\n",
    "    out = np.swapaxes(np.swapaxes(optflow,0,1),1,2)\n",
    "    return out"
   ]
  },
  {
   "cell_type": "code",
   "execution_count": 30,
   "metadata": {},
   "outputs": [
    {
     "data": {
      "text/plain": [
       "['a10_s1_t1_depth.mat',\n",
       " 'a10_s1_t2_depth.mat',\n",
       " 'a10_s1_t3_depth.mat',\n",
       " 'a10_s1_t4_depth.mat',\n",
       " 'a10_s2_t1_depth.mat']"
      ]
     },
     "execution_count": 30,
     "metadata": {},
     "output_type": "execute_result"
    }
   ],
   "source": [
    "import os\n",
    "flist = os.listdir(\"Depth/\")\n",
    "flist[:5]"
   ]
  },
  {
   "cell_type": "code",
   "execution_count": 59,
   "metadata": {},
   "outputs": [
    {
     "data": {
      "text/plain": [
       "['a10_s1_t1_color.avi',\n",
       " 'a10_s1_t2_color.avi',\n",
       " 'a10_s1_t3_color.avi',\n",
       " 'a10_s1_t4_color.avi',\n",
       " 'a10_s2_t1_color.avi']"
      ]
     },
     "execution_count": 59,
     "metadata": {},
     "output_type": "execute_result"
    }
   ],
   "source": [
    "flist = os.listdir(\"RGB/\")\n",
    "flist[:5]"
   ]
  },
  {
   "cell_type": "code",
   "execution_count": 34,
   "metadata": {},
   "outputs": [
    {
     "name": "stdout",
     "output_type": "stream",
     "text": [
      "67 6\n"
     ]
    },
    {
     "data": {
      "text/plain": [
       "(64, 64, 20)"
      ]
     },
     "execution_count": 34,
     "metadata": {},
     "output_type": "execute_result"
    }
   ],
   "source": [
    "file = 'Depth/' + 'a10_s2_t1_depth.mat'\n",
    "test = optflow_depth(file)\n",
    "test.shape"
   ]
  },
  {
   "cell_type": "code",
   "execution_count": 63,
   "metadata": {},
   "outputs": [
    {
     "data": {
      "text/plain": [
       "(64, 64, 20)"
      ]
     },
     "execution_count": 63,
     "metadata": {},
     "output_type": "execute_result"
    }
   ],
   "source": [
    "file = 'RGB/' + 'a10_s1_t1_color.avi'\n",
    "test = optflow_rgb(file)\n",
    "test.shape"
   ]
  },
  {
   "cell_type": "code",
   "execution_count": 35,
   "metadata": {},
   "outputs": [
    {
     "data": {
      "text/plain": [
       "861"
      ]
     },
     "execution_count": 35,
     "metadata": {},
     "output_type": "execute_result"
    }
   ],
   "source": [
    "len(flist)"
   ]
  },
  {
   "cell_type": "code",
   "execution_count": 40,
   "metadata": {},
   "outputs": [
    {
     "name": "stdout",
     "output_type": "stream",
     "text": [
      "1\n",
      "2\n",
      "3\n",
      "4\n",
      "5\n",
      "6\n",
      "7\n",
      "8\n",
      "9\n",
      "10\n",
      "11\n",
      "12\n",
      "13\n",
      "14\n",
      "15\n",
      "16\n",
      "17\n",
      "18\n",
      "19\n",
      "20\n",
      "21\n",
      "22\n",
      "23\n",
      "24\n",
      "25\n",
      "26\n",
      "27\n",
      "X_train.shape: (431, 64, 64, 20)\n",
      "Y_train.shape: (431,)\n",
      "X_val.shape: (215, 64, 64, 20)\n",
      "Y_val.shape: (215,)\n",
      "X_test.shape: (215, 64, 64, 20)\n",
      "Y_test.shape: (215,)\n"
     ]
    }
   ],
   "source": [
    "# Subjects 1, 2, 3, 5, go into training data (50%)\n",
    "# Subjects 6, 7 validation\n",
    "# Subjects 4, 8 go into test data (25%)\n",
    "\n",
    "import numpy as np\n",
    "from cv2 import resize\n",
    "\n",
    "X_train = []\n",
    "Y_train = []\n",
    "X_val = []\n",
    "Y_val = []\n",
    "X_test = []\n",
    "Y_test = []\n",
    "\n",
    "for action in range(1, 28):\n",
    "# for action in range(1, 3):    \n",
    "    print(action)\n",
    "    for subject in range(1, 9):\n",
    "        for trial in range(1, 5):\n",
    "            # data = import_inertial_data(action, subject, trial)\n",
    "            filename = '/Users/qy/Desktop/sense_making/data/' + f'Depth/a{action}_s{subject}_t{trial}_depth.mat'\n",
    "            try:\n",
    "                mat = loadmat(filename)\n",
    "                data = optflow_depth(mat)\n",
    "            except:\n",
    "                continue\n",
    "\n",
    "            \n",
    "            # if data is None: continue\n",
    "            # data = np.swapaxes(data, 0, 1)\n",
    "            # data = sequence.pad_sequences(data, maxlen=125)\n",
    "            if subject in [1, 2 ,3, 5] :\n",
    "                X_train.append(data)\n",
    "                Y_train.append(action-1)\n",
    "            elif subject in [6, 7]:\n",
    "                X_val.append(data)\n",
    "                Y_val.append(action-1)\n",
    "            else:\n",
    "                X_test.append(data)\n",
    "                Y_test.append(action-1)\n",
    "                \n",
    "                \n",
    "X_train = np.array(X_train)\n",
    "Y_train = np.array(Y_train)\n",
    "X_val = np.array(X_val)\n",
    "Y_val = np.array(Y_val)\n",
    "X_test = np.array(X_test)\n",
    "Y_test = np.array(Y_test)\n",
    "\n",
    "print('X_train.shape:', X_train.shape)\n",
    "print('Y_train.shape:', Y_train.shape)\n",
    "print('X_val.shape:', X_val.shape)\n",
    "print('Y_val.shape:', Y_val.shape)\n",
    "print('X_test.shape:', X_test.shape)\n",
    "print('Y_test.shape:', Y_test.shape)"
   ]
  },
  {
   "cell_type": "code",
   "execution_count": 46,
   "metadata": {},
   "outputs": [
    {
     "name": "stdout",
     "output_type": "stream",
     "text": [
      "Y_train.shape: (431, 27)\n",
      "Y_val.shape: (215, 27)\n",
      "Y_test.shape: (215, 27)\n"
     ]
    }
   ],
   "source": [
    "from keras.utils import to_categorical\n",
    "\n",
    "Y_train = to_categorical(Y_train)\n",
    "Y_test = to_categorical(Y_test)\n",
    "Y_val = to_categorical(Y_val)\n",
    "\n",
    "print('Y_train.shape:', Y_train.shape)\n",
    "print('Y_val.shape:', Y_val.shape)\n",
    "print('Y_test.shape:', Y_test.shape)"
   ]
  },
  {
   "cell_type": "markdown",
   "metadata": {},
   "source": [
    "## CNN model for Depth data\n",
    "Ref: https://www.researchgate.net/publication/326968465_Human_Action_Recognition_based_on_3D_Convolution_Neural_Networks_from_RGBD_Videos"
   ]
  },
  {
   "cell_type": "code",
   "execution_count": 51,
   "metadata": {},
   "outputs": [
    {
     "name": "stdout",
     "output_type": "stream",
     "text": [
      "_________________________________________________________________\n",
      "Layer (type)                 Output Shape              Param #   \n",
      "=================================================================\n",
      "NormalizeInput (BatchNormali (None, 64, 64, 20)        80        \n",
      "_________________________________________________________________\n",
      "conv2d_20 (Conv2D)           (None, 64, 64, 64)        11584     \n",
      "_________________________________________________________________\n",
      "max_pooling2d_20 (MaxPooling (None, 32, 32, 64)        0         \n",
      "_________________________________________________________________\n",
      "conv2d_21 (Conv2D)           (None, 32, 32, 128)       73856     \n",
      "_________________________________________________________________\n",
      "max_pooling2d_21 (MaxPooling (None, 16, 16, 128)       0         \n",
      "_________________________________________________________________\n",
      "conv2d_22 (Conv2D)           (None, 16, 16, 256)       295168    \n",
      "_________________________________________________________________\n",
      "max_pooling2d_22 (MaxPooling (None, 8, 8, 256)         0         \n",
      "_________________________________________________________________\n",
      "conv2d_23 (Conv2D)           (None, 8, 8, 256)         590080    \n",
      "_________________________________________________________________\n",
      "max_pooling2d_23 (MaxPooling (None, 4, 4, 256)         0         \n",
      "_________________________________________________________________\n",
      "flatten_6 (Flatten)          (None, 4096)              0         \n",
      "_________________________________________________________________\n",
      "dense_12 (Dense)             (None, 2048)              8390656   \n",
      "_________________________________________________________________\n",
      "dense_13 (Dense)             (None, 27)                55323     \n",
      "=================================================================\n",
      "Total params: 9,416,747\n",
      "Trainable params: 9,416,707\n",
      "Non-trainable params: 40\n",
      "_________________________________________________________________\n"
     ]
    }
   ],
   "source": [
    "from keras.models import Sequential\n",
    "from keras.layers import BatchNormalization, Conv2D, Dropout, Flatten, Dense\n",
    "from keras.layers.pooling import MaxPooling2D\n",
    "\n",
    "simple_cnn = Sequential()\n",
    "simple_cnn.add(BatchNormalization(input_shape = (64, 64, 20), \n",
    "                                  name = 'NormalizeInput'))\n",
    "\n",
    "simple_cnn.add(Conv2D(64, kernel_size = (3,3), activation='relu', padding='same'))\n",
    "simple_cnn.add(MaxPooling2D((2, 2) , strides = 2))\n",
    "\n",
    "simple_cnn.add(Conv2D(128, kernel_size = (3,3), activation='relu', padding='same'))\n",
    "simple_cnn.add(MaxPooling2D((2, 2) , strides = 2))\n",
    "\n",
    "simple_cnn.add(Conv2D(256, kernel_size = (3,3), activation='relu', padding='same'))\n",
    "simple_cnn.add(MaxPooling2D((2, 2) , strides = 2))\n",
    "\n",
    "simple_cnn.add(Conv2D(256, kernel_size = (3,3), activation='relu', padding='same'))\n",
    "simple_cnn.add(MaxPooling2D((2, 2) , strides = 2))\n",
    "\n",
    "simple_cnn.add(Flatten())\n",
    "simple_cnn.add(Dense(2048, activation='relu'))\n",
    "simple_cnn.add(Dense(27, activation='softmax'))\n",
    "\n",
    "simple_cnn.compile(optimizer = 'adam', loss = 'categorical_crossentropy', \n",
    "                   # metrics = [dice_coef, 'acc', 'mse']\n",
    "                   metrics = ['acc'])\n",
    "simple_cnn.summary()"
   ]
  },
  {
   "cell_type": "code",
   "execution_count": 52,
   "metadata": {},
   "outputs": [
    {
     "name": "stdout",
     "output_type": "stream",
     "text": [
      "Train on 431 samples, validate on 215 samples\n",
      "Epoch 1/20\n",
      " - 13s - loss: 3.9561 - acc: 0.0371 - val_loss: 3.3061 - val_acc: 0.0372\n",
      "Epoch 2/20\n",
      " - 10s - loss: 3.3000 - acc: 0.0441 - val_loss: 3.2286 - val_acc: 0.1767\n",
      "Epoch 3/20\n",
      " - 11s - loss: 3.1380 - acc: 0.1833 - val_loss: 2.7810 - val_acc: 0.1488\n",
      "Epoch 4/20\n",
      " - 10s - loss: 2.4614 - acc: 0.2691 - val_loss: 2.4701 - val_acc: 0.2651\n",
      "Epoch 5/20\n",
      " - 10s - loss: 2.1836 - acc: 0.4153 - val_loss: 2.0175 - val_acc: 0.3767\n",
      "Epoch 6/20\n",
      " - 11s - loss: 1.5487 - acc: 0.5197 - val_loss: 1.7405 - val_acc: 0.4000\n",
      "Epoch 7/20\n",
      " - 11s - loss: 1.0415 - acc: 0.6357 - val_loss: 1.9806 - val_acc: 0.4372\n",
      "Epoch 8/20\n",
      " - 11s - loss: 1.0614 - acc: 0.6404 - val_loss: 1.8172 - val_acc: 0.4791\n",
      "Epoch 9/20\n",
      " - 11s - loss: 0.8539 - acc: 0.6868 - val_loss: 1.3620 - val_acc: 0.5349\n",
      "Epoch 10/20\n",
      " - 11s - loss: 0.6974 - acc: 0.7564 - val_loss: 1.4158 - val_acc: 0.5628\n",
      "Epoch 11/20\n",
      " - 11s - loss: 0.5114 - acc: 0.8353 - val_loss: 1.5340 - val_acc: 0.4651\n",
      "Epoch 12/20\n",
      " - 12s - loss: 0.4359 - acc: 0.8376 - val_loss: 1.5913 - val_acc: 0.5535\n",
      "Epoch 13/20\n",
      " - 11s - loss: 0.3220 - acc: 0.8770 - val_loss: 1.5610 - val_acc: 0.6047\n",
      "Epoch 14/20\n",
      " - 11s - loss: 0.2739 - acc: 0.9002 - val_loss: 1.4743 - val_acc: 0.6279\n",
      "Epoch 15/20\n",
      " - 10s - loss: 0.2091 - acc: 0.9397 - val_loss: 1.5923 - val_acc: 0.6047\n",
      "Epoch 16/20\n",
      " - 10s - loss: 0.1530 - acc: 0.9513 - val_loss: 1.8284 - val_acc: 0.5860\n",
      "Epoch 17/20\n",
      " - 11s - loss: 0.1450 - acc: 0.9420 - val_loss: 1.9611 - val_acc: 0.5721\n",
      "Epoch 18/20\n",
      " - 10s - loss: 0.0720 - acc: 0.9814 - val_loss: 1.9217 - val_acc: 0.5907\n",
      "Epoch 19/20\n",
      " - 11s - loss: 0.0441 - acc: 0.9907 - val_loss: 2.0533 - val_acc: 0.5814\n",
      "Epoch 20/20\n",
      " - 11s - loss: 0.0337 - acc: 0.9954 - val_loss: 2.2742 - val_acc: 0.6047\n"
     ]
    }
   ],
   "source": [
    "history = simple_cnn.fit(X_train, Y_train, validation_data=(X_val, Y_val), \n",
    "                   epochs=20, batch_size=128, verbose=2)"
   ]
  },
  {
   "cell_type": "code",
   "execution_count": 57,
   "metadata": {},
   "outputs": [
    {
     "data": {
      "image/png": "[encoded data removed]",
      "text/plain": [
       "<Figure size 576x288 with 1 Axes>"
      ]
     },
     "metadata": {},
     "output_type": "display_data"
    }
   ],
   "source": [
    "import matplotlib.pyplot as plt\n",
    "\n",
    "epoch = list(range(1,21))\n",
    "plt.figure(figsize=(8,4))\n",
    "plt.plot(epoch, history.history['acc'], color='b')\n",
    "plt.plot(epoch, history.history['val_acc'], color='r')\n",
    "plt.title('Depth CNN - Activity Classification')\n",
    "plt.xlabel('Epoch')\n",
    "plt.ylabel('Accuracy')\n",
    "plt.legend(('Train', 'Validation'))\n",
    "plt.show()"
   ]
  },
  {
   "cell_type": "markdown",
   "metadata": {},
   "source": [
    "## Video data preparation and model"
   ]
  },
  {
   "cell_type": "code",
   "execution_count": 68,
   "metadata": {},
   "outputs": [
    {
     "name": "stdout",
     "output_type": "stream",
     "text": [
      "1\n",
      "2\n",
      "3\n",
      "4\n",
      "5\n",
      "6\n",
      "7\n",
      "8\n",
      "9\n",
      "10\n",
      "11\n",
      "12\n",
      "13\n",
      "14\n",
      "15\n",
      "16\n",
      "17\n",
      "18\n",
      "19\n",
      "20\n",
      "21\n",
      "22\n",
      "23\n",
      "24\n",
      "25\n",
      "26\n",
      "27\n",
      "X_train.shape: (431, 64, 64, 20)\n",
      "Y_train.shape: (431, 27)\n",
      "X_val.shape: (215, 64, 64, 20)\n",
      "Y_val.shape: (215, 27)\n",
      "X_test.shape: (215, 64, 64, 20)\n",
      "Y_test.shape: (215, 27)\n"
     ]
    }
   ],
   "source": [
    "# Subjects 1, 2, 3, 5, go into training data (50%)\n",
    "# Subjects 6, 7 validation\n",
    "# Subjects 4, 8 go into test data (25%)\n",
    "\n",
    "import numpy as np\n",
    "from cv2 import resize\n",
    "\n",
    "X_train = []\n",
    "Y_train = []\n",
    "X_val = []\n",
    "Y_val = []\n",
    "X_test = []\n",
    "Y_test = []\n",
    "\n",
    "for action in range(1, 28):\n",
    "# for action in range(1, 3):    \n",
    "    print(action)\n",
    "    for subject in range(1, 9):\n",
    "        for trial in range(1, 5):\n",
    "            # data = import_inertial_data(action, subject, trial)\n",
    "            # filename = '/Users/qy/Desktop/sense_making/data/' + f'Depth/a{action}_s{subject}_t{trial}_depth.mat'\n",
    "            filename = '/Users/qy/Desktop/sense_making/data/' + f'RGB/a{action}_s{subject}_t{trial}_color.avi'\n",
    "            try:\n",
    "                # mat = loadmat(filename)\n",
    "                data = optflow_rgb(filename)\n",
    "            except:\n",
    "                continue\n",
    "\n",
    "            \n",
    "            # if data is None: continue\n",
    "            # data = np.swapaxes(data, 0, 1)\n",
    "            # data = sequence.pad_sequences(data, maxlen=125)\n",
    "            if subject in [1, 2 ,3, 5] :\n",
    "                X_train.append(data)\n",
    "                Y_train.append(action-1)\n",
    "            elif subject in [6, 7]:\n",
    "                X_val.append(data)\n",
    "                Y_val.append(action-1)\n",
    "            else:\n",
    "                X_test.append(data)\n",
    "                Y_test.append(action-1)\n",
    "                \n",
    "                \n",
    "X_train = np.array(X_train)\n",
    "Y_train = np.array(Y_train)\n",
    "X_val = np.array(X_val)\n",
    "Y_val = np.array(Y_val)\n",
    "X_test = np.array(X_test)\n",
    "Y_test = np.array(Y_test)\n",
    "\n",
    "Y_train = to_categorical(Y_train)\n",
    "Y_test = to_categorical(Y_test)\n",
    "Y_val = to_categorical(Y_val)\n",
    "\n",
    "print('X_train.shape:', X_train.shape)\n",
    "print('Y_train.shape:', Y_train.shape)\n",
    "print('X_val.shape:', X_val.shape)\n",
    "print('Y_val.shape:', Y_val.shape)\n",
    "print('X_test.shape:', X_test.shape)\n",
    "print('Y_test.shape:', Y_test.shape)"
   ]
  },
  {
   "cell_type": "code",
   "execution_count": 70,
   "metadata": {},
   "outputs": [
    {
     "name": "stdout",
     "output_type": "stream",
     "text": [
      "Train on 431 samples, validate on 215 samples\n",
      "Epoch 1/20\n",
      " - 12s - loss: 3.7213 - acc: 0.3968 - val_loss: 2.9730 - val_acc: 0.3209\n",
      "Epoch 2/20\n",
      " - 10s - loss: 1.7203 - acc: 0.5128 - val_loss: 2.0187 - val_acc: 0.4326\n",
      "Epoch 3/20\n",
      " - 10s - loss: 1.3082 - acc: 0.6566 - val_loss: 1.6750 - val_acc: 0.4558\n",
      "Epoch 4/20\n",
      " - 11s - loss: 0.7672 - acc: 0.7657 - val_loss: 1.9595 - val_acc: 0.4512\n",
      "Epoch 5/20\n",
      " - 10s - loss: 0.6096 - acc: 0.7935 - val_loss: 2.0560 - val_acc: 0.4698\n",
      "Epoch 6/20\n",
      " - 12s - loss: 0.5154 - acc: 0.8306 - val_loss: 1.9425 - val_acc: 0.5535\n",
      "Epoch 7/20\n",
      " - 13s - loss: 0.3143 - acc: 0.8863 - val_loss: 1.6844 - val_acc: 0.5395\n",
      "Epoch 8/20\n",
      " - 12s - loss: 0.2145 - acc: 0.9281 - val_loss: 1.8605 - val_acc: 0.5256\n",
      "Epoch 9/20\n",
      " - 11s - loss: 0.1350 - acc: 0.9768 - val_loss: 1.8739 - val_acc: 0.5488\n",
      "Epoch 10/20\n",
      " - 12s - loss: 0.0686 - acc: 0.9907 - val_loss: 1.9859 - val_acc: 0.5488\n",
      "Epoch 11/20\n",
      " - 12s - loss: 0.0364 - acc: 0.9977 - val_loss: 2.2136 - val_acc: 0.5395\n",
      "Epoch 12/20\n",
      " - 11s - loss: 0.0206 - acc: 0.9977 - val_loss: 2.2958 - val_acc: 0.5581\n",
      "Epoch 13/20\n",
      " - 11s - loss: 0.0207 - acc: 0.9954 - val_loss: 2.5176 - val_acc: 0.5581\n",
      "Epoch 14/20\n",
      " - 12s - loss: 0.0100 - acc: 0.9977 - val_loss: 2.5791 - val_acc: 0.5860\n",
      "Epoch 15/20\n",
      " - 12s - loss: 0.0054 - acc: 1.0000 - val_loss: 2.5808 - val_acc: 0.6000\n",
      "Epoch 16/20\n",
      " - 11s - loss: 0.0035 - acc: 1.0000 - val_loss: 2.5740 - val_acc: 0.5953\n",
      "Epoch 17/20\n",
      " - 11s - loss: 0.0020 - acc: 1.0000 - val_loss: 2.6597 - val_acc: 0.6000\n",
      "Epoch 18/20\n",
      " - 11s - loss: 5.7632e-04 - acc: 1.0000 - val_loss: 2.6926 - val_acc: 0.6000\n",
      "Epoch 19/20\n",
      " - 11s - loss: 5.2637e-04 - acc: 1.0000 - val_loss: 2.7076 - val_acc: 0.6000\n",
      "Epoch 20/20\n",
      " - 10s - loss: 4.0831e-04 - acc: 1.0000 - val_loss: 2.7211 - val_acc: 0.6000\n"
     ]
    }
   ],
   "source": [
    "# video cnn model, same as depth model\n",
    "history = simple_cnn.fit(X_train, Y_train, validation_data=(X_val, Y_val), \n",
    "                   epochs=20, batch_size=128, verbose=2)"
   ]
  },
  {
   "cell_type": "markdown",
   "metadata": {},
   "source": [
    "# Save and load the datasets"
   ]
  },
  {
   "cell_type": "code",
   "execution_count": 65,
   "metadata": {},
   "outputs": [],
   "source": [
    "# depth optical flow data\n",
    "np.savez_compressed('depth_of', X_train, Y_train, X_val, Y_val, X_test, Y_test)"
   ]
  },
  {
   "cell_type": "code",
   "execution_count": 67,
   "metadata": {},
   "outputs": [
    {
     "name": "stdout",
     "output_type": "stream",
     "text": [
      "['arr_0', 'arr_1', 'arr_2', 'arr_3', 'arr_4', 'arr_5']\n",
      "(431, 64, 64, 20)\n"
     ]
    }
   ],
   "source": [
    "loaded = np.load('depth_of.npz')\n",
    "print(loaded.files)\n",
    "print(loaded['arr_0'].shape)"
   ]
  },
  {
   "cell_type": "code",
   "execution_count": 69,
   "metadata": {},
   "outputs": [],
   "source": [
    "# video optical flow data\n",
    "np.savez_compressed('video_of', X_train, Y_train, X_val, Y_val, X_test, Y_test)"
   ]
  }
 ],
 "metadata": {
  "kernelspec": {
   "display_name": "Python 3",
   "language": "python",
   "name": "python3"
  },
  "language_info": {
   "codemirror_mode": {
    "name": "ipython",
    "version": 3
   },
   "file_extension": ".py",
   "mimetype": "text/x-python",
   "name": "python",
   "nbconvert_exporter": "python",
   "pygments_lexer": "ipython3",
   "version": "3.6.2"
  }
 },
 "nbformat": 4,
 "nbformat_minor": 2
}
