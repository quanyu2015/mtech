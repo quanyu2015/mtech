{
 "cells": [
  {
   "cell_type": "code",
   "execution_count": 1,
   "metadata": {},
   "outputs": [
    {
     "name": "stderr",
     "output_type": "stream",
     "text": [
      "Using TensorFlow backend.\n"
     ]
    }
   ],
   "source": [
    "import numpy as np # linear algebra\n",
    "import pandas as pd \n",
    "\n",
    "import warnings\n",
    "warnings.filterwarnings(\"ignore\")\n",
    "\n",
    "from sklearn.feature_extraction.text import CountVectorizer\n",
    "from sklearn.model_selection import train_test_split\n",
    "from keras.preprocessing.text import Tokenizer\n",
    "from keras.preprocessing.sequence import pad_sequences\n",
    "from keras.models import Sequential\n",
    "from keras.layers import Dense, Embedding, LSTM, SpatialDropout1D\n",
    "from keras.utils.np_utils import to_categorical"
   ]
  },
  {
   "cell_type": "code",
   "execution_count": 2,
   "metadata": {},
   "outputs": [
    {
     "name": "stdout",
     "output_type": "stream",
     "text": [
      "(22641, 2)\n"
     ]
    },
    {
     "data": {
      "text/html": [
       "<div>\n",
       "<style>\n",
       "    .dataframe thead tr:only-child th {\n",
       "        text-align: right;\n",
       "    }\n",
       "\n",
       "    .dataframe thead th {\n",
       "        text-align: left;\n",
       "    }\n",
       "\n",
       "    .dataframe tbody tr th {\n",
       "        vertical-align: top;\n",
       "    }\n",
       "</style>\n",
       "<table border=\"1\" class=\"dataframe\">\n",
       "  <thead>\n",
       "    <tr style=\"text-align: right;\">\n",
       "      <th></th>\n",
       "      <th>review</th>\n",
       "      <th>sentiment</th>\n",
       "    </tr>\n",
       "  </thead>\n",
       "  <tbody>\n",
       "    <tr>\n",
       "      <th>0</th>\n",
       "      <td>Absolutely wonderful - silky and sexy and comf...</td>\n",
       "      <td>1</td>\n",
       "    </tr>\n",
       "    <tr>\n",
       "      <th>1</th>\n",
       "      <td>Love this dress!  it's sooo pretty.  i happene...</td>\n",
       "      <td>1</td>\n",
       "    </tr>\n",
       "    <tr>\n",
       "      <th>2</th>\n",
       "      <td>I had such high hopes for this dress and reall...</td>\n",
       "      <td>0</td>\n",
       "    </tr>\n",
       "    <tr>\n",
       "      <th>3</th>\n",
       "      <td>I love, love, love this jumpsuit. it's fun, fl...</td>\n",
       "      <td>1</td>\n",
       "    </tr>\n",
       "    <tr>\n",
       "      <th>4</th>\n",
       "      <td>This shirt is very flattering to all due to th...</td>\n",
       "      <td>1</td>\n",
       "    </tr>\n",
       "  </tbody>\n",
       "</table>\n",
       "</div>"
      ],
      "text/plain": [
       "                                              review  sentiment\n",
       "0  Absolutely wonderful - silky and sexy and comf...          1\n",
       "1  Love this dress!  it's sooo pretty.  i happene...          1\n",
       "2  I had such high hopes for this dress and reall...          0\n",
       "3  I love, love, love this jumpsuit. it's fun, fl...          1\n",
       "4  This shirt is very flattering to all due to th...          1"
      ]
     },
     "execution_count": 2,
     "metadata": {},
     "output_type": "execute_result"
    }
   ],
   "source": [
    "data = pd.read_csv('Womens Clothing E-Commerce Reviews.csv', usecols = ['Review Text', 'Recommended IND'])\n",
    "data.columns = ['review', 'sentiment']\n",
    "# remove nan\n",
    "data.dropna(inplace = True)\n",
    "print(data.shape)\n",
    "data.head()"
   ]
  },
  {
   "cell_type": "code",
   "execution_count": 16,
   "metadata": {},
   "outputs": [
    {
     "data": {
      "text/plain": [
       "(22641, 2)"
      ]
     },
     "execution_count": 16,
     "metadata": {},
     "output_type": "execute_result"
    }
   ],
   "source": [
    "data = data[data.review != '']\n",
    "data.shape"
   ]
  },
  {
   "cell_type": "code",
   "execution_count": 3,
   "metadata": {},
   "outputs": [
    {
     "data": {
      "text/plain": [
       "1    0.818868\n",
       "0    0.181132\n",
       "Name: sentiment, dtype: float64"
      ]
     },
     "execution_count": 3,
     "metadata": {},
     "output_type": "execute_result"
    }
   ],
   "source": [
    "data['sentiment'].value_counts() / data.shape[0]"
   ]
  },
  {
   "cell_type": "markdown",
   "metadata": {},
   "source": [
    "## Prepare testing data from MongoDB"
   ]
  },
  {
   "cell_type": "code",
   "execution_count": 4,
   "metadata": {},
   "outputs": [
    {
     "data": {
      "text/plain": [
       "6696"
      ]
     },
     "execution_count": 4,
     "metadata": {},
     "output_type": "execute_result"
    }
   ],
   "source": [
    "from pymongo import MongoClient\n",
    "import pandas as pd\n",
    "from bson.objectid import ObjectId\n",
    "\n",
    "client = MongoClient()\n",
    "db = client.seasalt\n",
    "collection = db.shopee\n",
    "\n",
    "test = collection.find({\"$and\": [{\"product_breadcrumb\": \"Women's Apparel\"}, {\"product_review\":{\"$ne\":[] }}]}, {\"product_name\": 1, \"product_breadcrumb\": 1, \"product_id\": 1, \"product_review\": 1})\n",
    "data2 = []\n",
    "for x in test:\n",
    "    data2.append(x)\n",
    "len(data2)"
   ]
  },
  {
   "cell_type": "code",
   "execution_count": 9,
   "metadata": {},
   "outputs": [
    {
     "name": "stdout",
     "output_type": "stream",
     "text": [
      "[2188, 2194, 2128, 2101, 5566, 2147, 5484, 4585, 2109, 4551]\n",
      "[2078, 694, 689, 594, 529, 462, 295, 256, 237, 196]\n",
      "1   READY STOCK ！ oversized tee basic t-shirts koreanfashion simple white blouse \n",
      "2   Ready STOCK！hot sale loose short sleeves show slim summer girl \n",
      "3   [READY STOCK] (Best Seller!!) JYUNEESG'S Loose fit Basic High Neck TOP \n",
      "4   7 color optional Ready Stock！Retro Loose Speaker Sleeve Round Long Sleeve TShirt \n",
      "5   ⭐️BUY 4 FREE 1⭐️MUNAFIE SEAMLESS SLIMMING PANTIES⭐️ \n",
      "6   White shirt female long sleeve han fan wide loose south Korean shirt \n",
      "7   Silicone Nipple Cover Sticker Pads Shields Guard for Gown \n",
      "8   MONTIFS Strap Culottes - Multi Color \n",
      "9   [READY STOK] BL-B-06 Knitted Turtle Neck T-Shirt Top \n",
      "10   ✨HOT Women Warm Winter Thick Footless Tights Skinny Slim Leggings Stretch Pants \n"
     ]
    }
   ],
   "source": [
    "# top 10 products\n",
    "\n",
    "ll = [len(x['product_review']) for x in data]\n",
    "idx = sorted(range(len(ll)), reverse = True, key=ll.__getitem__)[:10]\n",
    "print(idx)\n",
    "amt = sorted(ll, reverse = True)[:10]\n",
    "print(amt)\n",
    "prd = [data2[x]['product_name'] for x in idx]\n",
    "# print(prd)\n",
    "for i in range(len(prd)):\n",
    "    print(i+1, \" \", prd[i], \"\")"
   ]
  },
  {
   "cell_type": "code",
   "execution_count": 10,
   "metadata": {},
   "outputs": [
    {
     "name": "stdout",
     "output_type": "stream",
     "text": [
      "594\n"
     ]
    },
    {
     "data": {
      "text/html": [
       "<div>\n",
       "<style>\n",
       "    .dataframe thead tr:only-child th {\n",
       "        text-align: right;\n",
       "    }\n",
       "\n",
       "    .dataframe thead th {\n",
       "        text-align: left;\n",
       "    }\n",
       "\n",
       "    .dataframe tbody tr th {\n",
       "        vertical-align: top;\n",
       "    }\n",
       "</style>\n",
       "<table border=\"1\" class=\"dataframe\">\n",
       "  <thead>\n",
       "    <tr style=\"text-align: right;\">\n",
       "      <th></th>\n",
       "      <th>date</th>\n",
       "      <th>review</th>\n",
       "      <th>sentiment</th>\n",
       "    </tr>\n",
       "  </thead>\n",
       "  <tbody>\n",
       "    <tr>\n",
       "      <th>2</th>\n",
       "      <td>2018-05-26</td>\n",
       "      <td>Good product quality Fast delivery Fast delive...</td>\n",
       "      <td>0</td>\n",
       "    </tr>\n",
       "    <tr>\n",
       "      <th>3</th>\n",
       "      <td>2018-05-26</td>\n",
       "      <td>Good product quality Excellent service by seller</td>\n",
       "      <td>0</td>\n",
       "    </tr>\n",
       "    <tr>\n",
       "      <th>4</th>\n",
       "      <td>2018-05-25</td>\n",
       "      <td>Good product quality Fast delivery</td>\n",
       "      <td>0</td>\n",
       "    </tr>\n",
       "    <tr>\n",
       "      <th>5</th>\n",
       "      <td>2018-05-25</td>\n",
       "      <td>Fast delivery Good product quality Excellent s...</td>\n",
       "      <td>0</td>\n",
       "    </tr>\n",
       "    <tr>\n",
       "      <th>6</th>\n",
       "      <td>2018-05-25</td>\n",
       "      <td>Good product quality Fast delivery Excellent s...</td>\n",
       "      <td>0</td>\n",
       "    </tr>\n",
       "  </tbody>\n",
       "</table>\n",
       "</div>"
      ],
      "text/plain": [
       "         date                                             review  sentiment\n",
       "2  2018-05-26  Good product quality Fast delivery Fast delive...          0\n",
       "3  2018-05-26   Good product quality Excellent service by seller          0\n",
       "4  2018-05-25                 Good product quality Fast delivery          0\n",
       "5  2018-05-25  Fast delivery Good product quality Excellent s...          0\n",
       "6  2018-05-25  Good product quality Fast delivery Excellent s...          0"
      ]
     },
     "execution_count": 10,
     "metadata": {},
     "output_type": "execute_result"
    }
   ],
   "source": [
    "rev = []\n",
    "dts = []\n",
    "for i in data2[2101][\"product_review\"]:\n",
    "    rev.append(i['buyer_review'])\n",
    "    dts.append(i['review_date'].split(\" \")[0])\n",
    "\n",
    "print(len(rev))\n",
    "\n",
    "dff = pd.DataFrame({\n",
    "    'review': rev,\n",
    "    'date': dts\n",
    "})\n",
    "dff['sentiment'] = 0\n",
    "dff = dff[dff['review'] != '']\n",
    "dff.head()"
   ]
  },
  {
   "cell_type": "code",
   "execution_count": 11,
   "metadata": {},
   "outputs": [
    {
     "data": {
      "text/plain": [
       "(299, 3)"
      ]
     },
     "execution_count": 11,
     "metadata": {},
     "output_type": "execute_result"
    }
   ],
   "source": [
    "dff.shape"
   ]
  },
  {
   "cell_type": "markdown",
   "metadata": {},
   "source": [
    "## Validation data from Lazada"
   ]
  },
  {
   "cell_type": "code",
   "execution_count": 3,
   "metadata": {},
   "outputs": [
    {
     "data": {
      "text/html": [
       "<div>\n",
       "<style>\n",
       "    .dataframe thead tr:only-child th {\n",
       "        text-align: right;\n",
       "    }\n",
       "\n",
       "    .dataframe thead th {\n",
       "        text-align: left;\n",
       "    }\n",
       "\n",
       "    .dataframe tbody tr th {\n",
       "        vertical-align: top;\n",
       "    }\n",
       "</style>\n",
       "<table border=\"1\" class=\"dataframe\">\n",
       "  <thead>\n",
       "    <tr style=\"text-align: right;\">\n",
       "      <th></th>\n",
       "      <th>review</th>\n",
       "      <th>sentiment</th>\n",
       "    </tr>\n",
       "  </thead>\n",
       "  <tbody>\n",
       "    <tr>\n",
       "      <th>0</th>\n",
       "      <td>Received item really fast. item was genuine an...</td>\n",
       "      <td>1</td>\n",
       "    </tr>\n",
       "    <tr>\n",
       "      <th>1</th>\n",
       "      <td>Super fast delivery and item looks exactly lik...</td>\n",
       "      <td>1</td>\n",
       "    </tr>\n",
       "    <tr>\n",
       "      <th>2</th>\n",
       "      <td>A bit picky...need to wear inner layer before ...</td>\n",
       "      <td>0</td>\n",
       "    </tr>\n",
       "    <tr>\n",
       "      <th>3</th>\n",
       "      <td>Definitely will recommend to others</td>\n",
       "      <td>1</td>\n",
       "    </tr>\n",
       "    <tr>\n",
       "      <th>4</th>\n",
       "      <td>Material is good recommended</td>\n",
       "      <td>1</td>\n",
       "    </tr>\n",
       "  </tbody>\n",
       "</table>\n",
       "</div>"
      ],
      "text/plain": [
       "                                              review  sentiment\n",
       "0  Received item really fast. item was genuine an...          1\n",
       "1  Super fast delivery and item looks exactly lik...          1\n",
       "2  A bit picky...need to wear inner layer before ...          0\n",
       "3                Definitely will recommend to others          1\n",
       "4                       Material is good recommended          1"
      ]
     },
     "execution_count": 3,
     "metadata": {},
     "output_type": "execute_result"
    }
   ],
   "source": [
    "df = pd.read_csv(\"lazada_labelled.csv\")\n",
    "df2 = df[[\"review\", \"sentiment\"]]\n",
    "df2.head()"
   ]
  },
  {
   "cell_type": "code",
   "execution_count": 13,
   "metadata": {},
   "outputs": [
    {
     "data": {
      "text/plain": [
       "(334, 2)"
      ]
     },
     "execution_count": 13,
     "metadata": {},
     "output_type": "execute_result"
    }
   ],
   "source": [
    "df2.shape"
   ]
  },
  {
   "cell_type": "markdown",
   "metadata": {},
   "source": [
    "### Combine train and test"
   ]
  },
  {
   "cell_type": "code",
   "execution_count": 6,
   "metadata": {},
   "outputs": [
    {
     "name": "stdout",
     "output_type": "stream",
     "text": [
      "22641 334\n",
      "(22975, 2)\n"
     ]
    }
   ],
   "source": [
    "# df3 = dff[['review', 'sentiment']]\n",
    "n1 = data.shape[0]\n",
    "n2 = df2.shape[0]\n",
    "# n3 = df3.shape[0]\n",
    "# data = data.append(df3, ignore_index = True)\n",
    "# dfa = pd.concat([data, df2, df3], ignore_index=True)\n",
    "dfa = pd.concat([data, df2], ignore_index=True)\n",
    "print(n1, n2)\n",
    "print(dfa.shape)"
   ]
  },
  {
   "cell_type": "code",
   "execution_count": 76,
   "metadata": {},
   "outputs": [
    {
     "data": {
      "text/html": [
       "<div>\n",
       "<style>\n",
       "    .dataframe thead tr:only-child th {\n",
       "        text-align: right;\n",
       "    }\n",
       "\n",
       "    .dataframe thead th {\n",
       "        text-align: left;\n",
       "    }\n",
       "\n",
       "    .dataframe tbody tr th {\n",
       "        vertical-align: top;\n",
       "    }\n",
       "</style>\n",
       "<table border=\"1\" class=\"dataframe\">\n",
       "  <thead>\n",
       "    <tr style=\"text-align: right;\">\n",
       "      <th></th>\n",
       "      <th>review</th>\n",
       "      <th>sentiment</th>\n",
       "    </tr>\n",
       "  </thead>\n",
       "  <tbody>\n",
       "    <tr>\n",
       "      <th>2</th>\n",
       "      <td>Good product quality Fast delivery Fast delive...</td>\n",
       "      <td>0</td>\n",
       "    </tr>\n",
       "    <tr>\n",
       "      <th>3</th>\n",
       "      <td>Good product quality Excellent service by seller</td>\n",
       "      <td>0</td>\n",
       "    </tr>\n",
       "    <tr>\n",
       "      <th>4</th>\n",
       "      <td>Good product quality Fast delivery</td>\n",
       "      <td>0</td>\n",
       "    </tr>\n",
       "    <tr>\n",
       "      <th>5</th>\n",
       "      <td>Fast delivery Good product quality Excellent s...</td>\n",
       "      <td>0</td>\n",
       "    </tr>\n",
       "    <tr>\n",
       "      <th>6</th>\n",
       "      <td>Good product quality Fast delivery Excellent s...</td>\n",
       "      <td>0</td>\n",
       "    </tr>\n",
       "  </tbody>\n",
       "</table>\n",
       "</div>"
      ],
      "text/plain": [
       "                                              review  sentiment\n",
       "2  Good product quality Fast delivery Fast delive...          0\n",
       "3   Good product quality Excellent service by seller          0\n",
       "4                 Good product quality Fast delivery          0\n",
       "5  Fast delivery Good product quality Excellent s...          0\n",
       "6  Good product quality Fast delivery Excellent s...          0"
      ]
     },
     "execution_count": 76,
     "metadata": {},
     "output_type": "execute_result"
    }
   ],
   "source": [
    "df3.head()"
   ]
  },
  {
   "cell_type": "markdown",
   "metadata": {},
   "source": [
    "## Preprocess"
   ]
  },
  {
   "cell_type": "code",
   "execution_count": 40,
   "metadata": {},
   "outputs": [
    {
     "name": "stdout",
     "output_type": "stream",
     "text": [
      "[nltk_data] Downloading package stopwords to /Users/qy/nltk_data...\n",
      "[nltk_data]   Unzipping corpora/stopwords.zip.\n"
     ]
    },
    {
     "data": {
      "text/plain": [
       "True"
      ]
     },
     "execution_count": 40,
     "metadata": {},
     "output_type": "execute_result"
    }
   ],
   "source": [
    "import nltk\n",
    "nltk.download('stopwords')"
   ]
  },
  {
   "cell_type": "code",
   "execution_count": 7,
   "metadata": {},
   "outputs": [],
   "source": [
    "import string\n",
    "from nltk.corpus import stopwords\n",
    "from nltk.stem.snowball import SnowballStemmer\n",
    "import re\n",
    "\n",
    "def clean_text(text):\n",
    "    \n",
    "    ## Remove puncuation\n",
    "    text = text.translate(string.punctuation)\n",
    "    \n",
    "    ## Convert words to lower case and split them\n",
    "    text = text.lower().split()\n",
    "    \n",
    "    ## Remove stop words\n",
    "    stops = set(stopwords.words(\"english\"))\n",
    "    text = [w for w in text if not w in stops and len(w) >= 3]\n",
    "    \n",
    "    text = \" \".join(text)\n",
    "    \n",
    "    ## Stemming\n",
    "    text = text.split()\n",
    "    stemmer = SnowballStemmer('english')\n",
    "    stemmed_words = [stemmer.stem(word) for word in text]\n",
    "    text = \" \".join(stemmed_words)\n",
    "    \n",
    "    # other\n",
    "    text = re.sub(r'[^a-zA-Z]',' ',text)\n",
    "    text = re.sub(r\"\\s{2,}\", \" \", text)\n",
    "    \n",
    "    return text"
   ]
  },
  {
   "cell_type": "code",
   "execution_count": 10,
   "metadata": {},
   "outputs": [
    {
     "data": {
      "text/plain": [
       "['Absolutely wonderful - silky and sexy and comfortable',\n",
       " 'Love this dress!  it\\'s sooo pretty.  i happened to find it in a store, and i\\'m glad i did bc i never would have ordered it online bc it\\'s petite.  i bought a petite and am 5\\'8\".  i love the length on me- hits just a little below the knee.  would definitely be a true midi on someone who is truly petite.',\n",
       " 'I had such high hopes for this dress and really wanted it to work for me. i initially ordered the petite small (my usual size) but i found this to be outrageously small. so small in fact that i could not zip it up! i reordered it in petite medium, which was just ok. overall, the top half was comfortable and fit nicely, but the bottom half had a very tight under layer and several somewhat cheap (net) over layers. imo, a major design flaw was the net over layer sewn directly into the zipper - it c',\n",
       " \"I love, love, love this jumpsuit. it's fun, flirty, and fabulous! every time i wear it, i get nothing but great compliments!\",\n",
       " 'This shirt is very flattering to all due to the adjustable front tie. it is the perfect length to wear with leggings and it is sleeveless so it pairs well with any cardigan. love this shirt!!!']"
      ]
     },
     "execution_count": 10,
     "metadata": {},
     "output_type": "execute_result"
    }
   ],
   "source": [
    "data.review[:5].tolist()"
   ]
  },
  {
   "cell_type": "code",
   "execution_count": 9,
   "metadata": {},
   "outputs": [
    {
     "name": "stdout",
     "output_type": "stream",
     "text": [
      "(15848, 100)\n",
      "(6793, 100)\n"
     ]
    }
   ],
   "source": [
    "max_fatures = 2000\n",
    "mlen = 100\n",
    "\n",
    "tokenizer = Tokenizer(num_words=max_fatures, lower=True,split=' ')\n",
    "tokenizer.fit_on_texts(dfa['review'].values)\n",
    "X = tokenizer.texts_to_sequences(dfa['review'].values)\n",
    "X = pad_sequences(X, maxlen=mlen)\n",
    "Y = pd.get_dummies(dfa['sentiment']).values\n",
    "\n",
    "X_train, X_valid, Y_train, Y_valid = train_test_split(X[:n1],Y[:n1], test_size = 0.30, random_state = 36)\n",
    "print(X_train.shape)\n",
    "print(X_valid.shape)"
   ]
  },
  {
   "cell_type": "code",
   "execution_count": 28,
   "metadata": {},
   "outputs": [
    {
     "name": "stdout",
     "output_type": "stream",
     "text": [
      "(23274, 100)\n",
      "(23274, 2)\n",
      "(633, 100)\n"
     ]
    }
   ],
   "source": [
    "print(X.shape)\n",
    "print(Y.shape)\n",
    "print(X[n1:].shape)"
   ]
  },
  {
   "cell_type": "code",
   "execution_count": 79,
   "metadata": {},
   "outputs": [
    {
     "data": {
      "text/html": [
       "<div>\n",
       "<style>\n",
       "    .dataframe thead tr:only-child th {\n",
       "        text-align: right;\n",
       "    }\n",
       "\n",
       "    .dataframe thead th {\n",
       "        text-align: left;\n",
       "    }\n",
       "\n",
       "    .dataframe tbody tr th {\n",
       "        vertical-align: top;\n",
       "    }\n",
       "</style>\n",
       "<table border=\"1\" class=\"dataframe\">\n",
       "  <thead>\n",
       "    <tr style=\"text-align: right;\">\n",
       "      <th></th>\n",
       "      <th>review</th>\n",
       "      <th>sentiment</th>\n",
       "    </tr>\n",
       "  </thead>\n",
       "  <tbody>\n",
       "    <tr>\n",
       "      <th>2</th>\n",
       "      <td>Good product quality Fast delivery Fast delive...</td>\n",
       "      <td>0</td>\n",
       "    </tr>\n",
       "    <tr>\n",
       "      <th>3</th>\n",
       "      <td>Good product quality Excellent service by seller</td>\n",
       "      <td>0</td>\n",
       "    </tr>\n",
       "    <tr>\n",
       "      <th>4</th>\n",
       "      <td>Good product quality Fast delivery</td>\n",
       "      <td>0</td>\n",
       "    </tr>\n",
       "    <tr>\n",
       "      <th>5</th>\n",
       "      <td>Fast delivery Good product quality Excellent s...</td>\n",
       "      <td>0</td>\n",
       "    </tr>\n",
       "    <tr>\n",
       "      <th>6</th>\n",
       "      <td>Good product quality Fast delivery Excellent s...</td>\n",
       "      <td>0</td>\n",
       "    </tr>\n",
       "  </tbody>\n",
       "</table>\n",
       "</div>"
      ],
      "text/plain": [
       "                                              review  sentiment\n",
       "2  Good product quality Fast delivery Fast delive...          0\n",
       "3   Good product quality Excellent service by seller          0\n",
       "4                 Good product quality Fast delivery          0\n",
       "5  Fast delivery Good product quality Excellent s...          0\n",
       "6  Good product quality Fast delivery Excellent s...          0"
      ]
     },
     "execution_count": 79,
     "metadata": {},
     "output_type": "execute_result"
    }
   ],
   "source": [
    "df3.head()"
   ]
  },
  {
   "cell_type": "code",
   "execution_count": 25,
   "metadata": {},
   "outputs": [
    {
     "data": {
      "text/plain": [
       "1    18540\n",
       "0     4101\n",
       "Name: sentiment, dtype: int64"
      ]
     },
     "execution_count": 25,
     "metadata": {},
     "output_type": "execute_result"
    }
   ],
   "source": [
    "data['sentiment'].value_counts()"
   ]
  },
  {
   "cell_type": "markdown",
   "metadata": {},
   "source": [
    "## Simple LSTM model"
   ]
  },
  {
   "cell_type": "code",
   "execution_count": 32,
   "metadata": {},
   "outputs": [
    {
     "name": "stdout",
     "output_type": "stream",
     "text": [
      "_________________________________________________________________\n",
      "Layer (type)                 Output Shape              Param #   \n",
      "=================================================================\n",
      "embedding_4 (Embedding)      (None, 100, 100)          500000    \n",
      "_________________________________________________________________\n",
      "dropout_2 (Dropout)          (None, 100, 100)          0         \n",
      "_________________________________________________________________\n",
      "lstm_3 (LSTM)                (None, 128)               117248    \n",
      "_________________________________________________________________\n",
      "dense_3 (Dense)              (None, 2)                 258       \n",
      "=================================================================\n",
      "Total params: 617,506\n",
      "Trainable params: 617,506\n",
      "Non-trainable params: 0\n",
      "_________________________________________________________________\n",
      "None\n"
     ]
    }
   ],
   "source": [
    "from keras.layers import Dense, Flatten, LSTM, Conv1D, MaxPooling1D, Dropout\n",
    "\n",
    "embed_dim = 100\n",
    "batch_size = 32\n",
    "\n",
    "model = Sequential()\n",
    "model.add(Embedding(max_fatures, embed_dim, input_length = X.shape[1]))\n",
    "model.add(Dropout(0.2))\n",
    "# model.add(LSTM(lstm_out, dropout_U = 0.2, dropout_W = 0.2))\n",
    "model.add(LSTM(128,dropout=0.4, recurrent_dropout=0.4))\n",
    "model.add(Dense(2,activation='softmax'))\n",
    "\n",
    "model.compile(loss = 'categorical_crossentropy', optimizer='adam',metrics = ['accuracy'])\n",
    "print(model.summary())"
   ]
  },
  {
   "cell_type": "code",
   "execution_count": 34,
   "metadata": {},
   "outputs": [
    {
     "name": "stdout",
     "output_type": "stream",
     "text": [
      "Train on 11093 samples, validate on 4755 samples\n",
      "Epoch 1/10\n",
      " - 46s - loss: 0.3631 - acc: 0.8439 - val_loss: 0.2884 - val_acc: 0.8757\n",
      "Epoch 2/10\n",
      " - 47s - loss: 0.2642 - acc: 0.8882 - val_loss: 0.2800 - val_acc: 0.8839\n",
      "Epoch 3/10\n",
      " - 47s - loss: 0.2226 - acc: 0.9056 - val_loss: 0.2808 - val_acc: 0.8869\n",
      "Epoch 4/10\n",
      " - 46s - loss: 0.2028 - acc: 0.9167 - val_loss: 0.2975 - val_acc: 0.8902\n",
      "Epoch 5/10\n",
      " - 48s - loss: 0.1809 - acc: 0.9279 - val_loss: 0.3210 - val_acc: 0.8797\n",
      "Epoch 00005: early stopping\n"
     ]
    },
    {
     "data": {
      "text/plain": [
       "<keras.callbacks.History at 0x1a302fb048>"
      ]
     },
     "execution_count": 34,
     "metadata": {},
     "output_type": "execute_result"
    }
   ],
   "source": [
    "from keras.callbacks import EarlyStopping, ModelCheckpoint\n",
    "\n",
    "earlystopper = EarlyStopping(patience=3, verbose=1)\n",
    "checkpointer = ModelCheckpoint('model-lstm.h5', verbose=1, save_best_only=True)\n",
    "\n",
    "model.fit(X_train, Y_train, validation_split=0.3, batch_size=batch_size, epochs=10, verbose = 2, \n",
    "                    callbacks=[earlystopper])"
   ]
  },
  {
   "cell_type": "code",
   "execution_count": 36,
   "metadata": {},
   "outputs": [
    {
     "name": "stdout",
     "output_type": "stream",
     "text": [
      "score: 0.308\n",
      "acc: 0.880\n"
     ]
    }
   ],
   "source": [
    "# loss, [sen, spec, acc] = model.evaluate(X_valid, Y_valid, verbose = 2, batch_size = batch_size)\n",
    "loss, acc = model.evaluate(X_valid, Y_valid, verbose = 2, batch_size = batch_size)\n",
    "print(\"score: %.3f\" % (loss))\n",
    "print(\"acc: %.3f\" % (acc))"
   ]
  },
  {
   "cell_type": "markdown",
   "metadata": {},
   "source": [
    "## Model with Conv1D + 2 LSTM layers"
   ]
  },
  {
   "cell_type": "code",
   "execution_count": 10,
   "metadata": {},
   "outputs": [
    {
     "name": "stdout",
     "output_type": "stream",
     "text": [
      "_________________________________________________________________\n",
      "Layer (type)                 Output Shape              Param #   \n",
      "=================================================================\n",
      "embedding_1 (Embedding)      (None, 100, 200)          400000    \n",
      "_________________________________________________________________\n",
      "dropout_1 (Dropout)          (None, 100, 200)          0         \n",
      "_________________________________________________________________\n",
      "conv1d_1 (Conv1D)            (None, 96, 64)            64064     \n",
      "_________________________________________________________________\n",
      "max_pooling1d_1 (MaxPooling1 (None, 24, 64)            0         \n",
      "_________________________________________________________________\n",
      "lstm_1 (LSTM)                (None, 24, 128)           98816     \n",
      "_________________________________________________________________\n",
      "lstm_2 (LSTM)                (None, 64)                49408     \n",
      "_________________________________________________________________\n",
      "dense_1 (Dense)              (None, 2)                 130       \n",
      "=================================================================\n",
      "Total params: 612,418\n",
      "Trainable params: 612,418\n",
      "Non-trainable params: 0\n",
      "_________________________________________________________________\n",
      "None\n"
     ]
    }
   ],
   "source": [
    "from keras.layers import Dense, Flatten, LSTM, Conv1D, MaxPooling1D, Dropout\n",
    "\n",
    "embed_dim = 200\n",
    "batch_size = 16\n",
    "\n",
    "model_conv3 = Sequential()\n",
    "model_conv3.add(Embedding(max_fatures, embed_dim, input_length = X.shape[1]))\n",
    "model_conv3.add(Dropout(0.2))\n",
    "model_conv3.add(Conv1D(64, 5, activation='relu'))\n",
    "model_conv3.add(MaxPooling1D(pool_size=4))\n",
    "model_conv3.add(LSTM(128,dropout=0.4, recurrent_dropout=0.4, return_sequences=True))\n",
    "model_conv3.add(LSTM(64,dropout=0.5, recurrent_dropout=0.5))\n",
    "model_conv3.add(Dense(2, activation='softmax'))\n",
    "model_conv3.compile(loss = 'categorical_crossentropy', optimizer='adam',metrics = ['accuracy'])\n",
    "print(model_conv3.summary())"
   ]
  },
  {
   "cell_type": "code",
   "execution_count": 11,
   "metadata": {},
   "outputs": [
    {
     "data": {
      "image/svg+xml": [
       "<svg height=\"556pt\" viewBox=\"0.00 0.00 220.00 556.00\" width=\"220pt\" xmlns=\"http://www.w3.org/2000/svg\" xmlns:xlink=\"http://www.w3.org/1999/xlink\">\n",
       "<g class=\"graph\" id=\"graph0\" transform=\"scale(1 1) rotate(0) translate(4 552)\">\n",
       "<title>G</title>\n",
       "<polygon fill=\"#ffffff\" points=\"-4,4 -4,-552 216,-552 216,4 -4,4\" stroke=\"transparent\"/>\n",
       "<!-- 112237267712 -->\n",
       "<g class=\"node\" id=\"node1\">\n",
       "<title>112237267712</title>\n",
       "<polygon fill=\"none\" points=\"7,-511.5 7,-547.5 205,-547.5 205,-511.5 7,-511.5\" stroke=\"#000000\"/>\n",
       "<text fill=\"#000000\" font-family=\"Times,serif\" font-size=\"14.00\" text-anchor=\"middle\" x=\"106\" y=\"-525.8\">embedding_1_input: InputLayer</text>\n",
       "</g>\n",
       "<!-- 112237266592 -->\n",
       "<g class=\"node\" id=\"node2\">\n",
       "<title>112237266592</title>\n",
       "<polygon fill=\"none\" points=\"23.5,-438.5 23.5,-474.5 188.5,-474.5 188.5,-438.5 23.5,-438.5\" stroke=\"#000000\"/>\n",
       "<text fill=\"#000000\" font-family=\"Times,serif\" font-size=\"14.00\" text-anchor=\"middle\" x=\"106\" y=\"-452.8\">embedding_1: Embedding</text>\n",
       "</g>\n",
       "<!-- 112237267712&#45;&gt;112237266592 -->\n",
       "<g class=\"edge\" id=\"edge1\">\n",
       "<title>112237267712-&gt;112237266592</title>\n",
       "<path d=\"M106,-511.4551C106,-503.3828 106,-493.6764 106,-484.6817\" fill=\"none\" stroke=\"#000000\"/>\n",
       "<polygon fill=\"#000000\" points=\"109.5001,-484.5903 106,-474.5904 102.5001,-484.5904 109.5001,-484.5903\" stroke=\"#000000\"/>\n",
       "</g>\n",
       "<!-- 112235401056 -->\n",
       "<g class=\"node\" id=\"node3\">\n",
       "<title>112235401056</title>\n",
       "<polygon fill=\"none\" points=\"42,-365.5 42,-401.5 170,-401.5 170,-365.5 42,-365.5\" stroke=\"#000000\"/>\n",
       "<text fill=\"#000000\" font-family=\"Times,serif\" font-size=\"14.00\" text-anchor=\"middle\" x=\"106\" y=\"-379.8\">dropout_1: Dropout</text>\n",
       "</g>\n",
       "<!-- 112237266592&#45;&gt;112235401056 -->\n",
       "<g class=\"edge\" id=\"edge2\">\n",
       "<title>112237266592-&gt;112235401056</title>\n",
       "<path d=\"M106,-438.4551C106,-430.3828 106,-420.6764 106,-411.6817\" fill=\"none\" stroke=\"#000000\"/>\n",
       "<polygon fill=\"#000000\" points=\"109.5001,-411.5903 106,-401.5904 102.5001,-411.5904 109.5001,-411.5903\" stroke=\"#000000\"/>\n",
       "</g>\n",
       "<!-- 112235397584 -->\n",
       "<g class=\"node\" id=\"node4\">\n",
       "<title>112235397584</title>\n",
       "<polygon fill=\"none\" points=\"42.5,-292.5 42.5,-328.5 169.5,-328.5 169.5,-292.5 42.5,-292.5\" stroke=\"#000000\"/>\n",
       "<text fill=\"#000000\" font-family=\"Times,serif\" font-size=\"14.00\" text-anchor=\"middle\" x=\"106\" y=\"-306.8\">conv1d_1: Conv1D</text>\n",
       "</g>\n",
       "<!-- 112235401056&#45;&gt;112235397584 -->\n",
       "<g class=\"edge\" id=\"edge3\">\n",
       "<title>112235401056-&gt;112235397584</title>\n",
       "<path d=\"M106,-365.4551C106,-357.3828 106,-347.6764 106,-338.6817\" fill=\"none\" stroke=\"#000000\"/>\n",
       "<polygon fill=\"#000000\" points=\"109.5001,-338.5903 106,-328.5904 102.5001,-338.5904 109.5001,-338.5903\" stroke=\"#000000\"/>\n",
       "</g>\n",
       "<!-- 112237267488 -->\n",
       "<g class=\"node\" id=\"node5\">\n",
       "<title>112237267488</title>\n",
       "<polygon fill=\"none\" points=\"0,-219.5 0,-255.5 212,-255.5 212,-219.5 0,-219.5\" stroke=\"#000000\"/>\n",
       "<text fill=\"#000000\" font-family=\"Times,serif\" font-size=\"14.00\" text-anchor=\"middle\" x=\"106\" y=\"-233.8\">max_pooling1d_1: MaxPooling1D</text>\n",
       "</g>\n",
       "<!-- 112235397584&#45;&gt;112237267488 -->\n",
       "<g class=\"edge\" id=\"edge4\">\n",
       "<title>112235397584-&gt;112237267488</title>\n",
       "<path d=\"M106,-292.4551C106,-284.3828 106,-274.6764 106,-265.6817\" fill=\"none\" stroke=\"#000000\"/>\n",
       "<polygon fill=\"#000000\" points=\"109.5001,-265.5903 106,-255.5904 102.5001,-265.5904 109.5001,-265.5903\" stroke=\"#000000\"/>\n",
       "</g>\n",
       "<!-- 4766287408 -->\n",
       "<g class=\"node\" id=\"node6\">\n",
       "<title>4766287408</title>\n",
       "<polygon fill=\"none\" points=\"56.5,-146.5 56.5,-182.5 155.5,-182.5 155.5,-146.5 56.5,-146.5\" stroke=\"#000000\"/>\n",
       "<text fill=\"#000000\" font-family=\"Times,serif\" font-size=\"14.00\" text-anchor=\"middle\" x=\"106\" y=\"-160.8\">lstm_1: LSTM</text>\n",
       "</g>\n",
       "<!-- 112237267488&#45;&gt;4766287408 -->\n",
       "<g class=\"edge\" id=\"edge5\">\n",
       "<title>112237267488-&gt;4766287408</title>\n",
       "<path d=\"M106,-219.4551C106,-211.3828 106,-201.6764 106,-192.6817\" fill=\"none\" stroke=\"#000000\"/>\n",
       "<polygon fill=\"#000000\" points=\"109.5001,-192.5903 106,-182.5904 102.5001,-192.5904 109.5001,-192.5903\" stroke=\"#000000\"/>\n",
       "</g>\n",
       "<!-- 112247294384 -->\n",
       "<g class=\"node\" id=\"node7\">\n",
       "<title>112247294384</title>\n",
       "<polygon fill=\"none\" points=\"56.5,-73.5 56.5,-109.5 155.5,-109.5 155.5,-73.5 56.5,-73.5\" stroke=\"#000000\"/>\n",
       "<text fill=\"#000000\" font-family=\"Times,serif\" font-size=\"14.00\" text-anchor=\"middle\" x=\"106\" y=\"-87.8\">lstm_2: LSTM</text>\n",
       "</g>\n",
       "<!-- 4766287408&#45;&gt;112247294384 -->\n",
       "<g class=\"edge\" id=\"edge6\">\n",
       "<title>4766287408-&gt;112247294384</title>\n",
       "<path d=\"M106,-146.4551C106,-138.3828 106,-128.6764 106,-119.6817\" fill=\"none\" stroke=\"#000000\"/>\n",
       "<polygon fill=\"#000000\" points=\"109.5001,-119.5903 106,-109.5904 102.5001,-119.5904 109.5001,-119.5903\" stroke=\"#000000\"/>\n",
       "</g>\n",
       "<!-- 112241363488 -->\n",
       "<g class=\"node\" id=\"node8\">\n",
       "<title>112241363488</title>\n",
       "<polygon fill=\"none\" points=\"53.5,-.5 53.5,-36.5 158.5,-36.5 158.5,-.5 53.5,-.5\" stroke=\"#000000\"/>\n",
       "<text fill=\"#000000\" font-family=\"Times,serif\" font-size=\"14.00\" text-anchor=\"middle\" x=\"106\" y=\"-14.8\">dense_1: Dense</text>\n",
       "</g>\n",
       "<!-- 112247294384&#45;&gt;112241363488 -->\n",
       "<g class=\"edge\" id=\"edge7\">\n",
       "<title>112247294384-&gt;112241363488</title>\n",
       "<path d=\"M106,-73.4551C106,-65.3828 106,-55.6764 106,-46.6817\" fill=\"none\" stroke=\"#000000\"/>\n",
       "<polygon fill=\"#000000\" points=\"109.5001,-46.5903 106,-36.5904 102.5001,-46.5904 109.5001,-46.5903\" stroke=\"#000000\"/>\n",
       "</g>\n",
       "</g>\n",
       "</svg>"
      ],
      "text/plain": [
       "<IPython.core.display.SVG object>"
      ]
     },
     "execution_count": 11,
     "metadata": {},
     "output_type": "execute_result"
    }
   ],
   "source": [
    "import pydot\n",
    "from IPython.display import SVG\n",
    "from keras.utils import plot_model\n",
    "from keras.utils.vis_utils import model_to_dot\n",
    "\n",
    "plot_model(model_conv3, to_file='sentiment_lstm.png')\n",
    "SVG(model_to_dot(model_conv3).create(prog='dot', format='svg'))"
   ]
  },
  {
   "cell_type": "code",
   "execution_count": 12,
   "metadata": {},
   "outputs": [
    {
     "name": "stdout",
     "output_type": "stream",
     "text": [
      "Train on 11093 samples, validate on 4755 samples\n",
      "Epoch 1/10\n",
      "Epoch 00001: val_loss improved from inf to 0.28086, saving model to lstm_f.h5\n",
      " - 52s - loss: 0.3591 - acc: 0.8459 - val_loss: 0.2809 - val_acc: 0.8860\n",
      "Epoch 2/10\n",
      "Epoch 00002: val_loss improved from 0.28086 to 0.27641, saving model to lstm_f.h5\n",
      " - 50s - loss: 0.2455 - acc: 0.8980 - val_loss: 0.2764 - val_acc: 0.8862\n",
      "Epoch 3/10\n",
      "Epoch 00003: val_loss did not improve\n",
      " - 50s - loss: 0.1958 - acc: 0.9195 - val_loss: 0.2892 - val_acc: 0.8841\n",
      "Epoch 4/10\n",
      "Epoch 00004: val_loss did not improve\n",
      " - 51s - loss: 0.1454 - acc: 0.9435 - val_loss: 0.3511 - val_acc: 0.8845\n",
      "Epoch 5/10\n",
      "Epoch 00005: val_loss did not improve\n",
      " - 50s - loss: 0.1024 - acc: 0.9626 - val_loss: 0.3951 - val_acc: 0.8675\n",
      "Epoch 00005: early stopping\n",
      "score: 0.388\n",
      "acc: 0.868\n"
     ]
    }
   ],
   "source": [
    "from keras.callbacks import EarlyStopping, ModelCheckpoint\n",
    "\n",
    "earlystopper = EarlyStopping(patience=3, verbose=1)\n",
    "checkpointer = ModelCheckpoint('lstm_f.h5', verbose=1, save_best_only=True)\n",
    "\n",
    "model_conv3.fit(X_train, Y_train, validation_split=0.3, batch_size=batch_size, epochs=10, verbose = 2, \n",
    "                    callbacks=[earlystopper, checkpointer])\n",
    "\n",
    "loss, acc = model_conv3.evaluate(X_valid, Y_valid, verbose = 2, batch_size = batch_size)\n",
    "print(\"score: %.3f\" % (loss))\n",
    "print(\"acc: %.3f\" % (acc))"
   ]
  },
  {
   "cell_type": "code",
   "execution_count": 62,
   "metadata": {},
   "outputs": [
    {
     "name": "stdout",
     "output_type": "stream",
     "text": [
      "score: 0.255\n",
      "acc: 0.885\n"
     ]
    }
   ],
   "source": [
    "from keras.models import load_model\n",
    "\n",
    "model3 = load_model('lstm_f.h5')\n",
    "\n",
    "loss, acc = model3.evaluate(X_valid, Y_valid, verbose = 2, batch_size = batch_size)\n",
    "print(\"score: %.3f\" % (loss))\n",
    "print(\"acc: %.3f\" % (acc))"
   ]
  },
  {
   "cell_type": "code",
   "execution_count": 63,
   "metadata": {},
   "outputs": [
    {
     "name": "stdout",
     "output_type": "stream",
     "text": [
      "score: 0.443\n",
      "acc: 0.766\n"
     ]
    }
   ],
   "source": [
    "loss, acc = model2.evaluate(X[n1:(n1+n2)], Y[n1:(n1+n2)], verbose = 2, batch_size = batch_size)\n",
    "print(\"score: %.3f\" % (loss))\n",
    "print(\"acc: %.3f\" % (acc))"
   ]
  },
  {
   "cell_type": "code",
   "execution_count": 65,
   "metadata": {},
   "outputs": [
    {
     "name": "stdout",
     "output_type": "stream",
     "text": [
      "score: 0.480\n",
      "acc: 0.811\n"
     ]
    }
   ],
   "source": [
    "loss, acc = model_conv3.evaluate(X[n1:(n1+n2)], Y[n1:(n1+n2)], verbose = 2, batch_size = batch_size)\n",
    "print(\"score: %.3f\" % (loss))\n",
    "print(\"acc: %.3f\" % (acc))"
   ]
  },
  {
   "cell_type": "markdown",
   "metadata": {},
   "source": [
    "## Predict target labels"
   ]
  },
  {
   "cell_type": "code",
   "execution_count": null,
   "metadata": {},
   "outputs": [],
   "source": [
    "pred = model.predict(X[n1:(n1+n2)], batch_size=1,verbose = 2)"
   ]
  },
  {
   "cell_type": "code",
   "execution_count": null,
   "metadata": {},
   "outputs": [],
   "source": [
    "y_pred = np.argmax(pred,axis=1)\n",
    "y_pred[:10]"
   ]
  },
  {
   "cell_type": "markdown",
   "metadata": {},
   "source": [
    "## Performance on the Validation set"
   ]
  },
  {
   "cell_type": "code",
   "execution_count": 38,
   "metadata": {},
   "outputs": [],
   "source": [
    "pred = model.predict(X[n1:(n1+n2)], batch_size=1,verbose = 2)"
   ]
  },
  {
   "cell_type": "code",
   "execution_count": 69,
   "metadata": {},
   "outputs": [
    {
     "name": "stdout",
     "output_type": "stream",
     "text": [
      "0.750431034483\n"
     ]
    }
   ],
   "source": [
    "# conv + lstm model\n",
    "pred2 = model_conv3.predict(X[n1:(n1+n2)], batch_size=1,verbose = 2)\n",
    "y_pred_proba = pred2[:, 1]\n",
    "auc = metrics.roc_auc_score(y_test, y_pred_proba)\n",
    "print(auc)"
   ]
  },
  {
   "cell_type": "code",
   "execution_count": 67,
   "metadata": {},
   "outputs": [
    {
     "data": {
      "image/png": "[encoded data removed]",
      "text/plain": [
       "<Figure size 432x432 with 1 Axes>"
      ]
     },
     "metadata": {},
     "output_type": "display_data"
    }
   ],
   "source": [
    "y_pred_proba = pred2[:, 1]\n",
    "y_test = df2['sentiment'].values\n",
    "\n",
    "fpr, tpr, _ = metrics.roc_curve(y_test,  y_pred_proba)\n",
    "auc = metrics.roc_auc_score(y_test, y_pred_proba)\n",
    "\n",
    "plt.figure(figsize=(6, 6))\n",
    "plt.plot(fpr,tpr,label=\"auc=\"+str(auc))\n",
    "plt.plot([0, 1], [0, 1], color='black', lw=2, linestyle='--')\n",
    "plt.xlabel('False Positive Rate')\n",
    "plt.ylabel('True Positive Rate')\n",
    "plt.legend(loc=4)\n",
    "plt.show()"
   ]
  },
  {
   "cell_type": "markdown",
   "metadata": {},
   "source": [
    "## Predict on new data"
   ]
  },
  {
   "cell_type": "code",
   "execution_count": 40,
   "metadata": {},
   "outputs": [
    {
     "data": {
      "text/plain": [
       "array([[ 0.00400818,  0.99599189],\n",
       "       [ 0.01446713,  0.98553282],\n",
       "       [ 0.23878399,  0.76121598],\n",
       "       [ 0.00721742,  0.99278259],\n",
       "       [ 0.0021237 ,  0.99787629]], dtype=float32)"
      ]
     },
     "execution_count": 40,
     "metadata": {},
     "output_type": "execute_result"
    }
   ],
   "source": [
    "pred = model.predict(X[(n1+n2):], batch_size=1,verbose = 2)\n",
    "pred[:5]"
   ]
  },
  {
   "cell_type": "code",
   "execution_count": 41,
   "metadata": {},
   "outputs": [
    {
     "data": {
      "text/html": [
       "<div>\n",
       "<style>\n",
       "    .dataframe thead tr:only-child th {\n",
       "        text-align: right;\n",
       "    }\n",
       "\n",
       "    .dataframe thead th {\n",
       "        text-align: left;\n",
       "    }\n",
       "\n",
       "    .dataframe tbody tr th {\n",
       "        vertical-align: top;\n",
       "    }\n",
       "</style>\n",
       "<table border=\"1\" class=\"dataframe\">\n",
       "  <thead>\n",
       "    <tr style=\"text-align: right;\">\n",
       "      <th></th>\n",
       "      <th>date</th>\n",
       "      <th>review</th>\n",
       "      <th>sentiment</th>\n",
       "    </tr>\n",
       "  </thead>\n",
       "  <tbody>\n",
       "    <tr>\n",
       "      <th>2</th>\n",
       "      <td>2018-05-26</td>\n",
       "      <td>Good product quality Fast delivery Fast delive...</td>\n",
       "      <td>0.995992</td>\n",
       "    </tr>\n",
       "    <tr>\n",
       "      <th>3</th>\n",
       "      <td>2018-05-26</td>\n",
       "      <td>Good product quality Excellent service by seller</td>\n",
       "      <td>0.985533</td>\n",
       "    </tr>\n",
       "    <tr>\n",
       "      <th>4</th>\n",
       "      <td>2018-05-25</td>\n",
       "      <td>Good product quality Fast delivery</td>\n",
       "      <td>0.761216</td>\n",
       "    </tr>\n",
       "    <tr>\n",
       "      <th>5</th>\n",
       "      <td>2018-05-25</td>\n",
       "      <td>Fast delivery Good product quality Excellent s...</td>\n",
       "      <td>0.992783</td>\n",
       "    </tr>\n",
       "    <tr>\n",
       "      <th>6</th>\n",
       "      <td>2018-05-25</td>\n",
       "      <td>Good product quality Fast delivery Excellent s...</td>\n",
       "      <td>0.997876</td>\n",
       "    </tr>\n",
       "  </tbody>\n",
       "</table>\n",
       "</div>"
      ],
      "text/plain": [
       "         date                                             review  sentiment\n",
       "2  2018-05-26  Good product quality Fast delivery Fast delive...   0.995992\n",
       "3  2018-05-26   Good product quality Excellent service by seller   0.985533\n",
       "4  2018-05-25                 Good product quality Fast delivery   0.761216\n",
       "5  2018-05-25  Fast delivery Good product quality Excellent s...   0.992783\n",
       "6  2018-05-25  Good product quality Fast delivery Excellent s...   0.997876"
      ]
     },
     "execution_count": 41,
     "metadata": {},
     "output_type": "execute_result"
    }
   ],
   "source": [
    "dff['sentiment'] = list(pred[:, 1])\n",
    "dff.head()"
   ]
  },
  {
   "cell_type": "code",
   "execution_count": 42,
   "metadata": {},
   "outputs": [
    {
     "data": {
      "text/html": [
       "<div>\n",
       "<style>\n",
       "    .dataframe thead tr:only-child th {\n",
       "        text-align: right;\n",
       "    }\n",
       "\n",
       "    .dataframe thead th {\n",
       "        text-align: left;\n",
       "    }\n",
       "\n",
       "    .dataframe tbody tr th {\n",
       "        vertical-align: top;\n",
       "    }\n",
       "</style>\n",
       "<table border=\"1\" class=\"dataframe\">\n",
       "  <thead>\n",
       "    <tr style=\"text-align: right;\">\n",
       "      <th></th>\n",
       "      <th>date</th>\n",
       "      <th>review</th>\n",
       "      <th>sentiment</th>\n",
       "      <th>month</th>\n",
       "      <th>year</th>\n",
       "      <th>year_month</th>\n",
       "    </tr>\n",
       "  </thead>\n",
       "  <tbody>\n",
       "    <tr>\n",
       "      <th>2</th>\n",
       "      <td>2018-05-26</td>\n",
       "      <td>Good product quality Fast delivery Fast delive...</td>\n",
       "      <td>0.995992</td>\n",
       "      <td>5</td>\n",
       "      <td>2018</td>\n",
       "      <td>2018-5</td>\n",
       "    </tr>\n",
       "    <tr>\n",
       "      <th>3</th>\n",
       "      <td>2018-05-26</td>\n",
       "      <td>Good product quality Excellent service by seller</td>\n",
       "      <td>0.985533</td>\n",
       "      <td>5</td>\n",
       "      <td>2018</td>\n",
       "      <td>2018-5</td>\n",
       "    </tr>\n",
       "    <tr>\n",
       "      <th>4</th>\n",
       "      <td>2018-05-25</td>\n",
       "      <td>Good product quality Fast delivery</td>\n",
       "      <td>0.761216</td>\n",
       "      <td>5</td>\n",
       "      <td>2018</td>\n",
       "      <td>2018-5</td>\n",
       "    </tr>\n",
       "  </tbody>\n",
       "</table>\n",
       "</div>"
      ],
      "text/plain": [
       "         date                                             review  sentiment  \\\n",
       "2  2018-05-26  Good product quality Fast delivery Fast delive...   0.995992   \n",
       "3  2018-05-26   Good product quality Excellent service by seller   0.985533   \n",
       "4  2018-05-25                 Good product quality Fast delivery   0.761216   \n",
       "\n",
       "   month  year year_month  \n",
       "2      5  2018     2018-5  \n",
       "3      5  2018     2018-5  \n",
       "4      5  2018     2018-5  "
      ]
     },
     "execution_count": 42,
     "metadata": {},
     "output_type": "execute_result"
    }
   ],
   "source": [
    "df_out = dff.copy()\n",
    "df_out['month'] = pd.to_datetime(df_out['date']).dt.month\n",
    "df_out['year'] = pd.to_datetime(df_out['date']).dt.year\n",
    "df_out['year_month'] = df_out['year'].astype(str) + '-' + df_out['month'].astype(str)\n",
    "\n",
    "df_out.head(3)"
   ]
  },
  {
   "cell_type": "code",
   "execution_count": 43,
   "metadata": {},
   "outputs": [
    {
     "data": {
      "text/html": [
       "<div>\n",
       "<style>\n",
       "    .dataframe thead tr:only-child th {\n",
       "        text-align: right;\n",
       "    }\n",
       "\n",
       "    .dataframe thead th {\n",
       "        text-align: left;\n",
       "    }\n",
       "\n",
       "    .dataframe tbody tr th {\n",
       "        vertical-align: top;\n",
       "    }\n",
       "</style>\n",
       "<table border=\"1\" class=\"dataframe\">\n",
       "  <thead>\n",
       "    <tr style=\"text-align: right;\">\n",
       "      <th></th>\n",
       "      <th>sentiment</th>\n",
       "    </tr>\n",
       "    <tr>\n",
       "      <th>year_month</th>\n",
       "      <th></th>\n",
       "    </tr>\n",
       "  </thead>\n",
       "  <tbody>\n",
       "    <tr>\n",
       "      <th>2017-10</th>\n",
       "      <td>0.783685</td>\n",
       "    </tr>\n",
       "    <tr>\n",
       "      <th>2017-11</th>\n",
       "      <td>0.662675</td>\n",
       "    </tr>\n",
       "    <tr>\n",
       "      <th>2017-12</th>\n",
       "      <td>0.652149</td>\n",
       "    </tr>\n",
       "    <tr>\n",
       "      <th>2018-1</th>\n",
       "      <td>0.696163</td>\n",
       "    </tr>\n",
       "    <tr>\n",
       "      <th>2018-2</th>\n",
       "      <td>0.741647</td>\n",
       "    </tr>\n",
       "    <tr>\n",
       "      <th>2018-3</th>\n",
       "      <td>0.617312</td>\n",
       "    </tr>\n",
       "    <tr>\n",
       "      <th>2018-4</th>\n",
       "      <td>0.714792</td>\n",
       "    </tr>\n",
       "    <tr>\n",
       "      <th>2018-5</th>\n",
       "      <td>0.595237</td>\n",
       "    </tr>\n",
       "  </tbody>\n",
       "</table>\n",
       "</div>"
      ],
      "text/plain": [
       "            sentiment\n",
       "year_month           \n",
       "2017-10      0.783685\n",
       "2017-11      0.662675\n",
       "2017-12      0.652149\n",
       "2018-1       0.696163\n",
       "2018-2       0.741647\n",
       "2018-3       0.617312\n",
       "2018-4       0.714792\n",
       "2018-5       0.595237"
      ]
     },
     "execution_count": 43,
     "metadata": {},
     "output_type": "execute_result"
    }
   ],
   "source": [
    "## group by date\n",
    "\n",
    "out = df_out[['year_month', 'sentiment']].groupby(['year_month']).mean()\n",
    "out"
   ]
  },
  {
   "cell_type": "code",
   "execution_count": 57,
   "metadata": {},
   "outputs": [
    {
     "data": {
      "image/png": "[encoded data removed]",
      "text/plain": [
       "<Figure size 576x288 with 1 Axes>"
      ]
     },
     "metadata": {},
     "output_type": "display_data"
    }
   ],
   "source": [
    "import matplotlib.pyplot as plt\n",
    "\n",
    "year = list(out.index)\n",
    "pop = list(out.sentiment)\n",
    "\n",
    "plt.figure(figsize=(8,4))\n",
    "plt.plot(year, pop, color='b')\n",
    "plt.xlabel('Date', size = 17)\n",
    "plt.ylabel('Sentiment Score', size = 17)\n",
    "# plt.title('Women Clothing review sentiment', size = 20)\n",
    "plt.xticks(rotation=90, size = 12)\n",
    "plt.yticks(size = 12)\n",
    "plt.ylim(ymin=0.2, ymax = 0.9)\n",
    "plt.show()"
   ]
  },
  {
   "cell_type": "markdown",
   "metadata": {},
   "source": [
    "## References\n",
    "Dealing with Unbalanced Classes in Machine Learning    \n",
    "http://www.deepideas.net/unbalanced-classes-machine-learning/  \n",
    "\n",
    "https://towardsdatascience.com/understanding-lstm-and-its-quick-implementation-in-keras-for-sentiment-analysis-af410fd85b47"
   ]
  },
  {
   "cell_type": "markdown",
   "metadata": {},
   "source": [
    "for binary_crossentropy: sigmoid activation, scalar target    \n",
    "for categorical_crossentropy: softmax activation, one-hot encoded target   \n",
    "https://stackoverflow.com/questions/42081257/keras-binary-crossentropy-vs-categorical-crossentropy-performance  \n",
    "\n",
    "svm code sample:   \n",
    "https://gist.github.com/bonzanini/c9248a239bbab0e0d42e"
   ]
  },
  {
   "cell_type": "markdown",
   "metadata": {},
   "source": [
    "https://www.kaggle.com/nafisur/keras-lstm\n",
    "\n",
    "Text Classification Using CNN, LSTM and visualize Word Embeddings: Part1-4    \n",
    "https://medium.com/@sabber/classifying-yelp-review-comments-using-lstm-and-word-embeddings-part-1-eb2275e4066b"
   ]
  }
 ],
 "metadata": {
  "kernelspec": {
   "display_name": "Python 3",
   "language": "python",
   "name": "python3"
  },
  "language_info": {
   "codemirror_mode": {
    "name": "ipython",
    "version": 3
   },
   "file_extension": ".py",
   "mimetype": "text/x-python",
   "name": "python",
   "nbconvert_exporter": "python",
   "pygments_lexer": "ipython3",
   "version": "3.6.2"
  }
 },
 "nbformat": 4,
 "nbformat_minor": 2
}
