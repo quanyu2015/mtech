{
 "cells": [
  {
   "cell_type": "code",
   "execution_count": 2,
   "metadata": {
    "collapsed": true
   },
   "outputs": [],
   "source": [
    "import json\n",
    "import pandas as pd\n",
    "import matplotlib.pyplot as plt\n",
    "import warnings \n",
    "\n",
    "warnings.simplefilter('ignore')\n",
    "%matplotlib inline"
   ]
  },
  {
   "cell_type": "code",
   "execution_count": 3,
   "metadata": {},
   "outputs": [
    {
     "data": {
      "text/html": [
       "<div>\n",
       "<style>\n",
       "    .dataframe thead tr:only-child th {\n",
       "        text-align: right;\n",
       "    }\n",
       "\n",
       "    .dataframe thead th {\n",
       "        text-align: left;\n",
       "    }\n",
       "\n",
       "    .dataframe tbody tr th {\n",
       "        vertical-align: top;\n",
       "    }\n",
       "</style>\n",
       "<table border=\"1\" class=\"dataframe\">\n",
       "  <thead>\n",
       "    <tr style=\"text-align: right;\">\n",
       "      <th></th>\n",
       "      <th>level</th>\n",
       "      <th>rate</th>\n",
       "      <th>uid</th>\n",
       "      <th>user</th>\n",
       "      <th>user_year</th>\n",
       "    </tr>\n",
       "  </thead>\n",
       "  <tbody>\n",
       "    <tr>\n",
       "      <th>0</th>\n",
       "      <td>2</td>\n",
       "      <td>40</td>\n",
       "      <td>9B592366185F025D11207926A19C615A</td>\n",
       "      <td>Honeygurl385</td>\n",
       "      <td>2015</td>\n",
       "    </tr>\n",
       "    <tr>\n",
       "      <th>1</th>\n",
       "      <td>5</td>\n",
       "      <td>50</td>\n",
       "      <td>DE44459A99806E4FF719F7B8894E0A28</td>\n",
       "      <td>Sordnaxela</td>\n",
       "      <td>2006</td>\n",
       "    </tr>\n",
       "    <tr>\n",
       "      <th>2</th>\n",
       "      <td>none</td>\n",
       "      <td>50</td>\n",
       "      <td>489FFEBDAE39F3B624289100C6FC9AC4</td>\n",
       "      <td>lorifX8088AW</td>\n",
       "      <td>2017</td>\n",
       "    </tr>\n",
       "    <tr>\n",
       "      <th>3</th>\n",
       "      <td>6</td>\n",
       "      <td>30</td>\n",
       "      <td>53914737C20758B841D5356ED067D5B1</td>\n",
       "      <td>roryjdoyle</td>\n",
       "      <td>2013</td>\n",
       "    </tr>\n",
       "    <tr>\n",
       "      <th>4</th>\n",
       "      <td>2</td>\n",
       "      <td>30</td>\n",
       "      <td>F672B733EA52AE5DD4A441BB0AE6D043</td>\n",
       "      <td>jepisco</td>\n",
       "      <td>2012</td>\n",
       "    </tr>\n",
       "  </tbody>\n",
       "</table>\n",
       "</div>"
      ],
      "text/plain": [
       "  level  rate                               uid          user  user_year\n",
       "0     2    40  9B592366185F025D11207926A19C615A  Honeygurl385       2015\n",
       "1     5    50  DE44459A99806E4FF719F7B8894E0A28    Sordnaxela       2006\n",
       "2  none    50  489FFEBDAE39F3B624289100C6FC9AC4  lorifX8088AW       2017\n",
       "3     6    30  53914737C20758B841D5356ED067D5B1    roryjdoyle       2013\n",
       "4     2    30  F672B733EA52AE5DD4A441BB0AE6D043       jepisco       2012"
      ]
     },
     "execution_count": 3,
     "metadata": {},
     "output_type": "execute_result"
    }
   ],
   "source": [
    "data = pd.read_json(\"trip_users.json\")\n",
    "data.iloc[:5,[2,3,5,6,7]]"
   ]
  },
  {
   "cell_type": "code",
   "execution_count": 15,
   "metadata": {},
   "outputs": [
    {
     "name": "stdout",
     "output_type": "stream",
     "text": [
      "{\n",
      "    \"city\": \"173\",\n",
      "    \"contribution\": \"710\",\n",
      "    \"vote\": \"279\",\n",
      "    \"photo\": \"223\"\n",
      "}\n"
     ]
    }
   ],
   "source": [
    "print(json.dumps(data['count'][3], indent=4))"
   ]
  },
  {
   "cell_type": "code",
   "execution_count": 12,
   "metadata": {},
   "outputs": [
    {
     "name": "stdout",
     "output_type": "stream",
     "text": [
      "{\n",
      "    \"tool\": \"mobile\",\n",
      "    \"title\": \"Just what we needed\",\n",
      "    \"date\": \"15 August 2017\",\n",
      "    \"cnt\": \"We arrived straight off a 14 hour flight and were happy to be allowed straight into our room. The room was large and clean and lovely. What we also loved was how close this was to the main attractions on Sentosa like the water park,\"\n",
      "}\n"
     ]
    }
   ],
   "source": [
    "print(json.dumps(data['review'][0], indent=4))"
   ]
  },
  {
   "cell_type": "code",
   "execution_count": 16,
   "metadata": {},
   "outputs": [
    {
     "name": "stdout",
     "output_type": "stream",
     "text": [
      "{\n",
      "    \"Very good\": \"5\",\n",
      "    \"Average\": \"1\",\n",
      "    \"Poor\": \"0\",\n",
      "    \"Terrible\": \"0\",\n",
      "    \"Excellent\": \"1\"\n",
      "}\n"
     ]
    }
   ],
   "source": [
    "print(json.dumps(data['distribution'][0], indent=4))"
   ]
  },
  {
   "cell_type": "code",
   "execution_count": 25,
   "metadata": {},
   "outputs": [
    {
     "data": {
      "text/plain": [
       "40    616\n",
       "30    451\n",
       "50    354\n",
       "20    182\n",
       "10    156\n",
       "Name: rate, dtype: int64"
      ]
     },
     "execution_count": 25,
     "metadata": {},
     "output_type": "execute_result"
    }
   ],
   "source": [
    "data['rate'].value_counts()"
   ]
  },
  {
   "cell_type": "code",
   "execution_count": 26,
   "metadata": {},
   "outputs": [
    {
     "data": {
      "image/png": "[encoded data removed]",
      "text/plain": [
       "<matplotlib.figure.Figure at 0x10f63e518>"
      ]
     },
     "metadata": {},
     "output_type": "display_data"
    }
   ],
   "source": [
    "labels = ['Very good','Average','Excellent','Poor','Terrible']\n",
    "sizes = data['rate'].value_counts().tolist()\n",
    "explode = (0.1, 0, 0, 0, 0)\n",
    "\n",
    "fig1, ax1 = plt.subplots()\n",
    "ax1.pie(sizes, explode=explode, labels=labels, autopct='%1.1f%%',\n",
    "        shadow=True, startangle=90)\n",
    "ax1.axis('equal')\n",
    "plt.show()"
   ]
  },
  {
   "cell_type": "code",
   "execution_count": 46,
   "metadata": {
    "collapsed": true
   },
   "outputs": [],
   "source": [
    "data.level[data.level == \"none\"] = '0'\n",
    "data.level = pd.to_numeric(data.level, errors='coerce')"
   ]
  },
  {
   "cell_type": "code",
   "execution_count": 58,
   "metadata": {},
   "outputs": [
    {
     "data": {
      "image/png": "[encoded data removed]",
      "text/plain": [
       "<matplotlib.figure.Figure at 0x10fd32048>"
      ]
     },
     "metadata": {},
     "output_type": "display_data"
    }
   ],
   "source": [
    "cnt = data['level'].value_counts()\n",
    "y1 = cnt.values\n",
    "x1 = cnt.index\n",
    "\n",
    "cnt = data['user_year'].value_counts()\n",
    "y2 = cnt.values\n",
    "x2 = cnt.index\n",
    "\n",
    "plt.figure(figsize=(12, 5))\n",
    "\n",
    "plt.subplot(1, 2, 1)\n",
    "plt.bar(x1, y1, width = 0.5)\n",
    "plt.ylabel('N of users', fontsize=15)\n",
    "plt.xlabel('Level', fontsize=15)\n",
    "plt.title('User Contribution level', fontsize=15)\n",
    "\n",
    "plt.subplot(1, 2, 2)\n",
    "plt.bar(x2, y2, width = 0.5)\n",
    "plt.ylabel('N of users', fontsize=15)\n",
    "plt.xlabel('Year', fontsize=15)\n",
    "plt.title('User membership year', fontsize=15)\n",
    "\n",
    "plt.show()"
   ]
  },
  {
   "cell_type": "code",
   "execution_count": 8,
   "metadata": {},
   "outputs": [
    {
     "data": {
      "text/plain": [
       "['15 August 2017',\n",
       " '19 February 2017',\n",
       " '14 August 2017',\n",
       " '13 August 2017',\n",
       " '11 August 2017']"
      ]
     },
     "execution_count": 8,
     "metadata": {},
     "output_type": "execute_result"
    }
   ],
   "source": [
    "date_all = [rev['date'] for rev in data['review']]\n",
    "date_all[:5]"
   ]
  },
  {
   "cell_type": "code",
   "execution_count": 21,
   "metadata": {},
   "outputs": [
    {
     "name": "stdout",
     "output_type": "stream",
     "text": [
      "[datetime.datetime(2017, 8, 15, 0, 0), datetime.datetime(2017, 2, 19, 0, 0), datetime.datetime(2017, 8, 14, 0, 0)]\n",
      "2017-08-15 00:00:00\n",
      "2010-01-28 00:00:00\n"
     ]
    }
   ],
   "source": [
    "from datetime import datetime\n",
    "\n",
    "date2 = [datetime.strptime(x, \"%d %B %Y\") for x in date_all]\n",
    "print(date2[:3])\n",
    "print(max(date2))\n",
    "print(min(date2))"
   ]
  },
  {
   "cell_type": "code",
   "execution_count": 41,
   "metadata": {},
   "outputs": [
    {
     "data": {
      "image/png": "[encoded data removed]",
      "text/plain": [
       "<matplotlib.figure.Figure at 0x1137ed128>"
      ]
     },
     "metadata": {},
     "output_type": "display_data"
    }
   ],
   "source": [
    "df = pd.DataFrame({'dates':date2})\n",
    "df.dates = pd.to_datetime(df.dates)\n",
    "\n",
    "# number of reviews per year\n",
    "df.groupby(df.dates.dt.year).count().plot(kind='bar', legend=False)\n",
    "plt.suptitle(\"Number of reviews per year\", fontsize=15)\n",
    "plt.show()"
   ]
  },
  {
   "cell_type": "code",
   "execution_count": 33,
   "metadata": {},
   "outputs": [
    {
     "data": {
      "text/plain": [
       "good    970\n",
       "bad     789\n",
       "Name: rating, dtype: int64"
      ]
     },
     "execution_count": 33,
     "metadata": {},
     "output_type": "execute_result"
    }
   ],
   "source": [
    "# generate a new column\n",
    "data['rating'] = \"good\"\n",
    "data.ix[data.rate<40, \"rating\"] = \"bad\"\n",
    "\n",
    "data.rating.value_counts()"
   ]
  },
  {
   "cell_type": "code",
   "execution_count": 40,
   "metadata": {},
   "outputs": [
    {
     "data": {
      "text/html": [
       "<div>\n",
       "<style>\n",
       "    .dataframe thead tr:only-child th {\n",
       "        text-align: right;\n",
       "    }\n",
       "\n",
       "    .dataframe thead th {\n",
       "        text-align: left;\n",
       "    }\n",
       "\n",
       "    .dataframe tbody tr th {\n",
       "        vertical-align: top;\n",
       "    }\n",
       "</style>\n",
       "<table border=\"1\" class=\"dataframe\">\n",
       "  <thead>\n",
       "    <tr style=\"text-align: right;\">\n",
       "      <th></th>\n",
       "      <th>city</th>\n",
       "      <th>contribution</th>\n",
       "      <th>photo</th>\n",
       "      <th>vote</th>\n",
       "    </tr>\n",
       "  </thead>\n",
       "  <tbody>\n",
       "    <tr>\n",
       "      <th>0</th>\n",
       "      <td>3</td>\n",
       "      <td>7</td>\n",
       "      <td>3</td>\n",
       "      <td>0</td>\n",
       "    </tr>\n",
       "    <tr>\n",
       "      <th>1</th>\n",
       "      <td>71</td>\n",
       "      <td>52</td>\n",
       "      <td>0</td>\n",
       "      <td>160</td>\n",
       "    </tr>\n",
       "    <tr>\n",
       "      <th>2</th>\n",
       "      <td>1</td>\n",
       "      <td>1</td>\n",
       "      <td>0</td>\n",
       "      <td>0</td>\n",
       "    </tr>\n",
       "    <tr>\n",
       "      <th>3</th>\n",
       "      <td>173</td>\n",
       "      <td>710</td>\n",
       "      <td>223</td>\n",
       "      <td>279</td>\n",
       "    </tr>\n",
       "    <tr>\n",
       "      <th>4</th>\n",
       "      <td>2</td>\n",
       "      <td>5</td>\n",
       "      <td>0</td>\n",
       "      <td>0</td>\n",
       "    </tr>\n",
       "  </tbody>\n",
       "</table>\n",
       "</div>"
      ],
      "text/plain": [
       "  city contribution photo vote\n",
       "0    3            7     3    0\n",
       "1   71           52     0  160\n",
       "2    1            1     0    0\n",
       "3  173          710   223  279\n",
       "4    2            5     0    0"
      ]
     },
     "execution_count": 40,
     "metadata": {},
     "output_type": "execute_result"
    }
   ],
   "source": [
    "# prepare data\n",
    "df = pd.DataFrame(data['count'].tolist())\n",
    "df.head(5)\n",
    "# decision tree\n"
   ]
  },
  {
   "cell_type": "code",
   "execution_count": null,
   "metadata": {
    "collapsed": true
   },
   "outputs": [],
   "source": []
  }
 ],
 "metadata": {
  "kernelspec": {
   "display_name": "Python 3",
   "language": "python",
   "name": "python3"
  },
  "language_info": {
   "codemirror_mode": {
    "name": "ipython",
    "version": 3
   },
   "file_extension": ".py",
   "mimetype": "text/x-python",
   "name": "python",
   "nbconvert_exporter": "python",
   "pygments_lexer": "ipython3",
   "version": "3.5.3"
  }
 },
 "nbformat": 4,
 "nbformat_minor": 2
}
